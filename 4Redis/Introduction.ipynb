{
 "cells": [
  {
   "cell_type": "markdown",
   "metadata": {},
   "source": [
    "# Introduction"
   ]
  },
  {
   "cell_type": "markdown",
   "metadata": {},
   "source": [
    "## Présentation"
   ]
  },
  {
   "cell_type": "markdown",
   "metadata": {},
   "source": [
    "Redis est une base de données NoSQL qui se classe dans la catégorie \"data structure server\". C'est  un système permettant de traiter, de manière très performante, des données sous la forme clés/valeurs. Cette performance est obtenue car les données sont stockées directement sur la mémoire RAM. Cela permet d'accéder très facilement aux données \n",
    "\n",
    "La clé permet de récupérer et d'identifier de manière unique la donnée. Redis ne permet pas de stocker des modèles de données très complexes il faut donc ruser pour créer une structure de données complète et complexe."
   ]
  },
  {
   "cell_type": "markdown",
   "metadata": {},
   "source": [
    "## Les données "
   ]
  },
  {
   "cell_type": "markdown",
   "metadata": {},
   "source": [
    "\n",
    "\n",
    "Les valeurs peuvent appartenir aux types suivants:\n",
    "\n",
    "- chaînes de caractères\n",
    "- compteurs numériques (les données numériques seront stockées dans la base sous la forme de chaîne de caractères)\n",
    "- listes \n",
    "- sets ou sets ordonnées\n",
    "- dictionnaires"
   ]
  },
  {
   "cell_type": "markdown",
   "metadata": {},
   "source": [
    "## Installation"
   ]
  },
  {
   "cell_type": "markdown",
   "metadata": {},
   "source": [
    "Pour installer la librairie de Python permettant d'intéragir avec Redis\n",
    "\n",
    "`pip install redis`\n",
    "\n",
    "ou si on utilise pipenv comme dans notre cas \n",
    "\n",
    "`pipenv install redis`"
   ]
  },
  {
   "cell_type": "markdown",
   "metadata": {},
   "source": [
    "# Let's play"
   ]
  },
  {
   "cell_type": "code",
   "execution_count": 5,
   "metadata": {
    "ExecuteTime": {
     "end_time": "2018-12-04T08:25:39.071270Z",
     "start_time": "2018-12-04T08:25:39.068233Z"
    }
   },
   "outputs": [],
   "source": [
    "import redis\n",
    "\n",
    "LOCAL = False"
   ]
  },
  {
   "cell_type": "code",
   "execution_count": 6,
   "metadata": {
    "ExecuteTime": {
     "end_time": "2018-12-04T08:25:39.317259Z",
     "start_time": "2018-12-04T08:25:39.312951Z"
    }
   },
   "outputs": [],
   "source": [
    "redis_client = redis.Redis(host='localhost', port=6379, decode_responses=True)"
   ]
  },
  {
   "cell_type": "markdown",
   "metadata": {},
   "source": [
    "Pour tester la connexion on peut pinguer la base de données :"
   ]
  },
  {
   "cell_type": "code",
   "execution_count": 7,
   "metadata": {
    "ExecuteTime": {
     "end_time": "2018-12-04T08:25:40.167383Z",
     "start_time": "2018-12-04T08:25:40.159274Z"
    }
   },
   "outputs": [
    {
     "data": {
      "text/plain": [
       "True"
      ]
     },
     "execution_count": 7,
     "metadata": {},
     "output_type": "execute_result"
    }
   ],
   "source": [
    "redis_client.ping()"
   ]
  },
  {
   "cell_type": "markdown",
   "metadata": {},
   "source": [
    "Vous pouvez regarder toutes les configurations utilisé par Redis, beaucoup ne sont pas utiles à notre niveau mais vous pouvez voir par exemple, `database`, `maxclients`, `port` , `timeout` qui peuvent être utile de modifier pour différentes applications"
   ]
  },
  {
   "cell_type": "code",
   "execution_count": 8,
   "metadata": {
    "ExecuteTime": {
     "end_time": "2018-12-04T08:25:40.857904Z",
     "start_time": "2018-12-04T08:25:40.847839Z"
    }
   },
   "outputs": [
    {
     "data": {
      "text/plain": [
       "{'repl-diskless-load': 'disabled',\n",
       " 'dynamic-hz': 'yes',\n",
       " 'lazyfree-lazy-expire': 'no',\n",
       " 'slowlog-log-slower-than': '10000',\n",
       " 'auto-aof-rewrite-min-size': '67108864',\n",
       " 'timeout': '0',\n",
       " 'lfu-decay-time': '1',\n",
       " 'active-defrag-threshold-lower': '10',\n",
       " 'syslog-ident': 'redis',\n",
       " 'active-defrag-threshold-upper': '100',\n",
       " 'cluster-slave-no-failover': 'no',\n",
       " 'replica-lazy-flush': 'no',\n",
       " 'set-max-listpack-value': '64',\n",
       " 'tls-key-file': '',\n",
       " 'auto-aof-rewrite-percentage': '100',\n",
       " 'acllog-max-len': '128',\n",
       " 'notify-keyspace-events': '',\n",
       " 'syslog-enabled': 'no',\n",
       " 'daemonize': 'no',\n",
       " 'zset-max-listpack-entries': '128',\n",
       " 'zset-max-ziplist-value': '64',\n",
       " 'replica-priority': '100',\n",
       " 'rdbchecksum': 'yes',\n",
       " 'slaveof': '',\n",
       " 'replica-announced': 'yes',\n",
       " 'repl-diskless-sync': 'yes',\n",
       " 'repl-backlog-ttl': '3600',\n",
       " 'set-max-intset-entries': '512',\n",
       " 'aof-load-truncated': 'yes',\n",
       " 'no-appendfsync-on-rewrite': 'no',\n",
       " 'bio_cpulist': '',\n",
       " 'jemalloc-bg-thread': 'yes',\n",
       " 'logfile': '',\n",
       " 'acl-pubsub-default': 'resetchannels',\n",
       " 'tcp-backlog': '511',\n",
       " 'shutdown-on-sigterm': 'default',\n",
       " 'locale-collate': '',\n",
       " 'slave-priority': '100',\n",
       " 'cluster-enabled': 'no',\n",
       " 'slowlog-max-len': '128',\n",
       " 'cluster-announce-ip': '',\n",
       " 'active-defrag-cycle-max': '25',\n",
       " 'tls-session-cache-timeout': '300',\n",
       " 'set-proc-title': 'yes',\n",
       " 'cluster-allow-reads-when-down': 'no',\n",
       " 'dbfilename': 'dump.rdb',\n",
       " 'repl-timeout': '60',\n",
       " 'tls-cert-file': '',\n",
       " 'appendonly': 'no',\n",
       " 'cluster-slave-validity-factor': '10',\n",
       " 'disable-thp': 'yes',\n",
       " 'cluster-allow-replica-migration': 'yes',\n",
       " 'masterauth': '',\n",
       " 'tls-cluster': 'no',\n",
       " 'replica-read-only': 'yes',\n",
       " 'appendfilename': 'appendonly.aof',\n",
       " 'tls-client-key-file': '',\n",
       " 'appenddirname': 'appendonlydir',\n",
       " 'slave-lazy-flush': 'no',\n",
       " 'rdb-save-incremental-fsync': 'yes',\n",
       " 'aclfile': '',\n",
       " 'tls-auth-clients': 'yes',\n",
       " 'min-replicas-max-lag': '10',\n",
       " 'repl-diskless-sync-delay': '5',\n",
       " 'active-defrag-ignore-bytes': '104857600',\n",
       " 'list-max-ziplist-size': '-2',\n",
       " 'bgsave_cpulist': '',\n",
       " 'repl-backlog-size': '1048576',\n",
       " 'bind-source-addr': '',\n",
       " 'supervised': 'no',\n",
       " 'oom-score-adj': 'no',\n",
       " 'unixsocket': '',\n",
       " 'rdb-del-sync-files': 'no',\n",
       " 'io-threads-do-reads': 'no',\n",
       " 'bind': '* -::*',\n",
       " 'slave-announce-port': '0',\n",
       " 'proto-max-bulk-len': '536870912',\n",
       " 'latency-monitor-threshold': '0',\n",
       " 'maxmemory-policy': 'noeviction',\n",
       " 'tls-port': '0',\n",
       " 'hz': '10',\n",
       " 'ignore-warnings': '',\n",
       " 'cluster-announce-hostname': '',\n",
       " 'shutdown-on-sigint': 'default',\n",
       " 'tls-session-cache-size': '20480',\n",
       " 'hash-max-listpack-value': '64',\n",
       " 'maxclients': '10000',\n",
       " 'tls-protocols': '',\n",
       " 'propagation-error-behavior': 'ignore',\n",
       " 'replica-announce-ip': '',\n",
       " 'cluster-announce-human-nodename': '',\n",
       " 'cluster-allow-pubsubshard-when-down': 'yes',\n",
       " 'cluster-link-sendbuf-limit': '0',\n",
       " 'databases': '16',\n",
       " 'stop-writes-on-bgsave-error': 'yes',\n",
       " 'aof-rewrite-incremental-fsync': 'yes',\n",
       " 'repl-disable-tcp-nodelay': 'no',\n",
       " 'slave-serve-stale-data': 'yes',\n",
       " 'cluster-announce-port': '0',\n",
       " 'enable-module-command': 'no',\n",
       " 'set-max-listpack-entries': '128',\n",
       " 'tls-dh-params-file': '',\n",
       " 'tls-replication': 'no',\n",
       " 'cluster-migration-barrier': '1',\n",
       " 'list-max-listpack-size': '-2',\n",
       " 'cluster-preferred-endpoint-type': 'ip',\n",
       " 'tls-ciphers': '',\n",
       " 'protected-mode': 'no',\n",
       " 'cluster-node-timeout': '15000',\n",
       " 'repl-ping-slave-period': '10',\n",
       " 'server_cpulist': '',\n",
       " 'slave-announce-ip': '',\n",
       " 'active-defrag-cycle-min': '1',\n",
       " 'activedefrag': 'no',\n",
       " 'min-replicas-to-write': '0',\n",
       " 'shutdown-timeout': '10',\n",
       " 'aof-use-rdb-preamble': 'yes',\n",
       " 'lazyfree-lazy-user-del': 'no',\n",
       " 'hash-max-listpack-entries': '512',\n",
       " 'tls-session-caching': 'yes',\n",
       " 'lazyfree-lazy-user-flush': 'no',\n",
       " 'replicaof': '',\n",
       " 'client-output-buffer-limit': 'normal 0 0 0 slave 268435456 67108864 60 pubsub 33554432 8388608 60',\n",
       " 'stream-node-max-entries': '100',\n",
       " 'maxmemory-samples': '5',\n",
       " 'tls-ca-cert-dir': '',\n",
       " 'zset-max-listpack-value': '64',\n",
       " 'slave-read-only': 'yes',\n",
       " 'port': '6379',\n",
       " 'replica-ignore-maxmemory': 'yes',\n",
       " 'slave-ignore-maxmemory': 'yes',\n",
       " 'loglevel': 'notice',\n",
       " 'masteruser': '',\n",
       " 'tls-client-cert-file': '',\n",
       " 'maxmemory': '0',\n",
       " 'tls-ciphersuites': '',\n",
       " 'active-defrag-max-scan-fields': '1000',\n",
       " 'tcp-keepalive': '300',\n",
       " 'cluster-announce-tls-port': '0',\n",
       " 'unixsocketperm': '0',\n",
       " 'activerehashing': 'yes',\n",
       " 'repl-ping-replica-period': '10',\n",
       " 'proc-title-template': '{title} {listen-addr} {server-mode}',\n",
       " 'tracking-table-max-keys': '1000000',\n",
       " 'always-show-logo': 'no',\n",
       " 'lfu-log-factor': '10',\n",
       " 'zset-max-ziplist-entries': '128',\n",
       " 'enable-debug-command': 'no',\n",
       " 'tls-ca-cert-file': '',\n",
       " 'crash-log-enabled': 'yes',\n",
       " 'rdbcompression': 'yes',\n",
       " 'lazyfree-lazy-eviction': 'no',\n",
       " 'cluster-require-full-coverage': 'yes',\n",
       " 'maxmemory-clients': '0',\n",
       " 'sanitize-dump-payload': 'no',\n",
       " 'list-compress-depth': '0',\n",
       " 'latency-tracking-info-percentiles': '50 99 99.9',\n",
       " 'socket-mark-id': '0',\n",
       " 'lazyfree-lazy-server-del': 'no',\n",
       " 'replica-announce-port': '0',\n",
       " 'hll-sparse-max-bytes': '3000',\n",
       " 'client-query-buffer-limit': '1073741824',\n",
       " 'syslog-facility': 'local0',\n",
       " 'save': '3600 1 300 100 60 10000',\n",
       " 'aof-timestamp-enabled': 'no',\n",
       " 'cluster-replica-validity-factor': '10',\n",
       " 'cluster-port': '0',\n",
       " 'tls-prefer-server-ciphers': 'no',\n",
       " 'enable-protected-configs': 'no',\n",
       " 'io-threads': '1',\n",
       " 'cluster-config-file': 'nodes.conf',\n",
       " 'aof_rewrite_cpulist': '',\n",
       " 'min-slaves-max-lag': '10',\n",
       " 'replica-ignore-disk-write-errors': 'no',\n",
       " 'pidfile': '',\n",
       " 'cluster-replica-no-failover': 'no',\n",
       " 'tls-client-key-file-pass': '',\n",
       " 'maxmemory-eviction-tenacity': '10',\n",
       " 'hash-max-ziplist-value': '64',\n",
       " 'cluster-announce-bus-port': '0',\n",
       " 'busy-reply-threshold': '5000',\n",
       " 'hash-max-ziplist-entries': '512',\n",
       " 'lua-time-limit': '5000',\n",
       " 'min-slaves-to-write': '0',\n",
       " 'dir': '/data',\n",
       " 'oom-score-adj-values': '0 200 800',\n",
       " 'active-expire-effort': '1',\n",
       " 'stream-node-max-bytes': '4096',\n",
       " 'requirepass': '',\n",
       " 'replica-serve-stale-data': 'yes',\n",
       " 'repl-diskless-sync-max-replicas': '0',\n",
       " 'tls-key-file-pass': '',\n",
       " 'crash-memcheck-enabled': 'yes',\n",
       " 'latency-tracking': 'yes',\n",
       " 'appendfsync': 'everysec'}"
      ]
     },
     "execution_count": 8,
     "metadata": {},
     "output_type": "execute_result"
    }
   ],
   "source": [
    "redis_client.config_get()"
   ]
  },
  {
   "cell_type": "markdown",
   "metadata": {},
   "source": [
    "## Stockage clé valeurs"
   ]
  },
  {
   "cell_type": "markdown",
   "metadata": {},
   "source": [
    "Pour stocker une valeur correspondant à une clé "
   ]
  },
  {
   "cell_type": "code",
   "execution_count": 9,
   "metadata": {
    "ExecuteTime": {
     "end_time": "2018-12-04T08:25:41.694243Z",
     "start_time": "2018-12-04T08:25:41.688105Z"
    }
   },
   "outputs": [
    {
     "data": {
      "text/plain": [
       "True"
      ]
     },
     "execution_count": 9,
     "metadata": {},
     "output_type": "execute_result"
    }
   ],
   "source": [
    "KEY = \"name\"\n",
    "VALUE = \"yourname\"\n",
    "redis_client.set(KEY, VALUE)"
   ]
  },
  {
   "cell_type": "markdown",
   "metadata": {},
   "source": [
    "True montre que le stockage s'est bien déroulé. "
   ]
  },
  {
   "cell_type": "markdown",
   "metadata": {},
   "source": [
    "Pour récupérer la valeur stocké il suffit d'appeler la méthode `GET` sur cette clé"
   ]
  },
  {
   "cell_type": "code",
   "execution_count": 10,
   "metadata": {
    "ExecuteTime": {
     "end_time": "2018-12-04T08:25:42.688807Z",
     "start_time": "2018-12-04T08:25:42.682023Z"
    }
   },
   "outputs": [
    {
     "data": {
      "text/plain": [
       "'yourname'"
      ]
     },
     "execution_count": 10,
     "metadata": {},
     "output_type": "execute_result"
    }
   ],
   "source": [
    "redis_client.get(KEY)"
   ]
  },
  {
   "cell_type": "markdown",
   "metadata": {},
   "source": [
    "Vous pouvez voir que à l'aide du `b` que la réponse n'est pas exactement ce que l'on a stocké mais une représentation en bytes de notre chaine de charactères. "
   ]
  },
  {
   "cell_type": "code",
   "execution_count": 50,
   "metadata": {
    "ExecuteTime": {
     "end_time": "2018-12-04T08:25:43.214343Z",
     "start_time": "2018-12-04T08:25:43.204141Z"
    }
   },
   "outputs": [],
   "source": [
    "assert redis_client.get(KEY) == VALUE, \"Les valeurs ne correspondent pas\""
   ]
  },
  {
   "cell_type": "markdown",
   "metadata": {},
   "source": [
    "Pour cela, en python, il faut appeler la méthode `decode()` pour transformer des bytes en string "
   ]
  },
  {
   "cell_type": "code",
   "execution_count": 55,
   "metadata": {
    "ExecuteTime": {
     "end_time": "2018-12-04T08:25:44.385530Z",
     "start_time": "2018-12-04T08:25:44.381006Z"
    }
   },
   "outputs": [],
   "source": [
    "value_from_redis = redis_client.get(KEY)\n",
    "\n",
    "# Check if the value is bytes and decode if necessary\n",
    "if isinstance(value_from_redis, bytes):\n",
    "    value_from_redis = value_from_redis.decode()\n",
    "\n",
    "# Now value_from_redis is guaranteed to be a string\n",
    "assert value_from_redis == VALUE, \"les valeurs ne correspondent pas\"\n"
   ]
  },
  {
   "cell_type": "markdown",
   "metadata": {},
   "source": [
    "On peut préciser au client de décoder les réponses et de les transformer directement en strings"
   ]
  },
  {
   "cell_type": "code",
   "execution_count": 56,
   "metadata": {
    "ExecuteTime": {
     "end_time": "2018-12-04T08:26:03.568675Z",
     "start_time": "2018-12-04T08:26:03.563799Z"
    }
   },
   "outputs": [],
   "source": [
    "redis_client = redis.StrictRedis(host='localhost' if LOCAL else 'redis', port=6379, charset='utf-8', decode_responses=True)"
   ]
  },
  {
   "cell_type": "code",
   "execution_count": 57,
   "metadata": {
    "ExecuteTime": {
     "end_time": "2018-12-04T08:26:04.033465Z",
     "start_time": "2018-12-04T08:26:04.023275Z"
    }
   },
   "outputs": [
    {
     "ename": "ConnectionError",
     "evalue": "Error 11001 connecting to redis:6379. getaddrinfo failed.",
     "output_type": "error",
     "traceback": [
      "\u001b[1;31m---------------------------------------------------------------------------\u001b[0m",
      "\u001b[1;31mgaierror\u001b[0m                                  Traceback (most recent call last)",
      "File \u001b[1;32mc:\\Users\\arthu\\AppData\\Local\\Programs\\Python\\Python311\\Lib\\site-packages\\redis\\connection.py:264\u001b[0m, in \u001b[0;36mAbstractConnection.connect\u001b[1;34m(self)\u001b[0m\n\u001b[0;32m    263\u001b[0m \u001b[39mtry\u001b[39;00m:\n\u001b[1;32m--> 264\u001b[0m     sock \u001b[39m=\u001b[39m \u001b[39mself\u001b[39;49m\u001b[39m.\u001b[39;49mretry\u001b[39m.\u001b[39;49mcall_with_retry(\n\u001b[0;32m    265\u001b[0m         \u001b[39mlambda\u001b[39;49;00m: \u001b[39mself\u001b[39;49m\u001b[39m.\u001b[39;49m_connect(), \u001b[39mlambda\u001b[39;49;00m error: \u001b[39mself\u001b[39;49m\u001b[39m.\u001b[39;49mdisconnect(error)\n\u001b[0;32m    266\u001b[0m     )\n\u001b[0;32m    267\u001b[0m \u001b[39mexcept\u001b[39;00m socket\u001b[39m.\u001b[39mtimeout:\n",
      "File \u001b[1;32mc:\\Users\\arthu\\AppData\\Local\\Programs\\Python\\Python311\\Lib\\site-packages\\redis\\retry.py:46\u001b[0m, in \u001b[0;36mRetry.call_with_retry\u001b[1;34m(self, do, fail)\u001b[0m\n\u001b[0;32m     45\u001b[0m \u001b[39mtry\u001b[39;00m:\n\u001b[1;32m---> 46\u001b[0m     \u001b[39mreturn\u001b[39;00m do()\n\u001b[0;32m     47\u001b[0m \u001b[39mexcept\u001b[39;00m \u001b[39mself\u001b[39m\u001b[39m.\u001b[39m_supported_errors \u001b[39mas\u001b[39;00m error:\n",
      "File \u001b[1;32mc:\\Users\\arthu\\AppData\\Local\\Programs\\Python\\Python311\\Lib\\site-packages\\redis\\connection.py:265\u001b[0m, in \u001b[0;36mAbstractConnection.connect.<locals>.<lambda>\u001b[1;34m()\u001b[0m\n\u001b[0;32m    263\u001b[0m \u001b[39mtry\u001b[39;00m:\n\u001b[0;32m    264\u001b[0m     sock \u001b[39m=\u001b[39m \u001b[39mself\u001b[39m\u001b[39m.\u001b[39mretry\u001b[39m.\u001b[39mcall_with_retry(\n\u001b[1;32m--> 265\u001b[0m         \u001b[39mlambda\u001b[39;00m: \u001b[39mself\u001b[39;49m\u001b[39m.\u001b[39;49m_connect(), \u001b[39mlambda\u001b[39;00m error: \u001b[39mself\u001b[39m\u001b[39m.\u001b[39mdisconnect(error)\n\u001b[0;32m    266\u001b[0m     )\n\u001b[0;32m    267\u001b[0m \u001b[39mexcept\u001b[39;00m socket\u001b[39m.\u001b[39mtimeout:\n",
      "File \u001b[1;32mc:\\Users\\arthu\\AppData\\Local\\Programs\\Python\\Python311\\Lib\\site-packages\\redis\\connection.py:595\u001b[0m, in \u001b[0;36mConnection._connect\u001b[1;34m(self)\u001b[0m\n\u001b[0;32m    594\u001b[0m err \u001b[39m=\u001b[39m \u001b[39mNone\u001b[39;00m\n\u001b[1;32m--> 595\u001b[0m \u001b[39mfor\u001b[39;00m res \u001b[39min\u001b[39;00m socket\u001b[39m.\u001b[39;49mgetaddrinfo(\n\u001b[0;32m    596\u001b[0m     \u001b[39mself\u001b[39;49m\u001b[39m.\u001b[39;49mhost, \u001b[39mself\u001b[39;49m\u001b[39m.\u001b[39;49mport, \u001b[39mself\u001b[39;49m\u001b[39m.\u001b[39;49msocket_type, socket\u001b[39m.\u001b[39;49mSOCK_STREAM\n\u001b[0;32m    597\u001b[0m ):\n\u001b[0;32m    598\u001b[0m     family, socktype, proto, canonname, socket_address \u001b[39m=\u001b[39m res\n",
      "File \u001b[1;32mc:\\Users\\arthu\\AppData\\Local\\Programs\\Python\\Python311\\Lib\\socket.py:962\u001b[0m, in \u001b[0;36mgetaddrinfo\u001b[1;34m(host, port, family, type, proto, flags)\u001b[0m\n\u001b[0;32m    961\u001b[0m addrlist \u001b[39m=\u001b[39m []\n\u001b[1;32m--> 962\u001b[0m \u001b[39mfor\u001b[39;00m res \u001b[39min\u001b[39;00m _socket\u001b[39m.\u001b[39;49mgetaddrinfo(host, port, family, \u001b[39mtype\u001b[39;49m, proto, flags):\n\u001b[0;32m    963\u001b[0m     af, socktype, proto, canonname, sa \u001b[39m=\u001b[39m res\n",
      "\u001b[1;31mgaierror\u001b[0m: [Errno 11001] getaddrinfo failed",
      "\nDuring handling of the above exception, another exception occurred:\n",
      "\u001b[1;31mConnectionError\u001b[0m                           Traceback (most recent call last)",
      "\u001b[1;32mc:\\Users\\arthu\\Documents\\GitHub\\DataEngineerTools\\4Redis\\Introduction.ipynb Cell 27\u001b[0m line \u001b[0;36m1\n\u001b[1;32m----> <a href='vscode-notebook-cell:/c%3A/Users/arthu/Documents/GitHub/DataEngineerTools/4Redis/Introduction.ipynb#X35sZmlsZQ%3D%3D?line=0'>1</a>\u001b[0m \u001b[39massert\u001b[39;00m redis_client\u001b[39m.\u001b[39;49mget(KEY) \u001b[39m==\u001b[39m VALUE\n",
      "File \u001b[1;32mc:\\Users\\arthu\\AppData\\Local\\Programs\\Python\\Python311\\Lib\\site-packages\\redis\\commands\\core.py:1829\u001b[0m, in \u001b[0;36mBasicKeyCommands.get\u001b[1;34m(self, name)\u001b[0m\n\u001b[0;32m   1823\u001b[0m \u001b[39mdef\u001b[39;00m \u001b[39mget\u001b[39m(\u001b[39mself\u001b[39m, name: KeyT) \u001b[39m-\u001b[39m\u001b[39m>\u001b[39m ResponseT:\n\u001b[0;32m   1824\u001b[0m \u001b[39m    \u001b[39m\u001b[39m\"\"\"\u001b[39;00m\n\u001b[0;32m   1825\u001b[0m \u001b[39m    Return the value at key ``name``, or None if the key doesn't exist\u001b[39;00m\n\u001b[0;32m   1826\u001b[0m \n\u001b[0;32m   1827\u001b[0m \u001b[39m    For more information see https://redis.io/commands/get\u001b[39;00m\n\u001b[0;32m   1828\u001b[0m \u001b[39m    \"\"\"\u001b[39;00m\n\u001b[1;32m-> 1829\u001b[0m     \u001b[39mreturn\u001b[39;00m \u001b[39mself\u001b[39;49m\u001b[39m.\u001b[39;49mexecute_command(\u001b[39m\"\u001b[39;49m\u001b[39mGET\u001b[39;49m\u001b[39m\"\u001b[39;49m, name)\n",
      "File \u001b[1;32mc:\\Users\\arthu\\AppData\\Local\\Programs\\Python\\Python311\\Lib\\site-packages\\redis\\client.py:533\u001b[0m, in \u001b[0;36mRedis.execute_command\u001b[1;34m(self, *args, **options)\u001b[0m\n\u001b[0;32m    531\u001b[0m pool \u001b[39m=\u001b[39m \u001b[39mself\u001b[39m\u001b[39m.\u001b[39mconnection_pool\n\u001b[0;32m    532\u001b[0m command_name \u001b[39m=\u001b[39m args[\u001b[39m0\u001b[39m]\n\u001b[1;32m--> 533\u001b[0m conn \u001b[39m=\u001b[39m \u001b[39mself\u001b[39m\u001b[39m.\u001b[39mconnection \u001b[39mor\u001b[39;00m pool\u001b[39m.\u001b[39;49mget_connection(command_name, \u001b[39m*\u001b[39;49m\u001b[39m*\u001b[39;49moptions)\n\u001b[0;32m    535\u001b[0m \u001b[39mtry\u001b[39;00m:\n\u001b[0;32m    536\u001b[0m     \u001b[39mreturn\u001b[39;00m conn\u001b[39m.\u001b[39mretry\u001b[39m.\u001b[39mcall_with_retry(\n\u001b[0;32m    537\u001b[0m         \u001b[39mlambda\u001b[39;00m: \u001b[39mself\u001b[39m\u001b[39m.\u001b[39m_send_command_parse_response(\n\u001b[0;32m    538\u001b[0m             conn, command_name, \u001b[39m*\u001b[39margs, \u001b[39m*\u001b[39m\u001b[39m*\u001b[39moptions\n\u001b[0;32m    539\u001b[0m         ),\n\u001b[0;32m    540\u001b[0m         \u001b[39mlambda\u001b[39;00m error: \u001b[39mself\u001b[39m\u001b[39m.\u001b[39m_disconnect_raise(conn, error),\n\u001b[0;32m    541\u001b[0m     )\n",
      "File \u001b[1;32mc:\\Users\\arthu\\AppData\\Local\\Programs\\Python\\Python311\\Lib\\site-packages\\redis\\connection.py:1086\u001b[0m, in \u001b[0;36mConnectionPool.get_connection\u001b[1;34m(self, command_name, *keys, **options)\u001b[0m\n\u001b[0;32m   1082\u001b[0m     \u001b[39mself\u001b[39m\u001b[39m.\u001b[39m_in_use_connections\u001b[39m.\u001b[39madd(connection)\n\u001b[0;32m   1084\u001b[0m \u001b[39mtry\u001b[39;00m:\n\u001b[0;32m   1085\u001b[0m     \u001b[39m# ensure this connection is connected to Redis\u001b[39;00m\n\u001b[1;32m-> 1086\u001b[0m     connection\u001b[39m.\u001b[39;49mconnect()\n\u001b[0;32m   1087\u001b[0m     \u001b[39m# connections that the pool provides should be ready to send\u001b[39;00m\n\u001b[0;32m   1088\u001b[0m     \u001b[39m# a command. if not, the connection was either returned to the\u001b[39;00m\n\u001b[0;32m   1089\u001b[0m     \u001b[39m# pool before all data has been read or the socket has been\u001b[39;00m\n\u001b[0;32m   1090\u001b[0m     \u001b[39m# closed. either way, reconnect and verify everything is good.\u001b[39;00m\n\u001b[0;32m   1091\u001b[0m     \u001b[39mtry\u001b[39;00m:\n",
      "File \u001b[1;32mc:\\Users\\arthu\\AppData\\Local\\Programs\\Python\\Python311\\Lib\\site-packages\\redis\\connection.py:270\u001b[0m, in \u001b[0;36mAbstractConnection.connect\u001b[1;34m(self)\u001b[0m\n\u001b[0;32m    268\u001b[0m     \u001b[39mraise\u001b[39;00m \u001b[39mTimeoutError\u001b[39;00m(\u001b[39m\"\u001b[39m\u001b[39mTimeout connecting to server\u001b[39m\u001b[39m\"\u001b[39m)\n\u001b[0;32m    269\u001b[0m \u001b[39mexcept\u001b[39;00m \u001b[39mOSError\u001b[39;00m \u001b[39mas\u001b[39;00m e:\n\u001b[1;32m--> 270\u001b[0m     \u001b[39mraise\u001b[39;00m \u001b[39mConnectionError\u001b[39;00m(\u001b[39mself\u001b[39m\u001b[39m.\u001b[39m_error_message(e))\n\u001b[0;32m    272\u001b[0m \u001b[39mself\u001b[39m\u001b[39m.\u001b[39m_sock \u001b[39m=\u001b[39m sock\n\u001b[0;32m    273\u001b[0m \u001b[39mtry\u001b[39;00m:\n",
      "\u001b[1;31mConnectionError\u001b[0m: Error 11001 connecting to redis:6379. getaddrinfo failed."
     ]
    }
   ],
   "source": [
    "assert redis_client.get(KEY) == VALUE"
   ]
  },
  {
   "cell_type": "markdown",
   "metadata": {},
   "source": [
    "Les valeurs peuvent aussi être des entiers"
   ]
  },
  {
   "cell_type": "code",
   "execution_count": 11,
   "metadata": {
    "ExecuteTime": {
     "end_time": "2018-12-04T08:26:06.379973Z",
     "start_time": "2018-12-04T08:26:06.373205Z"
    }
   },
   "outputs": [
    {
     "data": {
      "text/plain": [
       "True"
      ]
     },
     "execution_count": 11,
     "metadata": {},
     "output_type": "execute_result"
    }
   ],
   "source": [
    "KEY = \"age\"\n",
    "VALUE = 20\n",
    "\n",
    "redis_client.set(KEY, VALUE)"
   ]
  },
  {
   "cell_type": "code",
   "execution_count": 12,
   "metadata": {
    "ExecuteTime": {
     "end_time": "2018-12-04T08:26:07.073320Z",
     "start_time": "2018-12-04T08:26:07.066581Z"
    }
   },
   "outputs": [
    {
     "data": {
      "text/plain": [
       "'20'"
      ]
     },
     "execution_count": 12,
     "metadata": {},
     "output_type": "execute_result"
    }
   ],
   "source": [
    "redis_client.get(KEY)"
   ]
  },
  {
   "cell_type": "markdown",
   "metadata": {},
   "source": [
    "Vous pouvez alors utiliser la méthode `incr` pour incrémenter cet entier. Il faut faire attention puisque redis renvoie toujours les entiers comme des chaines de charactères."
   ]
  },
  {
   "cell_type": "code",
   "execution_count": 13,
   "metadata": {
    "ExecuteTime": {
     "end_time": "2018-12-04T08:26:07.706424Z",
     "start_time": "2018-12-04T08:26:07.699705Z"
    }
   },
   "outputs": [
    {
     "data": {
      "text/plain": [
       "21"
      ]
     },
     "execution_count": 13,
     "metadata": {},
     "output_type": "execute_result"
    }
   ],
   "source": [
    "redis_client.incr(KEY)"
   ]
  },
  {
   "cell_type": "markdown",
   "metadata": {},
   "source": [
    "## Exemple "
   ]
  },
  {
   "cell_type": "code",
   "execution_count": 14,
   "metadata": {
    "ExecuteTime": {
     "end_time": "2018-12-04T08:26:08.699775Z",
     "start_time": "2018-12-04T08:26:08.696428Z"
    }
   },
   "outputs": [],
   "source": [
    "from ipywidgets import widgets, interact\n",
    "from IPython.display import display"
   ]
  },
  {
   "cell_type": "code",
   "execution_count": 15,
   "metadata": {
    "ExecuteTime": {
     "end_time": "2018-12-04T08:26:09.194404Z",
     "start_time": "2018-12-04T08:26:09.176035Z"
    }
   },
   "outputs": [
    {
     "data": {
      "application/vnd.jupyter.widget-view+json": {
       "model_id": "b7f3d35ab57b4ee2bfbb92bb1ccb3cc3",
       "version_major": 2,
       "version_minor": 0
      },
      "text/plain": [
       "Button(description='Click me!', style=ButtonStyle())"
      ]
     },
     "metadata": {},
     "output_type": "display_data"
    }
   ],
   "source": [
    "KEY = \"click_number\"\n",
    "DEFAULT_VALUE = 0\n",
    "\n",
    "redis_client.set(KEY, DEFAULT_VALUE)\n",
    "\n",
    "button = widgets.Button(description=\"Click me!\")\n",
    "def on_button_clicked(button):\n",
    "    redis_client.incr(KEY)\n",
    "    print(f\"Le bouton à été cliqué {redis_client.get(KEY)} fois\")\n",
    "    button.description = \"Click me more !\"\n",
    "    \n",
    "button.on_click(on_button_clicked)\n",
    "display(button)"
   ]
  },
  {
   "cell_type": "markdown",
   "metadata": {},
   "source": [
    "## Les Listes"
   ]
  },
  {
   "cell_type": "markdown",
   "metadata": {},
   "source": [
    "Redis permet aussi de stocker des valeurs de type `list`, pour cela nous avons à notre disposition un ensemble de méthodes :  \n",
    "\n",
    "- La méthode `LPUSH`  permet d'ajouter un élément en tête de list la complexité est de O(1).  \n",
    "- La méthode `RPUSH` permet d'ajouter un élément en queue de list la complexité est de O(1).  \n",
    "- La méthode `LINSERT` permet d'ajouter un élément avant ou après la première occurence d'une certaine valeur, la complexité est de O(N) à part pour le premier et le dernier élèment.\n",
    "- La méthode `LSET` permet de modifier la valeur correspondant à l'index spécifié, la complexité est de O(N) à part pour le premier et le dernier élèment.\n",
    "- La méthode `RPOP` permet de supprimer un élément en queue de list la complexité est de O(1).\n",
    "- La méthode `LPOP` permet de supprimer un élément en tête de list la complexité est de O(1).\n",
    "- La méthode `LINDEX` permet d'afficher un élément en fonction de son index.\n",
    "- La méthode `LREM` permet de supprimer un élément en fonction de son index.\n",
    "- La méthode `LLEN` permet de récupérer la taille d'une liste.\n",
    "\n",
    "Nous allons toutes les tester."
   ]
  },
  {
   "cell_type": "code",
   "execution_count": 16,
   "metadata": {
    "ExecuteTime": {
     "end_time": "2018-12-04T08:26:24.680746Z",
     "start_time": "2018-12-04T08:26:24.673481Z"
    }
   },
   "outputs": [
    {
     "data": {
      "text/plain": [
       "2"
      ]
     },
     "execution_count": 16,
     "metadata": {},
     "output_type": "execute_result"
    }
   ],
   "source": [
    "redis_client.lpush('language_list', \"kotlin\")\n",
    "redis_client.lpush('language_list', \"python\")"
   ]
  },
  {
   "cell_type": "markdown",
   "metadata": {},
   "source": [
    "On peut aussi ajouter plusieurs élément en même temps dans une liste"
   ]
  },
  {
   "cell_type": "code",
   "execution_count": 17,
   "metadata": {
    "ExecuteTime": {
     "end_time": "2018-12-04T08:26:27.016079Z",
     "start_time": "2018-12-04T08:26:27.009199Z"
    }
   },
   "outputs": [
    {
     "data": {
      "text/plain": [
       "4"
      ]
     },
     "execution_count": 17,
     "metadata": {},
     "output_type": "execute_result"
    }
   ],
   "source": [
    "redis_client.lpush('language_list', \"java\", \"c++\")"
   ]
  },
  {
   "cell_type": "code",
   "execution_count": 18,
   "metadata": {
    "ExecuteTime": {
     "end_time": "2018-12-04T08:26:30.245500Z",
     "start_time": "2018-12-04T08:26:30.238681Z"
    }
   },
   "outputs": [
    {
     "data": {
      "text/plain": [
       "'La taille de la liste est 4'"
      ]
     },
     "execution_count": 18,
     "metadata": {},
     "output_type": "execute_result"
    }
   ],
   "source": [
    "f\"La taille de la liste est {redis_client.llen('language_list')}\""
   ]
  },
  {
   "cell_type": "code",
   "execution_count": 19,
   "metadata": {
    "ExecuteTime": {
     "end_time": "2018-12-04T08:26:30.939658Z",
     "start_time": "2018-12-04T08:26:30.931391Z"
    }
   },
   "outputs": [
    {
     "data": {
      "text/plain": [
       "\"L'élément à l'index 2 taille de la liste est 'python'\""
      ]
     },
     "execution_count": 19,
     "metadata": {},
     "output_type": "execute_result"
    }
   ],
   "source": [
    "INDEX = 2\n",
    "f\"L'élément à l'index {INDEX} taille de la liste est '{redis_client.lindex('language_list', INDEX)}'\""
   ]
  },
  {
   "cell_type": "markdown",
   "metadata": {},
   "source": [
    "Le client renvoie la taille de la liste venant d'être mise à jour. On peut afficher tous les éléments de la liste en les retirant un par un."
   ]
  },
  {
   "cell_type": "code",
   "execution_count": 20,
   "metadata": {
    "ExecuteTime": {
     "end_time": "2018-12-04T08:26:32.044205Z",
     "start_time": "2018-12-04T08:26:32.034495Z"
    },
    "scrolled": true
   },
   "outputs": [
    {
     "name": "stdout",
     "output_type": "stream",
     "text": [
      "c++\n",
      "java\n",
      "python\n",
      "kotlin\n"
     ]
    }
   ],
   "source": [
    "while(redis_client.llen('language_list')!=0):\n",
    "\n",
    "    print(redis_client.lpop('language_list'))"
   ]
  },
  {
   "cell_type": "markdown",
   "metadata": {},
   "source": [
    "## Les dictionnaires "
   ]
  },
  {
   "cell_type": "markdown",
   "metadata": {},
   "source": [
    "Redis permet de stocker assez facilement des dictionnaires, on peut comme cela stocker des structures de données plus complexes. Pour cela nous avons plusieurs méthodes : \n",
    "\n",
    "- La méthode `HMSET` permet d'ajouter un dictionnaire à une clé\n",
    "- La méthode `HSET` permet d'ajouter ou de modifier la valeur d'une clé d'un dictionnaire\n",
    "- La méthode `HGET` permet d'ajouter ou de modifier la valeur d'une clé d'un dictionnaire\n",
    "- La méthode `HGETALL` permet de récupérer toutes les clés valeurs d'un dictionnaire.\n",
    "- La méthode `HKEYS` permet de récupérer toutes les clés d'un dictionnaire\n",
    "- La méthode `HVALS` permet de récupérer toutes les valeurs d'un dictionnaire"
   ]
  },
  {
   "cell_type": "code",
   "execution_count": 21,
   "metadata": {
    "ExecuteTime": {
     "end_time": "2018-12-04T08:26:33.442083Z",
     "start_time": "2018-12-04T08:26:33.438667Z"
    }
   },
   "outputs": [],
   "source": [
    "doc = {\n",
    "    \"name\":\"yourname\",\n",
    "    \"age\":20,\n",
    "    \"city\":\"paris\"\n",
    "}"
   ]
  },
  {
   "cell_type": "code",
   "execution_count": 22,
   "metadata": {
    "ExecuteTime": {
     "end_time": "2018-12-04T08:26:33.878602Z",
     "start_time": "2018-12-04T08:26:33.870214Z"
    }
   },
   "outputs": [
    {
     "data": {
      "text/plain": [
       "True"
      ]
     },
     "execution_count": 22,
     "metadata": {},
     "output_type": "execute_result"
    }
   ],
   "source": [
    "redis_client.hmset(\"user1\", doc)"
   ]
  },
  {
   "cell_type": "code",
   "execution_count": 23,
   "metadata": {
    "ExecuteTime": {
     "end_time": "2018-12-04T08:26:34.248995Z",
     "start_time": "2018-12-04T08:26:34.243270Z"
    }
   },
   "outputs": [
    {
     "data": {
      "text/plain": [
       "{'name': 'yourname', 'age': '20', 'city': 'paris'}"
      ]
     },
     "execution_count": 23,
     "metadata": {},
     "output_type": "execute_result"
    }
   ],
   "source": [
    "redis_client.hgetall(\"user1\")"
   ]
  },
  {
   "cell_type": "markdown",
   "metadata": {},
   "source": [
    "On peut modifier uniquement une clé du dictionnaire"
   ]
  },
  {
   "cell_type": "code",
   "execution_count": 24,
   "metadata": {
    "ExecuteTime": {
     "end_time": "2018-12-04T08:26:35.008465Z",
     "start_time": "2018-12-04T08:26:34.999460Z"
    }
   },
   "outputs": [
    {
     "data": {
      "text/plain": [
       "0"
      ]
     },
     "execution_count": 24,
     "metadata": {},
     "output_type": "execute_result"
    }
   ],
   "source": [
    "redis_client.hset(\"user1\", \"city\", \"lyon\")"
   ]
  },
  {
   "cell_type": "code",
   "execution_count": 25,
   "metadata": {
    "ExecuteTime": {
     "end_time": "2018-12-04T08:26:35.361923Z",
     "start_time": "2018-12-04T08:26:35.355242Z"
    }
   },
   "outputs": [
    {
     "data": {
      "text/plain": [
       "{'name': 'yourname', 'age': '20', 'city': 'lyon'}"
      ]
     },
     "execution_count": 25,
     "metadata": {},
     "output_type": "execute_result"
    }
   ],
   "source": [
    "redis_client.hgetall(\"user1\")"
   ]
  },
  {
   "cell_type": "markdown",
   "metadata": {},
   "source": [
    "## Les pipelines"
   ]
  },
  {
   "cell_type": "code",
   "execution_count": 26,
   "metadata": {
    "ExecuteTime": {
     "end_time": "2018-12-04T08:26:36.136976Z",
     "start_time": "2018-12-04T08:26:36.133949Z"
    }
   },
   "outputs": [],
   "source": [
    "import timeit"
   ]
  },
  {
   "cell_type": "markdown",
   "metadata": {},
   "source": [
    "Lorsque l'on appelle une méthode depuis le client python, chaqu'une d'entres elles fait un appel à Redis, ce qui peut prendre du temps. Les pipelines permettent de réduire ce temps en stockant toutes les opérations et en les applicant une seul fois sur la base. Cela permet d'augmenter grandement les performances en réduisant les appels et le passage par le réseau. "
   ]
  },
  {
   "cell_type": "code",
   "execution_count": 27,
   "metadata": {
    "ExecuteTime": {
     "end_time": "2018-12-04T08:26:36.921577Z",
     "start_time": "2018-12-04T08:26:36.918549Z"
    }
   },
   "outputs": [],
   "source": [
    "N = 10000"
   ]
  },
  {
   "cell_type": "code",
   "execution_count": 28,
   "metadata": {
    "ExecuteTime": {
     "end_time": "2018-12-04T08:26:37.269282Z",
     "start_time": "2018-12-04T08:26:37.265317Z"
    }
   },
   "outputs": [],
   "source": [
    "def store_key_values(N):\n",
    "    for i in range(N):\n",
    "        redis_client.set(f\"key_{i}\", f\"value_{i}\")"
   ]
  },
  {
   "cell_type": "code",
   "execution_count": 29,
   "metadata": {
    "ExecuteTime": {
     "end_time": "2018-12-04T08:27:03.663057Z",
     "start_time": "2018-12-04T08:26:37.607869Z"
    }
   },
   "outputs": [
    {
     "name": "stdout",
     "output_type": "stream",
     "text": [
      "1.93 s ± 38.5 ms per loop (mean ± std. dev. of 7 runs, 1 loop each)\n"
     ]
    }
   ],
   "source": [
    "%%timeit\n",
    "store_key_values(N=N)"
   ]
  },
  {
   "cell_type": "code",
   "execution_count": 30,
   "metadata": {
    "ExecuteTime": {
     "end_time": "2018-12-04T08:27:03.680221Z",
     "start_time": "2018-12-04T08:27:03.676471Z"
    }
   },
   "outputs": [],
   "source": [
    "def store_key_values_with_pipelines(N):\n",
    "    p = redis_client.pipeline()\n",
    "    for i in range(N):\n",
    "        p.set(f\"key_{i}\", f\"value_{i}\")"
   ]
  },
  {
   "cell_type": "code",
   "execution_count": 31,
   "metadata": {
    "ExecuteTime": {
     "end_time": "2018-12-04T08:27:14.525408Z",
     "start_time": "2018-12-04T08:27:03.691655Z"
    }
   },
   "outputs": [
    {
     "name": "stdout",
     "output_type": "stream",
     "text": [
      "14.5 ms ± 294 µs per loop (mean ± std. dev. of 7 runs, 100 loops each)\n"
     ]
    }
   ],
   "source": [
    "%%timeit\n",
    "store_key_values_with_pipelines(N=N)"
   ]
  },
  {
   "cell_type": "code",
   "execution_count": null,
   "metadata": {},
   "outputs": [],
   "source": [
    "On voit alors que l'on peut diviser le temps par 100. Dans vos différents métiers les performances sont souvent très importan"
   ]
  },
  {
   "cell_type": "markdown",
   "metadata": {},
   "source": [
    "# Exercice"
   ]
  },
  {
   "cell_type": "markdown",
   "metadata": {},
   "source": [
    "Utiliser redis pour gérer les commandes d'un restaurant de burgers, pour simplifier les choses les clients pourront choisir leurs ingrédients dans 3 types de produits :\n",
    "\n",
    "- Pain: blanc, complet, aux céréales\n",
    "- Garniture : salade, tomates , oignons, concombres\n",
    "- Protéines : poulet, boeuf, agneau, tofu\n",
    "\n",
    "Chaque ingrédient équivaut à un prix et un poids, avec chaque commande vous devrez calculer le poids et le prix que les clients devront régler. \n",
    "\n",
    "1) Stocker les informations concernant les ingrédients dans redis   \n",
    "2) Créer la méthode permettant de créer aléatoirement un burger  \n",
    "3) Créer la méthode qui permet d'empiler dans redis les prochaines commandes (Réfléchir au type de données utilisé)  \n",
    "4) Créer la méthode permettant de calculer le poids et le prix du burger  \n",
    "5) Créer une boucle pour dépiler, réaliser et servir les burgers.  \n",
    "\n",
    "Pour vous aider voici quelques données "
   ]
  },
  {
   "cell_type": "code",
   "execution_count": 32,
   "metadata": {
    "ExecuteTime": {
     "end_time": "2018-12-04T08:37:06.762862Z",
     "start_time": "2018-12-04T08:37:06.759434Z"
    }
   },
   "outputs": [],
   "source": [
    "pains = {\n",
    "    \"blanc\":{\n",
    "        \"poid\":100,\n",
    "        \"prix\": 2\n",
    "    },\n",
    "    \"complet\":{\n",
    "        \"poid\":90,\n",
    "        \"prix\": 3\n",
    "    },\n",
    "    \"cereales\":{\n",
    "        \"poid\":120,\n",
    "        \"prix\": 4\n",
    "    }\n",
    "}"
   ]
  },
  {
   "cell_type": "code",
   "execution_count": 33,
   "metadata": {
    "ExecuteTime": {
     "end_time": "2018-12-04T08:37:07.247818Z",
     "start_time": "2018-12-04T08:37:07.244362Z"
    }
   },
   "outputs": [],
   "source": [
    "garniture = {\n",
    "    \"salade\":{\n",
    "        \"poid\":50,\n",
    "        \"prix\": 1\n",
    "    }, \"tomates\":{\n",
    "        \"poid\":60,\n",
    "        \"prix\": 2\n",
    "    } , \"oignons\":{\n",
    "        \"poid\":10,\n",
    "        \"prix\": 1.5\n",
    "    }, \"concombres\":{\n",
    "        \"poid\":30,\n",
    "        \"prix\": 3\n",
    "    }\n",
    "}"
   ]
  },
  {
   "cell_type": "code",
   "execution_count": 34,
   "metadata": {
    "ExecuteTime": {
     "end_time": "2018-12-04T08:37:07.517097Z",
     "start_time": "2018-12-04T08:37:07.512411Z"
    }
   },
   "outputs": [],
   "source": [
    "proteine = {\n",
    "    \"poulet\":{\n",
    "        \"poid\":100,\n",
    "        \"prix\": 6\n",
    "    }, \"boeuf\":{\n",
    "        \"poid\":150,\n",
    "        \"prix\": 5\n",
    "    } , \"agneau\":{\n",
    "        \"poid\":120,\n",
    "        \"prix\": 7\n",
    "    }, \"tofu\":{\n",
    "        \"poid\":80,\n",
    "        \"prix\": 8\n",
    "    }\n",
    "}"
   ]
  },
  {
   "cell_type": "code",
   "execution_count": 35,
   "metadata": {
    "ExecuteTime": {
     "end_time": "2018-12-04T08:39:08.617493Z",
     "start_time": "2018-12-04T08:39:08.609953Z"
    }
   },
   "outputs": [],
   "source": [
    "def make_burger():\n",
    "    pass\n",
    "\n",
    "def make_order():\n",
    "    pass\n",
    "\n",
    "def get_next_order():\n",
    "    pass\n",
    "\n",
    "def process_price_weight():\n",
    "    pass\n",
    "\n",
    "def process_burger():\n",
    "    return None, None, None"
   ]
  },
  {
   "cell_type": "code",
   "execution_count": 36,
   "metadata": {
    "ExecuteTime": {
     "end_time": "2018-12-04T08:39:08.817270Z",
     "start_time": "2018-12-04T08:39:08.812786Z"
    }
   },
   "outputs": [
    {
     "name": "stdout",
     "output_type": "stream",
     "text": [
      "Le burger None de None gr à été préparé et servi il faut régler None€\n"
     ]
    }
   ],
   "source": [
    "while True:\n",
    "    burger, price, weight = process_burger()\n",
    "    print(f'Le burger {burger} de {weight} gr à été préparé et servi il faut régler {price}€')\n",
    "    break"
   ]
  },
  {
   "cell_type": "code",
   "execution_count": null,
   "metadata": {},
   "outputs": [],
   "source": []
  },
  {
   "cell_type": "code",
   "execution_count": null,
   "metadata": {},
   "outputs": [],
   "source": []
  }
 ],
 "metadata": {
  "kernelspec": {
   "display_name": "Python 3",
   "language": "python",
   "name": "python3"
  },
  "language_info": {
   "codemirror_mode": {
    "name": "ipython",
    "version": 3
   },
   "file_extension": ".py",
   "mimetype": "text/x-python",
   "name": "python",
   "nbconvert_exporter": "python",
   "pygments_lexer": "ipython3",
   "version": "3.11.5"
  },
  "varInspector": {
   "cols": {
    "lenName": 16,
    "lenType": 16,
    "lenVar": 40
   },
   "kernels_config": {
    "python": {
     "delete_cmd_postfix": "",
     "delete_cmd_prefix": "del ",
     "library": "var_list.py",
     "varRefreshCmd": "print(var_dic_list())"
    },
    "r": {
     "delete_cmd_postfix": ") ",
     "delete_cmd_prefix": "rm(",
     "library": "var_list.r",
     "varRefreshCmd": "cat(var_dic_list()) "
    }
   },
   "types_to_exclude": [
    "module",
    "function",
    "builtin_function_or_method",
    "instance",
    "_Feature"
   ],
   "window_display": false
  }
 },
 "nbformat": 4,
 "nbformat_minor": 2
}
