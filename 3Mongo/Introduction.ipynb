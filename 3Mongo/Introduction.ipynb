{
 "cells": [
  {
   "cell_type": "markdown",
   "metadata": {},
   "source": [
    "# Introduction "
   ]
  },
  {
   "cell_type": "markdown",
   "metadata": {},
   "source": [
    "MongoDB est une base de données open source codée en C++ basée sur un concept de stockage sous la forme de documents au format JSON. Le grand avantage de ce système est l'optimisation de la mémoire. Dans une base relationelle, chaque colonne doit être définie au préalable avec une empreinte mémoire et un type de donnée. Dans une base MongoDB si le champ n'est pas présent, il n'apparait pas dans un document et n'impacte pas la mémoire, alors qu'en SQL la place mémoire est utilisée même si le champ est absent, pour spécifier que la valeur est null."
   ]
  },
  {
   "cell_type": "markdown",
   "metadata": {},
   "source": [
    "## Les avantages "
   ]
  },
  {
   "cell_type": "markdown",
   "metadata": {},
   "source": [
    "- Optimisé pour le multi-machines et la réplication de données ;\n",
    "- Pas besoin de jointures entre les tables compte tenu du modèle de données sous forme de documents ;\n",
    "- Un index est créé sur chaque clé pour une rapidité de requêtes ;\n",
    "- Un langage de requêtage aussi puissant que le SQL ;\n",
    "- Optimisation de la mémoire .\n"
   ]
  },
  {
   "cell_type": "markdown",
   "metadata": {},
   "source": [
    "## Concepts basiques\n"
   ]
  },
  {
   "cell_type": "markdown",
   "metadata": {},
   "source": [
    "\n",
    "- Database : une database est un regroupement de collections. Chaque database possède son propre système de fichiers et sa propre authentification. Elle a le même rôle qu'une database en MySQL.\n",
    "- Collection : une collection est un regroupement de documents. C'est une table en MySQL, la principale différence étant qu'elle ne définit pas un schéma de données fixe. Les documents présents dans une collection n'ont pas forcément tous les mêmes champs.\n",
    "- Document : un document est un objet JSON stocké sous la forme de plusieurs paires clé:valeur. C'est l'équivalent d'une ligne dans une table SQL.\n",
    "- Champ : Un champ est l'équivalent d'une colonne en SQL. Il permet de faire des requêtes."
   ]
  },
  {
   "cell_type": "markdown",
   "metadata": {},
   "source": [
    "## Identifiants"
   ]
  },
  {
   "cell_type": "markdown",
   "metadata": {},
   "source": [
    "Tous les documents possèdent un identifiant unique, ce qui permet de le retrouver très efficacement. L'identifiant peut être spécifié lors de l'ajout d'un nouveau document (nom+prenom, adresse email, url, etc). Dans le cas ou aucun identifiant n'est précisé, MongoDB se charge d'en ajouter un. Il est composé d'un nombre stocké sur 12 bytes au format hexadécimal :\n",
    "\n",
    "- Les 4 premiers bytes sont le timestamp de l'ajout du document\n",
    "- Les 3 suivants correspondent à l'identifiant de la machine\n",
    "- Les 2 suivants l'identifiant du processus\n",
    "- Les 3 derniers sont une valeur incrémentale\n"
   ]
  },
  {
   "cell_type": "markdown",
   "metadata": {},
   "source": [
    "## Les types de données"
   ]
  },
  {
   "cell_type": "markdown",
   "metadata": {},
   "source": [
    "Une base de données MongoDB permet de stocker un grand volume de données hétérogènes sans imposer un modèle de données fixe pour tous les documents. Il est conseillé, comme vu plus haut, de bien définir la structure globale pour garder une cohérence tout au long des développements.\n",
    "\n",
    "- Integer : entier relatif stocké sur 32 ou 64 bits.\n",
    "- Double : nombre décimal stocké sur 64 bits.\n",
    "- String : chaine de caractère (encodée en utf-8)\n",
    "- Booléen : True ou False\n",
    "- Object : sous-objet stocké au format JSON\n",
    "- Date : date au format UNIX (nombre de ms écoulées depuis le 1er janvier 1970) stockée sur 64 bits.\n",
    "- Array : stocker une liste d'éléments au format atomique ou d'objets\n",
    "\n",
    "D'autres types sont disponibles et vous pouvez les trouver https://docs.mongodb.com/manual/reference/bson-types/"
   ]
  },
  {
   "cell_type": "markdown",
   "metadata": {},
   "source": [
    "# Installation\n"
   ]
  },
  {
   "cell_type": "markdown",
   "metadata": {},
   "source": [
    "L'installation peut se faire de plusieurs manières.\n",
    "\n",
    "- Directement depuis les sources ou à partir de packages.  \n",
    "Liens vers le tutorial https://docs.mongodb.com/manual/tutorial/install-mongodb-on-ubuntu/\n",
    "\n",
    "Sur une Debian 9 Stretch:\n",
    "\n",
    "```bash\n",
    "export http_proxy=http://147.215.1.189:3128\n",
    "export https_proxy=http://147.215.1.189:3128\n",
    "apt-get update\n",
    "apt-get install -y mongodb-org\n",
    "```\n",
    "\n",
    "Démarrage du service\n",
    "\n",
    "Vérifier que le service Mongo est démarré\n",
    "\n",
    "```bash\n",
    "> service mongodb status\n",
    "\n",
    "\n",
    "● mongodb.service - An object/document-oriented database\n",
    "   Loaded: loaded (/lib/systemd/system/mongodb.service; enabled; vendor preset:\n",
    "   Active: active (running) since Mon 2018-11-25 13:51:14 CET; 18min ago\n",
    "     Docs: man:mongod(1)\n",
    " Main PID: 22845 (mongod)\n",
    "    Tasks: 16 (limit: 4915)\n",
    "   CGroup: /system.slice/mongodb.service\n",
    "           └─22845 /usr/bin/mongod --unixSocketPrefix=/run/mongodb --config /etc\n",
    "```\n",
    "\n",
    "ou le démarrer avec \n",
    " \n",
    "```bash\n",
    "> service mongodb start\n",
    "```\n",
    "\n",
    "\n",
    "- Ou en instanciant un conteneur Docker. L'avantage de Docker est qu'il n'installe aucune dépendance sur votre machine et laisse son environnement propre. Lien vers le tutorial : https://hub.docker.com/_/mongo/\n",
    "\n",
    "\n",
    "```bash\n",
    "> docker run --name my-mongo -d -p 27017:27017 mongo\n",
    "```\n",
    "\n",
    "Pour vérifier que le conteneur est bien lancé on peut regarder les logs avec\n",
    "\n",
    "\n",
    "```bash\n",
    "> docker logs my-mongo\n",
    "```"
   ]
  },
  {
   "cell_type": "markdown",
   "metadata": {},
   "source": [
    "# Connexion"
   ]
  },
  {
   "cell_type": "markdown",
   "metadata": {},
   "source": [
    "\n",
    "Pour se connecter à une base Mongo deux solutions sont possibles. En ligne de commande ou via un gestionnaire de BDD comme Robo3T https://robomongo.org/ . Dans les deux cas, la syntaxe Mongo est utilisée pour effectuer des requêtes. L'avantage de Robo3T est qu'il possède une interface permettant de visualiser très simplement les données.\n",
    "\n",
    "Dans un terminal utilisateur standard, la commande mongo permet d'obtenir un shell interactif:\n",
    "\n",
    "```bash\n",
    "student@debian:~$ mongo\n",
    "MongoDB shell version: 3.2.11\n",
    "connecting to: test\n",
    ">\n",
    "```\n",
    "\n",
    "Le port par défaut de Mongo est le 27017."
   ]
  },
  {
   "cell_type": "markdown",
   "metadata": {},
   "source": [
    "# Création d'un modèle de données\n"
   ]
  },
  {
   "cell_type": "markdown",
   "metadata": {},
   "source": [
    "La création d'un modèle de données clair et adapté est une tâche importante et primordiale. Ce modèle de données doit être réfléchi à court et long terme et doit prendre en compte la capacité de stockage et les besoins métiers."
   ]
  },
  {
   "cell_type": "markdown",
   "metadata": {},
   "source": [
    "## Database"
   ]
  },
  {
   "cell_type": "markdown",
   "metadata": {},
   "source": [
    "\n",
    "A partir du shell Mongo, on peut afficher les databases disponibles. Au démarrage, aucune n'est créée:\n",
    "```\n",
    "> show dbs\n",
    "admin   0.000GB\n",
    "config  0.000GB\n",
    "local   0.000GB\n",
    "```\n",
    "\n",
    "Aucun database n'est présente\n",
    "```\n",
    "> use test\n",
    "switched to db test\n",
    "```\n",
    "\n",
    "Pour supprimer définitivement une database:\n",
    "\n",
    "```\n",
    "> db.dropDatabase()\n",
    "```\n",
    "Comme vous pouvez le deviner cette commande est à utiliser avec précaution."
   ]
  },
  {
   "cell_type": "markdown",
   "metadata": {},
   "source": [
    "## Collection"
   ]
  },
  {
   "cell_type": "markdown",
   "metadata": {},
   "source": [
    "Les collections correspondent aux tables en SQL. Elles sont des sous-ensembles d'une database. Pour créer une collection il faut auparavant s'être référencé sur une database.\n",
    "\n",
    "```\n",
    "show dbs\n",
    "use <YOUR_DB_NAME>\n",
    "db.createCollection(<YOUR_COLLECTION_NAME>)\n",
    "show collections\n",
    "```\n",
    "\n",
    "Comme pour les databases on peut vouloir supprimer définitivement une collection.\n",
    "\n",
    "```\n",
    "db.<YOUR_COLLECTION_NAME>.drop()\n",
    "show collections\n",
    "```\n"
   ]
  },
  {
   "cell_type": "markdown",
   "metadata": {},
   "source": [
    "## Document"
   ]
  },
  {
   "cell_type": "markdown",
   "metadata": {},
   "source": [
    "Insertion\n",
    "Un document (objet JSON) est un sous-ensemble d'une collection qui est lui même une sous-partie d'une database. Pour insérer un document il faut donc se référencer sur une database et sur la collection souhaitée.\n",
    "\n",
    "```\n",
    "use <YOUR_DB_NAME>\n",
    "db.createCollection(<YOUR_COLLECTION_NAME>)\n",
    "show collections\n",
    "db.<YOUR_COLLECTION_NAME>.insert({\n",
    "    firstname : \"Thomas\",\n",
    "    lastname : \"Shelby\",\n",
    "    position : \"director\",\n",
    "    company : \"Peaky Blinders\"})\n",
    "```\n",
    "\n",
    "Si vous ne précisez pas d'identifiant unique (id du document), MongoDB se charge de le remplir avec les règles définies précédement. Une bonne pratique est de trouver une règle permettant de retrouver facilement et efficacement un document sans avoir à faire une requête complexe et obliger la base à rechercher dans ses champs. Une technique est de prendre le hash d'une combinaison des champs qui permet de créer une clé unique SHA128(firstname+lastname+position) par exemple.\n",
    "\n",
    "```\n",
    "use <YOUR_DB_NAME>\n",
    "show collections\n",
    "db.<YOUR_COLLECTION_NAME>.insert({\n",
    "    firstname : \"Thomas\",\n",
    "    lastname : \"Shelby\",\n",
    "    position : \"CEO\",\n",
    "    gender : \"Male\",\n",
    "    age : 35,\n",
    "    description : \"Thomas 'Tommy' Michael Shelby M.P. OBE, is the leader of the Birmingham criminal gang Peaky Blinders and the patriarch of the Shelby Family. His experiences during and after the First World War have left him disillusioned and determined to move his family up in the world.\",\n",
    "    nicknames : [\"Tom\", \"Tommy\", \"Thomas\"],\n",
    "    company : \"Peaky Blinders\",\n",
    "    episodes : [1,2,4,5,6]\n",
    "    })\n",
    "```\n",
    "Pour des soucis de performances, si un grand nombre de documents doivent être insérés très rapidement sans surcharger les appels réseaux, il est possible de passer une liste JSON d'objets à la fonction insert.\n",
    "\n",
    "```\n",
    "db.<YOUR_COLLECTION_NAME>.insert([\n",
    "{\n",
    "    firstname : \"Arthur\",\n",
    "    lastname : \"Shelby\",\n",
    "    position : \"Associate\",\n",
    "    gender : \"Male\",\n",
    "    age : 38,\n",
    "    description : \"Arthur Shelby Jr. is the eldest of the Shelby siblings and the tough member of Peaky Blinders, the Deputy Vice President Shelby Company Limited. He's also a member of the ICA.\",\n",
    "    company : \"Peaky Blinders\",\n",
    "    episodes : [1,4,6]\n",
    "\n",
    "},{\n",
    "    firstname : \"John\",\n",
    "    lastname : \"Shelby\",\n",
    "    position : \"Associate\",\n",
    "    gender : \"Male\",\n",
    "    age : 30,\n",
    "    description : \"John Michael Shelby, also called Johnny or John Boy, was the third of Shelby siblings and a member of the Peaky Blinders.\",\n",
    "    nicknames : [\"Johnny\", \"John Boy\"],\n",
    "    company : \"Peaky Blinders\",\n",
    "    episodes : [4,5,6]\n",
    "},{\n",
    "    firstname : \"Ada\",\n",
    "    lastname : \"Thorne\",\n",
    "    position : \"HR\",\n",
    "    gender : \"Female\",\n",
    "    age : 28,\n",
    "    description : \"Ada Thorne is the fourth and only female of the Shelby sibling. She's the Head of Acquisitions of the Shelby Company Limited.\",\n",
    "    nicknames : [\"Ada Shelby\"],\n",
    "    company : \"Peaky Blinders\",\n",
    "    episodes : [1,2,6]\n",
    "},{\n",
    "    firstname : \"Michael\",\n",
    "    lastname : \"Gray\",\n",
    "    position : \"Accounting\",\n",
    "    gender : \"Male\",\n",
    "    age : 21,\n",
    "    description : \"Michael Gray is the son of Polly Shelby, his father is dead, and cousin of the Shelby siblings. He is the Chief Accountant in the Shelby Company Limited.\",\n",
    "    nicknames : [\"Henry Johnson\", \"Jobbie Muncher\", \"Mickey\"],\n",
    "    company : \"Peaky Blinders\",\n",
    "    episodes : [5,6]\n",
    "},{\n",
    "    firstname : \"Polly\",\n",
    "    lastname : \"Gray\",\n",
    "    gender : \"Female\",\n",
    "    age : 45,\n",
    "    position : \"CFO\",\n",
    "    description : \"Elizabeth Polly Gray (née Shelby) is the matriarch of the Shelby Family, aunt of the Shelby siblings, the treasurer of the Birmingham criminal gang, the Peaky Blinders, a certified accountant and company treasurer of Shelby Company Limited. \",\n",
    "    nicknames : [\"Aunt Polly\", \"Polly Gray\", \"Elizabeth Gray\", \"Polly Shelby\", \"Pol\"],\n",
    "    company : \"Peaky Blinders\",\n",
    "    episodes : [1,2,5,6]\n",
    "}])\n",
    "```"
   ]
  },
  {
   "cell_type": "markdown",
   "metadata": {},
   "source": [
    "# Python "
   ]
  },
  {
   "cell_type": "markdown",
   "metadata": {},
   "source": [
    "Il existe une API Python développée pour interagir avec une base de données MongoDB. \n",
    "\n",
    "Ce package s'appelle `pymongo`, vous pouvez trouver la documentation https://docs.mongodb.com/getting-started/python/client/. Il est important d'avoir des APIs dans les différents langages pour faciliter l'intégration dans les applications.\n",
    "\n",
    "Pour installer le package :\n"
   ]
  },
  {
   "cell_type": "code",
   "execution_count": 97,
   "metadata": {},
   "outputs": [
    {
     "name": "stdout",
     "output_type": "stream",
     "text": [
      "Requirement already satisfied: pymongo in c:\\users\\arthu\\appdata\\local\\programs\\python\\python311\\lib\\site-packages (4.6.1)\n",
      "Requirement already satisfied: dnspython<3.0.0,>=1.16.0 in c:\\users\\arthu\\appdata\\local\\programs\\python\\python311\\lib\\site-packages (from pymongo) (2.4.2)\n"
     ]
    }
   ],
   "source": [
    "!pip install pymongo"
   ]
  },
  {
   "cell_type": "markdown",
   "metadata": {},
   "source": [
    "Ce package garde très largement la syntaxe Mongo shell et permet d'utiliser ces méthodes et items (DataBases, Collections, Documents) en tant qu'objets Python.\n",
    "\n",
    "Dans un premier temps on veut créer le lien entre notre base Mongo et notre programme, pour cela on créé un `client`."
   ]
  },
  {
   "cell_type": "code",
   "execution_count": 1,
   "metadata": {},
   "outputs": [],
   "source": [
    "from pymongo import MongoClient\n",
    "\n",
    "client = MongoClient(\"mongodb://localhost:27017\")"
   ]
  },
  {
   "cell_type": "markdown",
   "metadata": {},
   "source": [
    "Permet de se connecter à une base MongoDB en créant un pointeur client vers cette base. Par défault ce client est paramétré sur le localhost et le port 27017 qui est le port par défaut et très généralement utilisé.\n",
    " \n",
    "Néanmoins, vous pouvez choisir de vous connecter à n'importe quelle base, qu'elle soit sur votre machine ou à distance.\n",
    "\n",
    "\n",
    "```\n",
    "client = MongoClient(\"http://<YOUR_IP_ADDRESS>:<YOUR_PORT_NUMBER>)\n",
    "```\n",
    "\n",
    "Il est possible comme depuis le MongoShell de lister les bases de données.\n"
   ]
  },
  {
   "cell_type": "code",
   "execution_count": 2,
   "metadata": {},
   "outputs": [
    {
     "name": "stdout",
     "output_type": "stream",
     "text": [
      "['admin', 'config', 'local']\n"
     ]
    }
   ],
   "source": [
    "print(client.list_database_names())"
   ]
  },
  {
   "cell_type": "markdown",
   "metadata": {},
   "source": [
    "\n",
    "Vous pouvez aussi les sélectionner. Il y a deux syntaxes : \n",
    "```\n",
    "db = client.<YOUR_DATABASE_NAME>\n",
    "```\n",
    "ou \n",
    "```\n",
    "db = client[\"<YOUR_DATABASE_NAME>\"]\n",
    "```\n"
   ]
  },
  {
   "cell_type": "code",
   "execution_count": 3,
   "metadata": {},
   "outputs": [
    {
     "name": "stdout",
     "output_type": "stream",
     "text": [
      "<class 'pymongo.database.Database'>\n"
     ]
    }
   ],
   "source": [
    "db_series = client.series\n",
    "print(type(db_series))"
   ]
  },
  {
   "cell_type": "code",
   "execution_count": 4,
   "metadata": {},
   "outputs": [],
   "source": [
    "collection_peaky = db_series['peaky'] "
   ]
  },
  {
   "cell_type": "code",
   "execution_count": 5,
   "metadata": {},
   "outputs": [
    {
     "data": {
      "text/plain": [
       "InsertOneResult(ObjectId('6573099c679db64d66b93f93'), acknowledged=True)"
      ]
     },
     "execution_count": 5,
     "metadata": {},
     "output_type": "execute_result"
    }
   ],
   "source": [
    "collection_peaky.insert_one(\n",
    "    {\n",
    "    \"firstname\" : \"Thomas\",\n",
    "    \"lastname\" : \"Shelby\",\n",
    "    \"position\" : \"CEO\",\n",
    "    \"gender\" : \"Male\",\n",
    "    \"age\" : 35,\n",
    "    \"description\" : \"Thomas 'Tommy' Michael Shelby M.P. OBE, is the leader of the Birmingham criminal gang Peaky Blinders and the patriarch of the Shelby Family. His experiences during and after the First World War have left him disillusioned and determined to move his family up in the world.\",\n",
    "    \"nicknames\" : [\"Tom\", \"Tommy\", \"Thomas\"],\n",
    "    \"company\" : \"Peaky Blinders\",\n",
    "    \"episodes\" : [1,2,4,5,6]\n",
    "    })"
   ]
  },
  {
   "cell_type": "code",
   "execution_count": 6,
   "metadata": {},
   "outputs": [],
   "source": [
    "DOCUMENTS = [\n",
    "    {\n",
    "    \"firstname\" : \"Thomas\",\n",
    "    \"lastname\" : \"Shelby\",\n",
    "    \"position\" : \"CEO\",\n",
    "    \"gender\" : \"Male\",\n",
    "    \"age\" : 35,\n",
    "    \"description\" : \"Thomas 'Tommy' Michael Shelby M.P. OBE, is the leader of the Birmingham criminal gang Peaky Blinders and the patriarch of the Shelby Family. His experiences during and after the First World War have left him disillusioned and determined to move his family up in the world.\",\n",
    "    \"nicknames\" : [\"Tom\", \"Tommy\", \"Thomas\"],\n",
    "    \"company\" : \"Peaky Blinders\",\n",
    "    \"episodes\" : [1,2,4,5,6]\n",
    "    }, \n",
    "{\n",
    "    \"firstname\" : \"Arthur\",\n",
    "    \"lastname\" : \"Shelby\",\n",
    "    \"position\" : \"Associate\",\n",
    "    \"gender\" : \"Male\",\n",
    "    \"age\" : 38,\n",
    "    \"description\" : \"Arthur Shelby Jr. is the eldest of the Shelby siblings and the tough member of Peaky Blinders, the Deputy Vice President Shelby Company Limited. He's also a member of the ICA.\",\n",
    "    \"company\" : \"Peaky Blinders\",\n",
    "    \"episodes\" : [1,4,6]\n",
    "\n",
    "},{\n",
    "    \"firstname\" : \"John\",\n",
    "    \"lastname\" : \"Shelby\",\n",
    "    \"position\" : \"Associate\",\n",
    "    \"gender\" : \"Male\",\n",
    "    \"age\" : 30,\n",
    "    \"description\" : \"John Michael Shelby, also called Johnny or John Boy, was the third of Shelby siblings and a member of the Peaky Blinders.\",\n",
    "    \"nicknames\" : [\"Johnny\", \"John Boy\"],\n",
    "    \"company\" : \"Peaky Blinders\",\n",
    "    \"episodes\" : [4,5,6]\n",
    "},{\n",
    "    \"firstname\" : \"Ada\",\n",
    "    \"lastname\" : \"Thorne\",\n",
    "    \"position\" : \"HR\",\n",
    "    \"gender\" : \"Female\",\n",
    "    \"age\" : 28,\n",
    "    \"description\" : \"Ada Thorne is the fourth and only female of the Shelby sibling. She's the Head of Acquisitions of the Shelby Company Limited.\",\n",
    "    \"nicknames\" : [\"Ada Shelby\"],\n",
    "    \"company\" : \"Peaky Blinders\",\n",
    "    \"episodes\" : [1,2,6]\n",
    "},{\n",
    "    \"firstname\" : \"Michael\",\n",
    "    \"lastname\" : \"Gray\",\n",
    "    \"position\" : \"Accounting\",\n",
    "    \"gender\" : \"Male\",\n",
    "    \"age\" : 21,\n",
    "    \"description\" : \"Michael Gray is the son of Polly Shelby, his father is dead, and cousin of the Shelby siblings. He is the Chief Accountant in the Shelby Company Limited.\",\n",
    "    \"nicknames\" : [\"Henry Johnson\", \"Jobbie Muncher\", \"Mickey\"],\n",
    "    \"company\" : \"Peaky Blinders\",\n",
    "    \"episodes\" : [5,6]\n",
    "},{\n",
    "    \"firstname\" : \"Polly\",\n",
    "    \"lastname\" : \"Gray\",\n",
    "    \"gender\" : \"Female\",\n",
    "    \"age\" : 45,\n",
    "    \"position\" : \"CFO\",\n",
    "    \"description\" : \"Elizabeth Polly Gray (née Shelby) is the matriarch of the Shelby Family, aunt of the Shelby siblings, the treasurer of the Birmingham criminal gang, the Peaky Blinders, a certified accountant and company treasurer of Shelby Company Limited. \",\n",
    "    \"nicknames\" : [\"Aunt Polly\", \"Polly Gray\", \"Elizabeth Gray\", \"Polly Shelby\", \"Pol\"],\n",
    "    \"company\" : \"Peaky Blinders\",\n",
    "    \"episodes\" : [1,2,5,6]\n",
    "}]"
   ]
  },
  {
   "cell_type": "code",
   "execution_count": 7,
   "metadata": {},
   "outputs": [
    {
     "data": {
      "text/plain": [
       "InsertManyResult([ObjectId('6573099c679db64d66b93f94'), ObjectId('6573099c679db64d66b93f95'), ObjectId('6573099c679db64d66b93f96'), ObjectId('6573099c679db64d66b93f97'), ObjectId('6573099c679db64d66b93f98'), ObjectId('6573099c679db64d66b93f99')], acknowledged=True)"
      ]
     },
     "execution_count": 7,
     "metadata": {},
     "output_type": "execute_result"
    }
   ],
   "source": [
    "collection_peaky.insert_many(DOCUMENTS)"
   ]
  },
  {
   "cell_type": "code",
   "execution_count": 8,
   "metadata": {},
   "outputs": [
    {
     "data": {
      "text/plain": [
       "['peaky']"
      ]
     },
     "execution_count": 8,
     "metadata": {},
     "output_type": "execute_result"
    }
   ],
   "source": [
    "db_series.list_collection_names()"
   ]
  },
  {
   "cell_type": "markdown",
   "metadata": {},
   "source": [
    "La base de données à bien été créée. Maintenant, pour récupérer un document :"
   ]
  },
  {
   "cell_type": "markdown",
   "metadata": {},
   "source": [
    "## Requêter"
   ]
  },
  {
   "cell_type": "markdown",
   "metadata": {},
   "source": [
    "Afin de récupérer les documents stockés dans une collection, des fonctions de requête sont disponibles. La fonction `find()` permet de récupérer les N premiers documents. La fonction `find_one()` permet de récupérer le premier élément."
   ]
  },
  {
   "cell_type": "code",
   "execution_count": 9,
   "metadata": {},
   "outputs": [
    {
     "data": {
      "text/plain": [
       "{'_id': ObjectId('6573099c679db64d66b93f93'),\n",
       " 'firstname': 'Thomas',\n",
       " 'lastname': 'Shelby',\n",
       " 'position': 'CEO',\n",
       " 'gender': 'Male',\n",
       " 'age': 35,\n",
       " 'description': \"Thomas 'Tommy' Michael Shelby M.P. OBE, is the leader of the Birmingham criminal gang Peaky Blinders and the patriarch of the Shelby Family. His experiences during and after the First World War have left him disillusioned and determined to move his family up in the world.\",\n",
       " 'nicknames': ['Tom', 'Tommy', 'Thomas'],\n",
       " 'company': 'Peaky Blinders',\n",
       " 'episodes': [1, 2, 4, 5, 6]}"
      ]
     },
     "execution_count": 9,
     "metadata": {},
     "output_type": "execute_result"
    }
   ],
   "source": [
    "collection_peaky.find_one()"
   ]
  },
  {
   "cell_type": "markdown",
   "metadata": {},
   "source": [
    "Cette fonction permet de récupérer le premier élément de la collection sous la forme d'un dictionnaire.\n",
    "\n",
    "\n",
    "C'est un peu différent pour la méthode find(). Cela crée, pour des raison de performances, un curseur PyMongo. En effet, les données seront récupérées uniquement si elles sont utilisées. C'est intéressant pour des collections très volumineuses."
   ]
  },
  {
   "cell_type": "code",
   "execution_count": 10,
   "metadata": {},
   "outputs": [
    {
     "data": {
      "text/plain": [
       "pymongo.cursor.Cursor"
      ]
     },
     "execution_count": 10,
     "metadata": {},
     "output_type": "execute_result"
    }
   ],
   "source": [
    "cursor = collection_peaky.find()\n",
    "type(cursor)"
   ]
  },
  {
   "cell_type": "markdown",
   "metadata": {},
   "source": [
    "Un curseur est un type d'iterateur python, pour récupérer l'élément suivant:"
   ]
  },
  {
   "cell_type": "code",
   "execution_count": 11,
   "metadata": {},
   "outputs": [
    {
     "data": {
      "text/plain": [
       "{'_id': ObjectId('6573099c679db64d66b93f93'),\n",
       " 'firstname': 'Thomas',\n",
       " 'lastname': 'Shelby',\n",
       " 'position': 'CEO',\n",
       " 'gender': 'Male',\n",
       " 'age': 35,\n",
       " 'description': \"Thomas 'Tommy' Michael Shelby M.P. OBE, is the leader of the Birmingham criminal gang Peaky Blinders and the patriarch of the Shelby Family. His experiences during and after the First World War have left him disillusioned and determined to move his family up in the world.\",\n",
       " 'nicknames': ['Tom', 'Tommy', 'Thomas'],\n",
       " 'company': 'Peaky Blinders',\n",
       " 'episodes': [1, 2, 4, 5, 6]}"
      ]
     },
     "execution_count": 11,
     "metadata": {},
     "output_type": "execute_result"
    }
   ],
   "source": [
    "next(cursor)\n"
   ]
  },
  {
   "cell_type": "code",
   "execution_count": 12,
   "metadata": {},
   "outputs": [
    {
     "name": "stdout",
     "output_type": "stream",
     "text": [
      "-----\n",
      "{'_id': ObjectId('6573099c679db64d66b93f94'), 'firstname': 'Thomas', 'lastname': 'Shelby', 'position': 'CEO', 'gender': 'Male', 'age': 35, 'description': \"Thomas 'Tommy' Michael Shelby M.P. OBE, is the leader of the Birmingham criminal gang Peaky Blinders and the patriarch of the Shelby Family. His experiences during and after the First World War have left him disillusioned and determined to move his family up in the world.\", 'nicknames': ['Tom', 'Tommy', 'Thomas'], 'company': 'Peaky Blinders', 'episodes': [1, 2, 4, 5, 6]}\n",
      "-----\n",
      "{'_id': ObjectId('6573099c679db64d66b93f95'), 'firstname': 'Arthur', 'lastname': 'Shelby', 'position': 'Associate', 'gender': 'Male', 'age': 38, 'description': \"Arthur Shelby Jr. is the eldest of the Shelby siblings and the tough member of Peaky Blinders, the Deputy Vice President Shelby Company Limited. He's also a member of the ICA.\", 'company': 'Peaky Blinders', 'episodes': [1, 4, 6]}\n",
      "-----\n",
      "{'_id': ObjectId('6573099c679db64d66b93f96'), 'firstname': 'John', 'lastname': 'Shelby', 'position': 'Associate', 'gender': 'Male', 'age': 30, 'description': 'John Michael Shelby, also called Johnny or John Boy, was the third of Shelby siblings and a member of the Peaky Blinders.', 'nicknames': ['Johnny', 'John Boy'], 'company': 'Peaky Blinders', 'episodes': [4, 5, 6]}\n",
      "-----\n",
      "{'_id': ObjectId('6573099c679db64d66b93f97'), 'firstname': 'Ada', 'lastname': 'Thorne', 'position': 'HR', 'gender': 'Female', 'age': 28, 'description': \"Ada Thorne is the fourth and only female of the Shelby sibling. She's the Head of Acquisitions of the Shelby Company Limited.\", 'nicknames': ['Ada Shelby'], 'company': 'Peaky Blinders', 'episodes': [1, 2, 6]}\n",
      "-----\n",
      "{'_id': ObjectId('6573099c679db64d66b93f98'), 'firstname': 'Michael', 'lastname': 'Gray', 'position': 'Accounting', 'gender': 'Male', 'age': 21, 'description': 'Michael Gray is the son of Polly Shelby, his father is dead, and cousin of the Shelby siblings. He is the Chief Accountant in the Shelby Company Limited.', 'nicknames': ['Henry Johnson', 'Jobbie Muncher', 'Mickey'], 'company': 'Peaky Blinders', 'episodes': [5, 6]}\n",
      "-----\n",
      "{'_id': ObjectId('6573099c679db64d66b93f99'), 'firstname': 'Polly', 'lastname': 'Gray', 'gender': 'Female', 'age': 45, 'position': 'CFO', 'description': 'Elizabeth Polly Gray (née Shelby) is the matriarch of the Shelby Family, aunt of the Shelby siblings, the treasurer of the Birmingham criminal gang, the Peaky Blinders, a certified accountant and company treasurer of Shelby Company Limited. ', 'nicknames': ['Aunt Polly', 'Polly Gray', 'Elizabeth Gray', 'Polly Shelby', 'Pol'], 'company': 'Peaky Blinders', 'episodes': [1, 2, 5, 6]}\n"
     ]
    }
   ],
   "source": [
    "for document in cursor :\n",
    "    print('-----')\n",
    "    print(document)"
   ]
  },
  {
   "cell_type": "markdown",
   "metadata": {},
   "source": [
    "Il est possible de passer des arguments à la fonction find() ou find_one()."
   ]
  },
  {
   "cell_type": "code",
   "execution_count": 13,
   "metadata": {},
   "outputs": [
    {
     "data": {
      "text/plain": [
       "{'_id': ObjectId('6573099c679db64d66b93f93'),\n",
       " 'firstname': 'Thomas',\n",
       " 'lastname': 'Shelby',\n",
       " 'position': 'CEO',\n",
       " 'gender': 'Male',\n",
       " 'age': 35,\n",
       " 'description': \"Thomas 'Tommy' Michael Shelby M.P. OBE, is the leader of the Birmingham criminal gang Peaky Blinders and the patriarch of the Shelby Family. His experiences during and after the First World War have left him disillusioned and determined to move his family up in the world.\",\n",
       " 'nicknames': ['Tom', 'Tommy', 'Thomas'],\n",
       " 'company': 'Peaky Blinders',\n",
       " 'episodes': [1, 2, 4, 5, 6]}"
      ]
     },
     "execution_count": 13,
     "metadata": {},
     "output_type": "execute_result"
    }
   ],
   "source": [
    "cur = collection_peaky.find({\"lastname\":\"Shelby\"})\n",
    "next(cur)"
   ]
  },
  {
   "cell_type": "markdown",
   "metadata": {},
   "source": [
    "\n",
    "Les différentes opérations mathématiques sont implémentées. \n",
    "\n",
    "- Egalité :  `{key:value}` Correspondance clé valeur entre le champ et la requête. \n",
    "- Différence :  `{key: {$ne:value}}`\n",
    "- Plus (Grand|Petit) que :  les opérateurs sont `$lt` (lower than) ; `$lte` (lower than equals) ; `$gt` (greater than) ; `$gte` (greater than equals) : `{key: {<OPERATEUR>:value}}`.\n"
   ]
  },
  {
   "cell_type": "code",
   "execution_count": 14,
   "metadata": {},
   "outputs": [
    {
     "data": {
      "text/plain": [
       "{'_id': ObjectId('6573099c679db64d66b93f93'),\n",
       " 'firstname': 'Thomas',\n",
       " 'lastname': 'Shelby',\n",
       " 'position': 'CEO',\n",
       " 'gender': 'Male',\n",
       " 'age': 35,\n",
       " 'description': \"Thomas 'Tommy' Michael Shelby M.P. OBE, is the leader of the Birmingham criminal gang Peaky Blinders and the patriarch of the Shelby Family. His experiences during and after the First World War have left him disillusioned and determined to move his family up in the world.\",\n",
       " 'nicknames': ['Tom', 'Tommy', 'Thomas'],\n",
       " 'company': 'Peaky Blinders',\n",
       " 'episodes': [1, 2, 4, 5, 6]}"
      ]
     },
     "execution_count": 14,
     "metadata": {},
     "output_type": "execute_result"
    }
   ],
   "source": [
    "cur = collection_peaky.find({\"age\":{\"$gte\" :30}})\n",
    "next(cur)"
   ]
  },
  {
   "cell_type": "markdown",
   "metadata": {},
   "source": [
    "Les opérations logiques sont aussi disponibles.\n",
    "\n",
    "OR `$or` et AND `$and` permettent de faire des requêtes complexes sur une collection. \n",
    "\n"
   ]
  },
  {
   "cell_type": "code",
   "execution_count": 15,
   "metadata": {},
   "outputs": [
    {
     "data": {
      "text/plain": [
       "{'_id': ObjectId('6573099c679db64d66b93f93'),\n",
       " 'firstname': 'Thomas',\n",
       " 'lastname': 'Shelby',\n",
       " 'position': 'CEO',\n",
       " 'gender': 'Male',\n",
       " 'age': 35,\n",
       " 'description': \"Thomas 'Tommy' Michael Shelby M.P. OBE, is the leader of the Birmingham criminal gang Peaky Blinders and the patriarch of the Shelby Family. His experiences during and after the First World War have left him disillusioned and determined to move his family up in the world.\",\n",
       " 'nicknames': ['Tom', 'Tommy', 'Thomas'],\n",
       " 'company': 'Peaky Blinders',\n",
       " 'episodes': [1, 2, 4, 5, 6]}"
      ]
     },
     "execution_count": 15,
     "metadata": {},
     "output_type": "execute_result"
    }
   ],
   "source": [
    "cur = collection_peaky.find({\"$and\":[{\"age\":{\"$gte\": 28, \"$lt\":40}}, {\"lastname\":\"Shelby\"}]})\n",
    "next(cur)"
   ]
  },
  {
   "cell_type": "markdown",
   "metadata": {},
   "source": [
    "### Requêtes complexes\n",
    "\n",
    "Les objets Mongo peuvent être assez complexes et les requêtes doivent pouvoir matcher tous types de documents.\n",
    "\n",
    "Pour requêter les valeurs d'une liste : "
   ]
  },
  {
   "cell_type": "code",
   "execution_count": 16,
   "metadata": {},
   "outputs": [
    {
     "data": {
      "text/plain": [
       "{'_id': ObjectId('6573099c679db64d66b93f98'),\n",
       " 'firstname': 'Michael',\n",
       " 'lastname': 'Gray',\n",
       " 'position': 'Accounting',\n",
       " 'gender': 'Male',\n",
       " 'age': 21,\n",
       " 'description': 'Michael Gray is the son of Polly Shelby, his father is dead, and cousin of the Shelby siblings. He is the Chief Accountant in the Shelby Company Limited.',\n",
       " 'nicknames': ['Henry Johnson', 'Jobbie Muncher', 'Mickey'],\n",
       " 'company': 'Peaky Blinders',\n",
       " 'episodes': [5, 6]}"
      ]
     },
     "execution_count": 16,
     "metadata": {},
     "output_type": "execute_result"
    }
   ],
   "source": [
    "cur = collection_peaky.find( { \"nicknames\":  [\"Henry Johnson\", \"Jobbie Muncher\", \"Mickey\"] } )\n",
    "next(cur)"
   ]
  },
  {
   "cell_type": "markdown",
   "metadata": {},
   "source": [
    "Le champ `nicknames` doit matcher exactement la liste donnée en argument (en contenu et en ordre). \n"
   ]
  },
  {
   "cell_type": "code",
   "execution_count": 17,
   "metadata": {},
   "outputs": [
    {
     "ename": "StopIteration",
     "evalue": "",
     "output_type": "error",
     "traceback": [
      "\u001b[1;31m---------------------------------------------------------------------------\u001b[0m",
      "\u001b[1;31mStopIteration\u001b[0m                             Traceback (most recent call last)",
      "\u001b[1;32mc:\\Users\\arthu\\Documents\\GitHub\\DataEngineerTools\\3Mongo\\Introduction.ipynb Cell 55\u001b[0m line \u001b[0;36m2\n\u001b[0;32m      <a href='vscode-notebook-cell:/c%3A/Users/arthu/Documents/GitHub/DataEngineerTools/3Mongo/Introduction.ipynb#Y105sZmlsZQ%3D%3D?line=0'>1</a>\u001b[0m cur \u001b[39m=\u001b[39m collection_peaky\u001b[39m.\u001b[39mfind( { \u001b[39m\"\u001b[39m\u001b[39mnicknames\u001b[39m\u001b[39m\"\u001b[39m:  [\u001b[39m\"\u001b[39m\u001b[39mHenry Johnson\u001b[39m\u001b[39m\"\u001b[39m,  \u001b[39m\"\u001b[39m\u001b[39mMickey\u001b[39m\u001b[39m\"\u001b[39m, \u001b[39m\"\u001b[39m\u001b[39mJobbie Muncher\u001b[39m\u001b[39m\"\u001b[39m] } )\n\u001b[1;32m----> <a href='vscode-notebook-cell:/c%3A/Users/arthu/Documents/GitHub/DataEngineerTools/3Mongo/Introduction.ipynb#Y105sZmlsZQ%3D%3D?line=1'>2</a>\u001b[0m \u001b[39mnext\u001b[39;49m(cur)\n",
      "File \u001b[1;32mc:\\Users\\arthu\\AppData\\Local\\Programs\\Python\\Python311\\Lib\\site-packages\\pymongo\\cursor.py:1267\u001b[0m, in \u001b[0;36mCursor.next\u001b[1;34m(self)\u001b[0m\n\u001b[0;32m   1265\u001b[0m     \u001b[39mreturn\u001b[39;00m \u001b[39mself\u001b[39m\u001b[39m.\u001b[39m__data\u001b[39m.\u001b[39mpopleft()\n\u001b[0;32m   1266\u001b[0m \u001b[39melse\u001b[39;00m:\n\u001b[1;32m-> 1267\u001b[0m     \u001b[39mraise\u001b[39;00m \u001b[39mStopIteration\u001b[39;00m\n",
      "\u001b[1;31mStopIteration\u001b[0m: "
     ]
    }
   ],
   "source": [
    "cur = collection_peaky.find( { \"nicknames\":  [\"Henry Johnson\",  \"Mickey\", \"Jobbie Muncher\"] } )\n",
    "next(cur)"
   ]
  },
  {
   "cell_type": "markdown",
   "metadata": {},
   "source": [
    "Lorsqu'aucun document n'a été trouvé le curseur est vide et donc renvoie une erreur lorsque l'on essaye de récupérer le prochain élément.\n",
    "\n",
    "Si maintenant on veut récupérer tous les documents avec \"Mickey\" et \"Jobbie Muncher\", peu importe l'ordre d'apparition et peu importe les autres éléments du tableau.\n"
   ]
  },
  {
   "cell_type": "code",
   "execution_count": null,
   "metadata": {},
   "outputs": [
    {
     "data": {
      "text/plain": [
       "{'_id': ObjectId('656f26afad98fc50da0e8e9f'),\n",
       " 'firstname': 'Michael',\n",
       " 'lastname': 'Gray',\n",
       " 'position': 'Accounting',\n",
       " 'gender': 'Male',\n",
       " 'age': 21,\n",
       " 'description': 'Michael Gray is the son of Polly Shelby, his father is dead, and cousin of the Shelby siblings. He is the Chief Accountant in the Shelby Company Limited.',\n",
       " 'nicknames': ['Henry Johnson', 'Jobbie Muncher', 'Mickey'],\n",
       " 'company': 'Peaky Blinders',\n",
       " 'episodes': [5, 6]}"
      ]
     },
     "execution_count": 115,
     "metadata": {},
     "output_type": "execute_result"
    }
   ],
   "source": [
    "cur = collection_peaky.find( { \"nicknames\":  {\"$all\" :[\"Mickey\", \"Jobbie Muncher\"] } } )\n",
    "next(cur)"
   ]
  },
  {
   "cell_type": "markdown",
   "metadata": {},
   "source": [
    "On peut vouloir maintenant récupérer tous les documents comptenant \"Mickey\" dans les nicknames (listes). \n"
   ]
  },
  {
   "cell_type": "code",
   "execution_count": null,
   "metadata": {},
   "outputs": [
    {
     "data": {
      "text/plain": [
       "{'_id': ObjectId('656f26afad98fc50da0e8e9f'),\n",
       " 'firstname': 'Michael',\n",
       " 'lastname': 'Gray',\n",
       " 'position': 'Accounting',\n",
       " 'gender': 'Male',\n",
       " 'age': 21,\n",
       " 'description': 'Michael Gray is the son of Polly Shelby, his father is dead, and cousin of the Shelby siblings. He is the Chief Accountant in the Shelby Company Limited.',\n",
       " 'nicknames': ['Henry Johnson', 'Jobbie Muncher', 'Mickey'],\n",
       " 'company': 'Peaky Blinders',\n",
       " 'episodes': [5, 6]}"
      ]
     },
     "execution_count": 116,
     "metadata": {},
     "output_type": "execute_result"
    }
   ],
   "source": [
    "cur = collection_peaky.find( { \"nicknames\": \"Mickey\" } )\n",
    "next(cur)"
   ]
  },
  {
   "cell_type": "markdown",
   "metadata": {},
   "source": [
    "Comme on vient de le voir, une requête sur le champ d'une liste se construit de la même manière qu'une requête sur un champ 'basique'.\n",
    "\n",
    "La syntaxe générique d'une requête Mongo est la suivante.\n",
    "```\n",
    "    db.<YOUR_COLLECTION_NAME>.find( { <array field>: { <operator1>: <value1>, ... } })\n",
    "```"
   ]
  },
  {
   "cell_type": "markdown",
   "metadata": {},
   "source": [
    "### Limitation, Projection et Tris"
   ]
  },
  {
   "cell_type": "markdown",
   "metadata": {},
   "source": [
    "Pour des raisons de performances, il peut être intéressant de limiter les accès réseaux. Pour cela, on peut sélectionner les champs devant être retournés (Projection). On peut aussi demander de limiter le nombre de documents (Limitation).\n",
    "\n",
    "La syntaxe est la suivante : \n",
    "\n",
    "```\n",
    "db.<YOUR_COLLECTION_NAME>.find(QUERY, PROJECTION).LIMIT(N_DOCUMENTS)\n",
    "```\n",
    "\n",
    "Un exemple de projection en utilisant les requêtes déjà utilisées plus haut.\n"
   ]
  },
  {
   "cell_type": "code",
   "execution_count": null,
   "metadata": {},
   "outputs": [
    {
     "data": {
      "text/plain": [
       "{'_id': ObjectId('656f26afad98fc50da0e8e9b'), 'position': 'CEO'}"
      ]
     },
     "execution_count": 117,
     "metadata": {},
     "output_type": "execute_result"
    }
   ],
   "source": [
    "cur = collection_peaky.find({\"lastname\":\"Shelby\"}, {\"position\":1})\n",
    "next(cur)"
   ]
  },
  {
   "cell_type": "markdown",
   "metadata": {},
   "source": [
    "Avec une requête plus complexe et une autre projection."
   ]
  },
  {
   "cell_type": "code",
   "execution_count": null,
   "metadata": {},
   "outputs": [
    {
     "data": {
      "text/plain": [
       "{'_id': ObjectId('656f26afad98fc50da0e8e9c'), 'firstname': 'Arthur'}"
      ]
     },
     "execution_count": 118,
     "metadata": {},
     "output_type": "execute_result"
    }
   ],
   "source": [
    "cur = collection_peaky.find({\"$and\":[{\"age\":{\"$gte\": 28, \"$lt\":40}}, {\"lastname\":\"Shelby\"}]}, {\"firstname\":1})\n",
    "next(cur)"
   ]
  },
  {
   "cell_type": "markdown",
   "metadata": {},
   "source": [
    "Un exemple de limitation : "
   ]
  },
  {
   "cell_type": "code",
   "execution_count": null,
   "metadata": {},
   "outputs": [
    {
     "data": {
      "text/plain": [
       "[{'_id': ObjectId('656f26afad98fc50da0e8e9b'),\n",
       "  'firstname': 'Thomas',\n",
       "  'lastname': 'Shelby',\n",
       "  'position': 'CEO',\n",
       "  'gender': 'Male',\n",
       "  'age': 35,\n",
       "  'description': \"Thomas 'Tommy' Michael Shelby M.P. OBE, is the leader of the Birmingham criminal gang Peaky Blinders and the patriarch of the Shelby Family. His experiences during and after the First World War have left him disillusioned and determined to move his family up in the world.\",\n",
       "  'nicknames': ['Tom', 'Tommy', 'Thomas'],\n",
       "  'company': 'Peaky Blinders',\n",
       "  'episodes': [1, 2, 4, 5, 6]},\n",
       " {'_id': ObjectId('656f26afad98fc50da0e8e9c'),\n",
       "  'firstname': 'Arthur',\n",
       "  'lastname': 'Shelby',\n",
       "  'position': 'Associate',\n",
       "  'gender': 'Male',\n",
       "  'age': 38,\n",
       "  'description': \"Arthur Shelby Jr. is the eldest of the Shelby siblings and the tough member of Peaky Blinders, the Deputy Vice President Shelby Company Limited. He's also a member of the ICA.\",\n",
       "  'company': 'Peaky Blinders',\n",
       "  'episodes': [1, 4, 6]}]"
      ]
     },
     "execution_count": 119,
     "metadata": {},
     "output_type": "execute_result"
    }
   ],
   "source": [
    "cur = collection_peaky.find({\"lastname\":\"Shelby\"}).limit(2)\n",
    "list(cur)"
   ]
  },
  {
   "cell_type": "markdown",
   "metadata": {},
   "source": [
    "Il est aussi possible de passer directement au Nième document avec la fonction `skip()`."
   ]
  },
  {
   "cell_type": "code",
   "execution_count": null,
   "metadata": {},
   "outputs": [
    {
     "data": {
      "text/plain": [
       "[{'_id': ObjectId('656f26afad98fc50da0e8e9b'),\n",
       "  'firstname': 'Thomas',\n",
       "  'lastname': 'Shelby',\n",
       "  'position': 'CEO',\n",
       "  'gender': 'Male',\n",
       "  'age': 35,\n",
       "  'description': \"Thomas 'Tommy' Michael Shelby M.P. OBE, is the leader of the Birmingham criminal gang Peaky Blinders and the patriarch of the Shelby Family. His experiences during and after the First World War have left him disillusioned and determined to move his family up in the world.\",\n",
       "  'nicknames': ['Tom', 'Tommy', 'Thomas'],\n",
       "  'company': 'Peaky Blinders',\n",
       "  'episodes': [1, 2, 4, 5, 6]},\n",
       " {'_id': ObjectId('656f26afad98fc50da0e8e9c'),\n",
       "  'firstname': 'Arthur',\n",
       "  'lastname': 'Shelby',\n",
       "  'position': 'Associate',\n",
       "  'gender': 'Male',\n",
       "  'age': 38,\n",
       "  'description': \"Arthur Shelby Jr. is the eldest of the Shelby siblings and the tough member of Peaky Blinders, the Deputy Vice President Shelby Company Limited. He's also a member of the ICA.\",\n",
       "  'company': 'Peaky Blinders',\n",
       "  'episodes': [1, 4, 6]},\n",
       " {'_id': ObjectId('656f26afad98fc50da0e8e9d'),\n",
       "  'firstname': 'John',\n",
       "  'lastname': 'Shelby',\n",
       "  'position': 'Associate',\n",
       "  'gender': 'Male',\n",
       "  'age': 30,\n",
       "  'description': 'John Michael Shelby, also called Johnny or John Boy, was the third of Shelby siblings and a member of the Peaky Blinders.',\n",
       "  'nicknames': ['Johnny', 'John Boy'],\n",
       "  'company': 'Peaky Blinders',\n",
       "  'episodes': [4, 5, 6]},\n",
       " {'_id': ObjectId('656f353dad98fc50da0e8ea7'),\n",
       "  'firstname': 'Thomas',\n",
       "  'lastname': 'Shelby',\n",
       "  'position': 'CEO',\n",
       "  'gender': 'Male',\n",
       "  'age': 35,\n",
       "  'description': \"Thomas 'Tommy' Michael Shelby M.P. OBE, is the leader of the Birmingham criminal gang Peaky Blinders and the patriarch of the Shelby Family. His experiences during and after the First World War have left him disillusioned and determined to move his family up in the world.\",\n",
       "  'nicknames': ['Tom', 'Tommy', 'Thomas'],\n",
       "  'company': 'Peaky Blinders',\n",
       "  'episodes': [1, 2, 4, 5, 6]},\n",
       " {'_id': ObjectId('656f353dad98fc50da0e8ea8'),\n",
       "  'firstname': 'Thomas',\n",
       "  'lastname': 'Shelby',\n",
       "  'position': 'CEO',\n",
       "  'gender': 'Male',\n",
       "  'age': 35,\n",
       "  'description': \"Thomas 'Tommy' Michael Shelby M.P. OBE, is the leader of the Birmingham criminal gang Peaky Blinders and the patriarch of the Shelby Family. His experiences during and after the First World War have left him disillusioned and determined to move his family up in the world.\",\n",
       "  'nicknames': ['Tom', 'Tommy', 'Thomas'],\n",
       "  'company': 'Peaky Blinders',\n",
       "  'episodes': [1, 2, 4, 5, 6]},\n",
       " {'_id': ObjectId('656f353dad98fc50da0e8ea9'),\n",
       "  'firstname': 'Arthur',\n",
       "  'lastname': 'Shelby',\n",
       "  'position': 'Associate',\n",
       "  'gender': 'Male',\n",
       "  'age': 38,\n",
       "  'description': \"Arthur Shelby Jr. is the eldest of the Shelby siblings and the tough member of Peaky Blinders, the Deputy Vice President Shelby Company Limited. He's also a member of the ICA.\",\n",
       "  'company': 'Peaky Blinders',\n",
       "  'episodes': [1, 4, 6]},\n",
       " {'_id': ObjectId('656f353dad98fc50da0e8eaa'),\n",
       "  'firstname': 'John',\n",
       "  'lastname': 'Shelby',\n",
       "  'position': 'Associate',\n",
       "  'gender': 'Male',\n",
       "  'age': 30,\n",
       "  'description': 'John Michael Shelby, also called Johnny or John Boy, was the third of Shelby siblings and a member of the Peaky Blinders.',\n",
       "  'nicknames': ['Johnny', 'John Boy'],\n",
       "  'company': 'Peaky Blinders',\n",
       "  'episodes': [4, 5, 6]}]"
      ]
     },
     "execution_count": 120,
     "metadata": {},
     "output_type": "execute_result"
    }
   ],
   "source": [
    "list(collection_peaky.find({\"lastname\":\"Shelby\"}))"
   ]
  },
  {
   "cell_type": "code",
   "execution_count": null,
   "metadata": {},
   "outputs": [
    {
     "data": {
      "text/plain": [
       "{'_id': ObjectId('656f26afad98fc50da0e8e9c'),\n",
       " 'firstname': 'Arthur',\n",
       " 'lastname': 'Shelby',\n",
       " 'position': 'Associate',\n",
       " 'gender': 'Male',\n",
       " 'age': 38,\n",
       " 'description': \"Arthur Shelby Jr. is the eldest of the Shelby siblings and the tough member of Peaky Blinders, the Deputy Vice President Shelby Company Limited. He's also a member of the ICA.\",\n",
       " 'company': 'Peaky Blinders',\n",
       " 'episodes': [1, 4, 6]}"
      ]
     },
     "execution_count": 121,
     "metadata": {},
     "output_type": "execute_result"
    }
   ],
   "source": [
    "cur = collection_peaky.find({\"lastname\":\"Shelby\"}).skip(1)\n",
    "next(cur)"
   ]
  },
  {
   "cell_type": "markdown",
   "metadata": {},
   "source": [
    "On peut trier les résultats récupérés. \n",
    "\n",
    "Pour trier dans l'ordre ascendant et donc récupérer le plus jeune de la famille:"
   ]
  },
  {
   "cell_type": "code",
   "execution_count": null,
   "metadata": {},
   "outputs": [
    {
     "data": {
      "text/plain": [
       "{'_id': ObjectId('656f353dad98fc50da0e8eaa'), 'firstname': 'John'}"
      ]
     },
     "execution_count": 122,
     "metadata": {},
     "output_type": "execute_result"
    }
   ],
   "source": [
    "cur = collection_peaky.find({\"lastname\":\"Shelby\"}, {\"firstname\":1}).sort([(\"age\", 1)])\n",
    "next(cur)"
   ]
  },
  {
   "cell_type": "markdown",
   "metadata": {},
   "source": [
    "Pour trier dans l'ordre descendant :\n"
   ]
  },
  {
   "cell_type": "code",
   "execution_count": null,
   "metadata": {},
   "outputs": [
    {
     "data": {
      "text/plain": [
       "{'_id': ObjectId('656f26afad98fc50da0e8e9c'), 'firstname': 'Arthur'}"
      ]
     },
     "execution_count": 123,
     "metadata": {},
     "output_type": "execute_result"
    }
   ],
   "source": [
    "cur = collection_peaky.find({\"lastname\":\"Shelby\"}, {\"firstname\":1}).sort([(\"age\", -1)])\n",
    "next(cur)"
   ]
  },
  {
   "cell_type": "markdown",
   "metadata": {},
   "source": [
    "On peut aussi trier selon une clé puis une autre."
   ]
  },
  {
   "cell_type": "code",
   "execution_count": null,
   "metadata": {},
   "outputs": [
    {
     "data": {
      "text/plain": [
       "{'_id': ObjectId('656f26afad98fc50da0e8e9c'), 'firstname': 'Arthur'}"
      ]
     },
     "execution_count": 124,
     "metadata": {},
     "output_type": "execute_result"
    }
   ],
   "source": [
    "cur = collection_peaky.find({\"lastname\":\"Shelby\"}, {\"firstname\":1}).sort([(\"age\", -1), (\"firstname\", 1)])\n",
    "next(cur)"
   ]
  },
  {
   "cell_type": "markdown",
   "metadata": {},
   "source": [
    "## Indexation"
   ]
  },
  {
   "cell_type": "markdown",
   "metadata": {},
   "source": [
    "L'indexation permet d'accélérer les performances sur les requêtes. Si aucun index n'est mis en place, MongoDB doit effectuer un scan de tous les documents pour trouver ceux qui sont pertinents. L'index permet de stocker les valeurs d'un champ de façon triée pour limiter le nombre de document à parcourir pour effectuer une requête. \n",
    "\n",
    "Vous pouvez accéder à plus d'informations ici : https://docs.mongodb.com/manual/indexes/\n",
    "\n",
    "### Indexation simple\n",
    "\n",
    "L'indexation simple permet de créer l'index en fonction d'un seul champ. \n",
    "\n",
    "On spécifie alors l'ordre dans lequel l'index est créé et trié. \n",
    "\n",
    "Dans l'ordre croissant, "
   ]
  },
  {
   "cell_type": "code",
   "execution_count": null,
   "metadata": {},
   "outputs": [
    {
     "data": {
      "text/plain": [
       "'age_2'"
      ]
     },
     "execution_count": 125,
     "metadata": {},
     "output_type": "execute_result"
    }
   ],
   "source": [
    "collection_peaky.create_index([(\"age\", 2)])"
   ]
  },
  {
   "cell_type": "code",
   "execution_count": null,
   "metadata": {},
   "outputs": [
    {
     "data": {
      "text/plain": [
       "{'_id_': {'v': 2, 'key': [('_id', 1)]},\n",
       " 'age_-1_firstname_1': {'v': 2, 'key': [('age', -1), ('firstname', 1)]},\n",
       " 'description_text': {'v': 2,\n",
       "  'key': [('_fts', 'text'), ('_ftsx', 1)],\n",
       "  'weights': SON([('description', 1)]),\n",
       "  'default_language': 'english',\n",
       "  'language_override': 'language',\n",
       "  'textIndexVersion': 3},\n",
       " 'age_2': {'v': 2, 'key': [('age', 2)]}}"
      ]
     },
     "execution_count": 126,
     "metadata": {},
     "output_type": "execute_result"
    }
   ],
   "source": [
    "collection_peaky.index_information()"
   ]
  },
  {
   "cell_type": "markdown",
   "metadata": {},
   "source": [
    "Et dans l'ordre décroissant, "
   ]
  },
  {
   "cell_type": "code",
   "execution_count": null,
   "metadata": {},
   "outputs": [
    {
     "data": {
      "text/plain": [
       "'age_-1'"
      ]
     },
     "execution_count": 127,
     "metadata": {},
     "output_type": "execute_result"
    }
   ],
   "source": [
    "collection_peaky.create_index([(\"age\", -1)])"
   ]
  },
  {
   "cell_type": "code",
   "execution_count": null,
   "metadata": {},
   "outputs": [
    {
     "data": {
      "text/plain": [
       "{'_id_': {'v': 2, 'key': [('_id', 1)]},\n",
       " 'age_-1_firstname_1': {'v': 2, 'key': [('age', -1), ('firstname', 1)]},\n",
       " 'description_text': {'v': 2,\n",
       "  'key': [('_fts', 'text'), ('_ftsx', 1)],\n",
       "  'weights': SON([('description', 1)]),\n",
       "  'default_language': 'english',\n",
       "  'language_override': 'language',\n",
       "  'textIndexVersion': 3},\n",
       " 'age_2': {'v': 2, 'key': [('age', 2)]},\n",
       " 'age_-1': {'v': 2, 'key': [('age', -1)]}}"
      ]
     },
     "execution_count": 128,
     "metadata": {},
     "output_type": "execute_result"
    }
   ],
   "source": [
    "collection_peaky.index_information()"
   ]
  },
  {
   "cell_type": "markdown",
   "metadata": {},
   "source": [
    "Pour supprimer un index en particulier : "
   ]
  },
  {
   "cell_type": "code",
   "execution_count": null,
   "metadata": {},
   "outputs": [
    {
     "ename": "OperationFailure",
     "evalue": "index not found with name [age_1], full error: {'ok': 0.0, 'errmsg': 'index not found with name [age_1]', 'code': 27, 'codeName': 'IndexNotFound'}",
     "output_type": "error",
     "traceback": [
      "\u001b[1;31m---------------------------------------------------------------------------\u001b[0m",
      "\u001b[1;31mOperationFailure\u001b[0m                          Traceback (most recent call last)",
      "\u001b[1;32mc:\\Users\\arthu\\Documents\\GitHub\\DataEngineerTools\\3Mongo\\Introduction.ipynb Cell 85\u001b[0m line \u001b[0;36m1\n\u001b[1;32m----> <a href='vscode-notebook-cell:/c%3A/Users/arthu/Documents/GitHub/DataEngineerTools/3Mongo/Introduction.ipynb#Y150sZmlsZQ%3D%3D?line=0'>1</a>\u001b[0m collection_peaky\u001b[39m.\u001b[39;49mdrop_index(\u001b[39m\"\u001b[39;49m\u001b[39mage_1\u001b[39;49m\u001b[39m\"\u001b[39;49m)\n",
      "File \u001b[1;32mc:\\Users\\arthu\\AppData\\Local\\Programs\\Python\\Python311\\Lib\\site-packages\\pymongo\\_csot.py:107\u001b[0m, in \u001b[0;36mapply.<locals>.csot_wrapper\u001b[1;34m(self, *args, **kwargs)\u001b[0m\n\u001b[0;32m    105\u001b[0m         \u001b[39mwith\u001b[39;00m _TimeoutContext(timeout):\n\u001b[0;32m    106\u001b[0m             \u001b[39mreturn\u001b[39;00m func(\u001b[39mself\u001b[39m, \u001b[39m*\u001b[39margs, \u001b[39m*\u001b[39m\u001b[39m*\u001b[39mkwargs)\n\u001b[1;32m--> 107\u001b[0m \u001b[39mreturn\u001b[39;00m func(\u001b[39mself\u001b[39;49m, \u001b[39m*\u001b[39;49margs, \u001b[39m*\u001b[39;49m\u001b[39m*\u001b[39;49mkwargs)\n",
      "File \u001b[1;32mc:\\Users\\arthu\\AppData\\Local\\Programs\\Python\\Python311\\Lib\\site-packages\\pymongo\\collection.py:2232\u001b[0m, in \u001b[0;36mCollection.drop_index\u001b[1;34m(self, index_or_name, session, comment, **kwargs)\u001b[0m\n\u001b[0;32m   2230\u001b[0m     cmd[\u001b[39m\"\u001b[39m\u001b[39mcomment\u001b[39m\u001b[39m\"\u001b[39m] \u001b[39m=\u001b[39m comment\n\u001b[0;32m   2231\u001b[0m \u001b[39mwith\u001b[39;00m \u001b[39mself\u001b[39m\u001b[39m.\u001b[39m_conn_for_writes(session) \u001b[39mas\u001b[39;00m conn:\n\u001b[1;32m-> 2232\u001b[0m     \u001b[39mself\u001b[39;49m\u001b[39m.\u001b[39;49m_command(\n\u001b[0;32m   2233\u001b[0m         conn,\n\u001b[0;32m   2234\u001b[0m         cmd,\n\u001b[0;32m   2235\u001b[0m         read_preference\u001b[39m=\u001b[39;49mReadPreference\u001b[39m.\u001b[39;49mPRIMARY,\n\u001b[0;32m   2236\u001b[0m         allowable_errors\u001b[39m=\u001b[39;49m[\u001b[39m\"\u001b[39;49m\u001b[39mns not found\u001b[39;49m\u001b[39m\"\u001b[39;49m, \u001b[39m26\u001b[39;49m],\n\u001b[0;32m   2237\u001b[0m         write_concern\u001b[39m=\u001b[39;49m\u001b[39mself\u001b[39;49m\u001b[39m.\u001b[39;49m_write_concern_for(session),\n\u001b[0;32m   2238\u001b[0m         session\u001b[39m=\u001b[39;49msession,\n\u001b[0;32m   2239\u001b[0m     )\n",
      "File \u001b[1;32mc:\\Users\\arthu\\AppData\\Local\\Programs\\Python\\Python311\\Lib\\site-packages\\pymongo\\collection.py:308\u001b[0m, in \u001b[0;36mCollection._command\u001b[1;34m(self, conn, command, read_preference, codec_options, check, allowable_errors, read_concern, write_concern, collation, session, retryable_write, user_fields)\u001b[0m\n\u001b[0;32m    280\u001b[0m \u001b[39m\u001b[39m\u001b[39m\"\"\"Internal command helper.\u001b[39;00m\n\u001b[0;32m    281\u001b[0m \n\u001b[0;32m    282\u001b[0m \u001b[39m:Parameters:\u001b[39;00m\n\u001b[1;32m   (...)\u001b[0m\n\u001b[0;32m    305\u001b[0m \u001b[39m  The result document.\u001b[39;00m\n\u001b[0;32m    306\u001b[0m \u001b[39m\"\"\"\u001b[39;00m\n\u001b[0;32m    307\u001b[0m \u001b[39mwith\u001b[39;00m \u001b[39mself\u001b[39m\u001b[39m.\u001b[39m__database\u001b[39m.\u001b[39mclient\u001b[39m.\u001b[39m_tmp_session(session) \u001b[39mas\u001b[39;00m s:\n\u001b[1;32m--> 308\u001b[0m     \u001b[39mreturn\u001b[39;00m conn\u001b[39m.\u001b[39;49mcommand(\n\u001b[0;32m    309\u001b[0m         \u001b[39mself\u001b[39;49m\u001b[39m.\u001b[39;49m__database\u001b[39m.\u001b[39;49mname,\n\u001b[0;32m    310\u001b[0m         command,\n\u001b[0;32m    311\u001b[0m         read_preference \u001b[39mor\u001b[39;49;00m \u001b[39mself\u001b[39;49m\u001b[39m.\u001b[39;49m_read_preference_for(session),\n\u001b[0;32m    312\u001b[0m         codec_options \u001b[39mor\u001b[39;49;00m \u001b[39mself\u001b[39;49m\u001b[39m.\u001b[39;49mcodec_options,\n\u001b[0;32m    313\u001b[0m         check,\n\u001b[0;32m    314\u001b[0m         allowable_errors,\n\u001b[0;32m    315\u001b[0m         read_concern\u001b[39m=\u001b[39;49mread_concern,\n\u001b[0;32m    316\u001b[0m         write_concern\u001b[39m=\u001b[39;49mwrite_concern,\n\u001b[0;32m    317\u001b[0m         parse_write_concern_error\u001b[39m=\u001b[39;49m\u001b[39mTrue\u001b[39;49;00m,\n\u001b[0;32m    318\u001b[0m         collation\u001b[39m=\u001b[39;49mcollation,\n\u001b[0;32m    319\u001b[0m         session\u001b[39m=\u001b[39;49ms,\n\u001b[0;32m    320\u001b[0m         client\u001b[39m=\u001b[39;49m\u001b[39mself\u001b[39;49m\u001b[39m.\u001b[39;49m__database\u001b[39m.\u001b[39;49mclient,\n\u001b[0;32m    321\u001b[0m         retryable_write\u001b[39m=\u001b[39;49mretryable_write,\n\u001b[0;32m    322\u001b[0m         user_fields\u001b[39m=\u001b[39;49muser_fields,\n\u001b[0;32m    323\u001b[0m     )\n",
      "File \u001b[1;32mc:\\Users\\arthu\\AppData\\Local\\Programs\\Python\\Python311\\Lib\\site-packages\\pymongo\\helpers.py:322\u001b[0m, in \u001b[0;36m_handle_reauth.<locals>.inner\u001b[1;34m(*args, **kwargs)\u001b[0m\n\u001b[0;32m    319\u001b[0m \u001b[39mfrom\u001b[39;00m \u001b[39mpymongo\u001b[39;00m\u001b[39m.\u001b[39;00m\u001b[39mpool\u001b[39;00m \u001b[39mimport\u001b[39;00m Connection\n\u001b[0;32m    321\u001b[0m \u001b[39mtry\u001b[39;00m:\n\u001b[1;32m--> 322\u001b[0m     \u001b[39mreturn\u001b[39;00m func(\u001b[39m*\u001b[39;49margs, \u001b[39m*\u001b[39;49m\u001b[39m*\u001b[39;49mkwargs)\n\u001b[0;32m    323\u001b[0m \u001b[39mexcept\u001b[39;00m OperationFailure \u001b[39mas\u001b[39;00m exc:\n\u001b[0;32m    324\u001b[0m     \u001b[39mif\u001b[39;00m no_reauth:\n",
      "File \u001b[1;32mc:\\Users\\arthu\\AppData\\Local\\Programs\\Python\\Python311\\Lib\\site-packages\\pymongo\\pool.py:968\u001b[0m, in \u001b[0;36mConnection.command\u001b[1;34m(self, dbname, spec, read_preference, codec_options, check, allowable_errors, read_concern, write_concern, parse_write_concern_error, collation, session, client, retryable_write, publish_events, user_fields, exhaust_allowed)\u001b[0m\n\u001b[0;32m    966\u001b[0m     \u001b[39mself\u001b[39m\u001b[39m.\u001b[39m_raise_if_not_writable(unacknowledged)\n\u001b[0;32m    967\u001b[0m \u001b[39mtry\u001b[39;00m:\n\u001b[1;32m--> 968\u001b[0m     \u001b[39mreturn\u001b[39;00m command(\n\u001b[0;32m    969\u001b[0m         \u001b[39mself\u001b[39;49m,\n\u001b[0;32m    970\u001b[0m         dbname,\n\u001b[0;32m    971\u001b[0m         spec,\n\u001b[0;32m    972\u001b[0m         \u001b[39mself\u001b[39;49m\u001b[39m.\u001b[39;49mis_mongos,\n\u001b[0;32m    973\u001b[0m         read_preference,\n\u001b[0;32m    974\u001b[0m         codec_options,\n\u001b[0;32m    975\u001b[0m         session,\n\u001b[0;32m    976\u001b[0m         client,\n\u001b[0;32m    977\u001b[0m         check,\n\u001b[0;32m    978\u001b[0m         allowable_errors,\n\u001b[0;32m    979\u001b[0m         \u001b[39mself\u001b[39;49m\u001b[39m.\u001b[39;49maddress,\n\u001b[0;32m    980\u001b[0m         listeners,\n\u001b[0;32m    981\u001b[0m         \u001b[39mself\u001b[39;49m\u001b[39m.\u001b[39;49mmax_bson_size,\n\u001b[0;32m    982\u001b[0m         read_concern,\n\u001b[0;32m    983\u001b[0m         parse_write_concern_error\u001b[39m=\u001b[39;49mparse_write_concern_error,\n\u001b[0;32m    984\u001b[0m         collation\u001b[39m=\u001b[39;49mcollation,\n\u001b[0;32m    985\u001b[0m         compression_ctx\u001b[39m=\u001b[39;49m\u001b[39mself\u001b[39;49m\u001b[39m.\u001b[39;49mcompression_context,\n\u001b[0;32m    986\u001b[0m         use_op_msg\u001b[39m=\u001b[39;49m\u001b[39mself\u001b[39;49m\u001b[39m.\u001b[39;49mop_msg_enabled,\n\u001b[0;32m    987\u001b[0m         unacknowledged\u001b[39m=\u001b[39;49munacknowledged,\n\u001b[0;32m    988\u001b[0m         user_fields\u001b[39m=\u001b[39;49muser_fields,\n\u001b[0;32m    989\u001b[0m         exhaust_allowed\u001b[39m=\u001b[39;49mexhaust_allowed,\n\u001b[0;32m    990\u001b[0m         write_concern\u001b[39m=\u001b[39;49mwrite_concern,\n\u001b[0;32m    991\u001b[0m     )\n\u001b[0;32m    992\u001b[0m \u001b[39mexcept\u001b[39;00m (OperationFailure, NotPrimaryError):\n\u001b[0;32m    993\u001b[0m     \u001b[39mraise\u001b[39;00m\n",
      "File \u001b[1;32mc:\\Users\\arthu\\AppData\\Local\\Programs\\Python\\Python311\\Lib\\site-packages\\pymongo\\network.py:192\u001b[0m, in \u001b[0;36mcommand\u001b[1;34m(conn, dbname, spec, is_mongos, read_preference, codec_options, session, client, check, allowable_errors, address, listeners, max_bson_size, read_concern, parse_write_concern_error, collation, compression_ctx, use_op_msg, unacknowledged, user_fields, exhaust_allowed, write_concern)\u001b[0m\n\u001b[0;32m    190\u001b[0m             client\u001b[39m.\u001b[39m_process_response(response_doc, session)\n\u001b[0;32m    191\u001b[0m         \u001b[39mif\u001b[39;00m check:\n\u001b[1;32m--> 192\u001b[0m             helpers\u001b[39m.\u001b[39;49m_check_command_response(\n\u001b[0;32m    193\u001b[0m                 response_doc,\n\u001b[0;32m    194\u001b[0m                 conn\u001b[39m.\u001b[39;49mmax_wire_version,\n\u001b[0;32m    195\u001b[0m                 allowable_errors,\n\u001b[0;32m    196\u001b[0m                 parse_write_concern_error\u001b[39m=\u001b[39;49mparse_write_concern_error,\n\u001b[0;32m    197\u001b[0m             )\n\u001b[0;32m    198\u001b[0m \u001b[39mexcept\u001b[39;00m \u001b[39mException\u001b[39;00m \u001b[39mas\u001b[39;00m exc:\n\u001b[0;32m    199\u001b[0m     \u001b[39mif\u001b[39;00m publish:\n",
      "File \u001b[1;32mc:\\Users\\arthu\\AppData\\Local\\Programs\\Python\\Python311\\Lib\\site-packages\\pymongo\\helpers.py:230\u001b[0m, in \u001b[0;36m_check_command_response\u001b[1;34m(response, max_wire_version, allowable_errors, parse_write_concern_error)\u001b[0m\n\u001b[0;32m    227\u001b[0m \u001b[39melif\u001b[39;00m code \u001b[39m==\u001b[39m \u001b[39m43\u001b[39m:\n\u001b[0;32m    228\u001b[0m     \u001b[39mraise\u001b[39;00m CursorNotFound(errmsg, code, response, max_wire_version)\n\u001b[1;32m--> 230\u001b[0m \u001b[39mraise\u001b[39;00m OperationFailure(errmsg, code, response, max_wire_version)\n",
      "\u001b[1;31mOperationFailure\u001b[0m: index not found with name [age_1], full error: {'ok': 0.0, 'errmsg': 'index not found with name [age_1]', 'code': 27, 'codeName': 'IndexNotFound'}"
     ]
    }
   ],
   "source": [
    "collection_peaky.drop_index(\"age_1\")"
   ]
  },
  {
   "cell_type": "code",
   "execution_count": null,
   "metadata": {},
   "outputs": [
    {
     "data": {
      "text/plain": [
       "{'_id_': {'v': 2, 'key': [('_id', 1)]},\n",
       " 'age_-1_firstname_1': {'v': 2, 'key': [('age', -1), ('firstname', 1)]},\n",
       " 'description_text': {'v': 2,\n",
       "  'key': [('_fts', 'text'), ('_ftsx', 1)],\n",
       "  'weights': SON([('description', 1)]),\n",
       "  'default_language': 'english',\n",
       "  'language_override': 'language',\n",
       "  'textIndexVersion': 3},\n",
       " 'age_2': {'v': 2, 'key': [('age', 2)]},\n",
       " 'age_-1': {'v': 2, 'key': [('age', -1)]}}"
      ]
     },
     "execution_count": 130,
     "metadata": {},
     "output_type": "execute_result"
    }
   ],
   "source": [
    "collection_peaky.index_information()"
   ]
  },
  {
   "cell_type": "markdown",
   "metadata": {},
   "source": [
    "Pour supprimer tous les index : "
   ]
  },
  {
   "cell_type": "code",
   "execution_count": null,
   "metadata": {},
   "outputs": [],
   "source": [
    "collection_peaky.drop_indexes()"
   ]
  },
  {
   "cell_type": "code",
   "execution_count": null,
   "metadata": {},
   "outputs": [
    {
     "data": {
      "text/plain": [
       "{'_id_': {'v': 2, 'key': [('_id', 1)]}}"
      ]
     },
     "execution_count": 132,
     "metadata": {},
     "output_type": "execute_result"
    }
   ],
   "source": [
    "collection_peaky.index_information()"
   ]
  },
  {
   "cell_type": "markdown",
   "metadata": {},
   "source": [
    "Les performances ne sont visibles que pour des collections de taille importante. Mais se ressente très rapidement et sont souvent indispensables. "
   ]
  },
  {
   "cell_type": "markdown",
   "metadata": {},
   "source": [
    "### Indexation composée\n",
    "\n",
    "L'indexation composée permet de créer un index basé sur deux champs différents. L'ordre des champs spécifié dans la création d'un index est important.On peut trier dans l'ordre croissant le premier champ et dans l'ordre décroissant le deuxième champ. \n",
    "\n",
    "Il est très utile quand plusieurs champs sont souvent utilisé conjointement pour effectuer des queries. "
   ]
  },
  {
   "cell_type": "code",
   "execution_count": null,
   "metadata": {},
   "outputs": [
    {
     "data": {
      "text/plain": [
       "'age_-1_firstname_1'"
      ]
     },
     "execution_count": 133,
     "metadata": {},
     "output_type": "execute_result"
    }
   ],
   "source": [
    "collection_peaky.create_index([(\"age\", -1), (\"firstname\", 1)])"
   ]
  },
  {
   "cell_type": "code",
   "execution_count": null,
   "metadata": {},
   "outputs": [
    {
     "data": {
      "text/plain": [
       "{'_id_': {'v': 2, 'key': [('_id', 1)]},\n",
       " 'age_-1_firstname_1': {'v': 2, 'key': [('age', -1), ('firstname', 1)]}}"
      ]
     },
     "execution_count": 134,
     "metadata": {},
     "output_type": "execute_result"
    }
   ],
   "source": [
    "collection_peaky.index_information()"
   ]
  },
  {
   "cell_type": "code",
   "execution_count": null,
   "metadata": {},
   "outputs": [
    {
     "ename": "SyntaxError",
     "evalue": "invalid syntax (1844469871.py, line 1)",
     "output_type": "error",
     "traceback": [
      "\u001b[1;36m  Cell \u001b[1;32mIn[53], line 1\u001b[1;36m\u001b[0m\n\u001b[1;33m    Indexations spéciales\u001b[0m\n\u001b[1;37m                ^\u001b[0m\n\u001b[1;31mSyntaxError\u001b[0m\u001b[1;31m:\u001b[0m invalid syntax\n"
     ]
    }
   ],
   "source": [
    "Indexations spéciales"
   ]
  },
  {
   "cell_type": "markdown",
   "metadata": {},
   "source": [
    "\n",
    "### Indexations spéciales\n",
    "\n",
    "Mongo permet plusieurs indexations : \n",
    "\n",
    "- Text : permet de faire de la recherche naturelle de *queries* dans du texte. Cet index peut devenir très rapidement très important et prendre beaucoup de place mémoire. Cet index textuel contient un index par mot contenu dans l'ensemble des documents. Il peut aussi être très lent à créer.\n",
    "- Multiclés : permet de créer un index sur les éléments d'objets stockés dans des listes ou *arrays*.\n",
    "- 2D, 2DSphere, geoHaystack : permet de créer des index sur des données géospatiales.\n",
    "- Hash : permet de stocker les valeurs des champs sous forme de *hash*.\n",
    "\n",
    "Dans ce cours, on se contentera de faire de l'indexation textuelle.\n",
    "\n",
    "Tous ces mécanismes d'indexation permettent d'accélérer les performances des requêtes. Mais ils peuvent avoir des effets négatifs: \n",
    "\n",
    "- Sur l'occupation mémoire : Chaque index doit avoir un minimum de 8 kB et peut prendre beaucoup de place sur le disque et dans la mémoire RAM.\n",
    "- Sur le temps d'exécution : les opérations d'insertion et d'écriture peuvent être longues puisque Mongo doit insérer chaque nouveau document dans l'index en plus de l'insertion dans la collection.\n",
    "\n",
    "Exemple : \n",
    "\n",
    "Pour créer un index textuel sur la description des personnages : \n"
   ]
  },
  {
   "cell_type": "code",
   "execution_count": null,
   "metadata": {},
   "outputs": [
    {
     "data": {
      "text/plain": [
       "'description_text'"
      ]
     },
     "execution_count": 135,
     "metadata": {},
     "output_type": "execute_result"
    }
   ],
   "source": [
    "collection_peaky.create_index([(\"description\",  \"text\")])"
   ]
  },
  {
   "cell_type": "code",
   "execution_count": null,
   "metadata": {},
   "outputs": [
    {
     "data": {
      "text/plain": [
       "{'_id_': {'v': 2, 'key': [('_id', 1)]},\n",
       " 'age_-1_firstname_1': {'v': 2, 'key': [('age', -1), ('firstname', 1)]},\n",
       " 'description_text': {'v': 2,\n",
       "  'key': [('_fts', 'text'), ('_ftsx', 1)],\n",
       "  'weights': SON([('description', 1)]),\n",
       "  'default_language': 'english',\n",
       "  'language_override': 'language',\n",
       "  'textIndexVersion': 3}}"
      ]
     },
     "execution_count": 136,
     "metadata": {},
     "output_type": "execute_result"
    }
   ],
   "source": [
    "collection_peaky.index_information()"
   ]
  },
  {
   "cell_type": "markdown",
   "metadata": {},
   "source": [
    "Uniquement après que cet index de texte ait été créé, on peut utiliser la méthode `find()` avec l'argument `$text` pour faire une requête dans le texte.\n"
   ]
  },
  {
   "cell_type": "code",
   "execution_count": null,
   "metadata": {},
   "outputs": [
    {
     "data": {
      "text/plain": [
       "{'_id': ObjectId('656f353dad98fc50da0e8eab'),\n",
       " 'firstname': 'Ada',\n",
       " 'lastname': 'Thorne',\n",
       " 'position': 'HR',\n",
       " 'gender': 'Female',\n",
       " 'age': 28,\n",
       " 'description': \"Ada Thorne is the fourth and only female of the Shelby sibling. She's the Head of Acquisitions of the Shelby Company Limited.\",\n",
       " 'nicknames': ['Ada Shelby'],\n",
       " 'company': 'Peaky Blinders',\n",
       " 'episodes': [1, 2, 6]}"
      ]
     },
     "execution_count": 137,
     "metadata": {},
     "output_type": "execute_result"
    }
   ],
   "source": [
    "cur = collection_peaky.find( { \"$text\": { \"$search\": \"female\" } } )\n",
    "next(cur)"
   ]
  },
  {
   "cell_type": "markdown",
   "metadata": {},
   "source": [
    "    \n",
    "#### Exercice\n",
    "\n",
    "Supprimez tous les index créés et réessayez de faire la même requête. Que se passe-t-il ?\n"
   ]
  },
  {
   "cell_type": "markdown",
   "metadata": {},
   "source": [
    "## Mettre à jour\n",
    "\n",
    "La mise à jour des documents et une opération très courante dans les bases de données. MongoDB implémente trois fonctions différentes permettant de mettre à jour un ou plusieurs documents à la fois.\n",
    "\n",
    "- Mettre à jour un seul document : \n",
    "\n",
    "```\n",
    "db.<YOUR_COLLECTION_NAME>.updateOne(<filter>, <update>, <options>)\n",
    "```\n",
    "\n",
    "- Le champ `filter` est une requête comme on vient de voir précédemment ; \n",
    "- Le champ `update` permet de préciser la requête de mise à jour ;\n",
    "- Le champ `option` permet de donner des arguments à cette opération.\n",
    "\n",
    " Cette fonction va mettre à jour le premier élément renvoyé par la requête `filter`. \n",
    " \n",
    " Par exemple : \n",
    " \n"
   ]
  },
  {
   "cell_type": "code",
   "execution_count": null,
   "metadata": {},
   "outputs": [
    {
     "data": {
      "text/plain": [
       "UpdateResult({'n': 1, 'nModified': 1, 'ok': 1.0, 'updatedExisting': True}, acknowledged=True)"
      ]
     },
     "execution_count": 138,
     "metadata": {},
     "output_type": "execute_result"
    }
   ],
   "source": [
    "result = collection_peaky.update_one({\"firstname\":\"Thomas\"}, {\"$set\":{\"maincharacter\":True}})\n",
    "result"
   ]
  },
  {
   "cell_type": "code",
   "execution_count": null,
   "metadata": {},
   "outputs": [
    {
     "data": {
      "text/plain": [
       "{'_id': ObjectId('656f26afad98fc50da0e8e9b'),\n",
       " 'firstname': 'Thomas',\n",
       " 'lastname': 'Shelby',\n",
       " 'position': 'CEO',\n",
       " 'gender': 'Male',\n",
       " 'age': 35,\n",
       " 'description': \"Thomas 'Tommy' Michael Shelby M.P. OBE, is the leader of the Birmingham criminal gang Peaky Blinders and the patriarch of the Shelby Family. His experiences during and after the First World War have left him disillusioned and determined to move his family up in the world.\",\n",
       " 'nicknames': ['Tom', 'Tommy', 'Thomas'],\n",
       " 'company': 'Peaky Blinders',\n",
       " 'episodes': [1, 2, 4, 5, 6],\n",
       " 'maincharacter': True}"
      ]
     },
     "execution_count": 139,
     "metadata": {},
     "output_type": "execute_result"
    }
   ],
   "source": [
    "cur = collection_peaky.find_one({\"firstname\":\"Thomas\"})\n",
    "cur"
   ]
  },
  {
   "cell_type": "markdown",
   "metadata": {},
   "source": [
    "Ici le champ update utilise le selecteur `$set` qui permet de définir les couples clé:valeurs à mettre à jour.\n",
    "\n",
    "- Mettre à jour une liste de documents : \n",
    "\n",
    "```\n",
    "db.<YOUR_COLLECTION_NAME>.update_many(<filter>, <update>, <options>)\n",
    "```\n",
    "\n",
    "Cette fonction va mettre à jour tous les documents concernés par la requête `filter`.\n",
    "Dans l'exemple ci-dessous nous allons mettre à jour tous les éléments correspondant à la family Shelby.\n"
   ]
  },
  {
   "cell_type": "code",
   "execution_count": null,
   "metadata": {},
   "outputs": [
    {
     "data": {
      "text/plain": [
       "UpdateResult({'n': 7, 'nModified': 7, 'ok': 1.0, 'updatedExisting': True}, acknowledged=True)"
      ]
     },
     "execution_count": 140,
     "metadata": {},
     "output_type": "execute_result"
    }
   ],
   "source": [
    "result = collection_peaky.update_many({\"lastname\":\"Shelby\"}, {\"$set\":{\"shelbyFamily\":True}})\n",
    "result"
   ]
  },
  {
   "cell_type": "code",
   "execution_count": null,
   "metadata": {},
   "outputs": [
    {
     "data": {
      "text/plain": [
       "[{'_id': ObjectId('656f26afad98fc50da0e8e9b'),\n",
       "  'firstname': 'Thomas',\n",
       "  'lastname': 'Shelby',\n",
       "  'position': 'CEO',\n",
       "  'gender': 'Male',\n",
       "  'age': 35,\n",
       "  'description': \"Thomas 'Tommy' Michael Shelby M.P. OBE, is the leader of the Birmingham criminal gang Peaky Blinders and the patriarch of the Shelby Family. His experiences during and after the First World War have left him disillusioned and determined to move his family up in the world.\",\n",
       "  'nicknames': ['Tom', 'Tommy', 'Thomas'],\n",
       "  'company': 'Peaky Blinders',\n",
       "  'episodes': [1, 2, 4, 5, 6],\n",
       "  'maincharacter': True,\n",
       "  'shelbyFamily': True},\n",
       " {'_id': ObjectId('656f26afad98fc50da0e8e9c'),\n",
       "  'firstname': 'Arthur',\n",
       "  'lastname': 'Shelby',\n",
       "  'position': 'Associate',\n",
       "  'gender': 'Male',\n",
       "  'age': 38,\n",
       "  'description': \"Arthur Shelby Jr. is the eldest of the Shelby siblings and the tough member of Peaky Blinders, the Deputy Vice President Shelby Company Limited. He's also a member of the ICA.\",\n",
       "  'company': 'Peaky Blinders',\n",
       "  'episodes': [1, 4, 6],\n",
       "  'shelbyFamily': True},\n",
       " {'_id': ObjectId('656f26afad98fc50da0e8e9d'),\n",
       "  'firstname': 'John',\n",
       "  'lastname': 'Shelby',\n",
       "  'position': 'Associate',\n",
       "  'gender': 'Male',\n",
       "  'age': 30,\n",
       "  'description': 'John Michael Shelby, also called Johnny or John Boy, was the third of Shelby siblings and a member of the Peaky Blinders.',\n",
       "  'nicknames': ['Johnny', 'John Boy'],\n",
       "  'company': 'Peaky Blinders',\n",
       "  'episodes': [4, 5, 6],\n",
       "  'shelbyFamily': True},\n",
       " {'_id': ObjectId('656f353dad98fc50da0e8ea7'),\n",
       "  'firstname': 'Thomas',\n",
       "  'lastname': 'Shelby',\n",
       "  'position': 'CEO',\n",
       "  'gender': 'Male',\n",
       "  'age': 35,\n",
       "  'description': \"Thomas 'Tommy' Michael Shelby M.P. OBE, is the leader of the Birmingham criminal gang Peaky Blinders and the patriarch of the Shelby Family. His experiences during and after the First World War have left him disillusioned and determined to move his family up in the world.\",\n",
       "  'nicknames': ['Tom', 'Tommy', 'Thomas'],\n",
       "  'company': 'Peaky Blinders',\n",
       "  'episodes': [1, 2, 4, 5, 6],\n",
       "  'shelbyFamily': True},\n",
       " {'_id': ObjectId('656f353dad98fc50da0e8ea8'),\n",
       "  'firstname': 'Thomas',\n",
       "  'lastname': 'Shelby',\n",
       "  'position': 'CEO',\n",
       "  'gender': 'Male',\n",
       "  'age': 35,\n",
       "  'description': \"Thomas 'Tommy' Michael Shelby M.P. OBE, is the leader of the Birmingham criminal gang Peaky Blinders and the patriarch of the Shelby Family. His experiences during and after the First World War have left him disillusioned and determined to move his family up in the world.\",\n",
       "  'nicknames': ['Tom', 'Tommy', 'Thomas'],\n",
       "  'company': 'Peaky Blinders',\n",
       "  'episodes': [1, 2, 4, 5, 6],\n",
       "  'shelbyFamily': True},\n",
       " {'_id': ObjectId('656f353dad98fc50da0e8ea9'),\n",
       "  'firstname': 'Arthur',\n",
       "  'lastname': 'Shelby',\n",
       "  'position': 'Associate',\n",
       "  'gender': 'Male',\n",
       "  'age': 38,\n",
       "  'description': \"Arthur Shelby Jr. is the eldest of the Shelby siblings and the tough member of Peaky Blinders, the Deputy Vice President Shelby Company Limited. He's also a member of the ICA.\",\n",
       "  'company': 'Peaky Blinders',\n",
       "  'episodes': [1, 4, 6],\n",
       "  'shelbyFamily': True},\n",
       " {'_id': ObjectId('656f353dad98fc50da0e8eaa'),\n",
       "  'firstname': 'John',\n",
       "  'lastname': 'Shelby',\n",
       "  'position': 'Associate',\n",
       "  'gender': 'Male',\n",
       "  'age': 30,\n",
       "  'description': 'John Michael Shelby, also called Johnny or John Boy, was the third of Shelby siblings and a member of the Peaky Blinders.',\n",
       "  'nicknames': ['Johnny', 'John Boy'],\n",
       "  'company': 'Peaky Blinders',\n",
       "  'episodes': [4, 5, 6],\n",
       "  'shelbyFamily': True}]"
      ]
     },
     "execution_count": 141,
     "metadata": {},
     "output_type": "execute_result"
    }
   ],
   "source": [
    "cur = collection_peaky.find({\"lastname\":\"Shelby\"})\n",
    "list(cur)"
   ]
  },
  {
   "cell_type": "markdown",
   "metadata": {},
   "source": [
    "\n",
    "L'option `upsert` peut être très intéressante. Elle permet d'ajouter un document si il n'existe pas déjà directement depuis la fonction `update()`. Par défaut, cette option est `false`. \n",
    " \n",
    " \n",
    "```\n",
    "db.<YOUR_COLLECTION_NAME>.update(<filter>, <update>, {upsert: true})\n",
    "```\n",
    "    "
   ]
  },
  {
   "cell_type": "markdown",
   "metadata": {},
   "source": [
    "## Supprimer \n",
    "\n",
    "Pour supprimer des documents, comme pour la mise à jour, il existe deux méthodes : \n",
    "\n",
    "- `deleteMany({ <field1>: <value1>, ... }`\n",
    "- `deleteOne({ <field1>: <value1>, ... }`\n",
    "\n",
    "Pour supprimer tous les documents possédant une condition : \n"
   ]
  },
  {
   "cell_type": "code",
   "execution_count": null,
   "metadata": {},
   "outputs": [
    {
     "data": {
      "text/plain": [
       "DeleteResult({'n': 4, 'ok': 1.0}, acknowledged=True)"
      ]
     },
     "execution_count": 142,
     "metadata": {},
     "output_type": "execute_result"
    }
   ],
   "source": [
    "result = collection_peaky.delete_many({\"lastname\": \"Gray\"})\n",
    "result"
   ]
  },
  {
   "cell_type": "code",
   "execution_count": null,
   "metadata": {},
   "outputs": [
    {
     "ename": "StopIteration",
     "evalue": "",
     "output_type": "error",
     "traceback": [
      "\u001b[1;31m---------------------------------------------------------------------------\u001b[0m",
      "\u001b[1;31mStopIteration\u001b[0m                             Traceback (most recent call last)",
      "\u001b[1;32mc:\\Users\\arthu\\Documents\\GitHub\\DataEngineerTools\\3Mongo\\Introduction.ipynb Cell 110\u001b[0m line \u001b[0;36m2\n\u001b[0;32m      <a href='vscode-notebook-cell:/c%3A/Users/arthu/Documents/GitHub/DataEngineerTools/3Mongo/Introduction.ipynb#Y214sZmlsZQ%3D%3D?line=0'>1</a>\u001b[0m cur \u001b[39m=\u001b[39m collection_peaky\u001b[39m.\u001b[39mfind({\u001b[39m\"\u001b[39m\u001b[39mlastname\u001b[39m\u001b[39m\"\u001b[39m: \u001b[39m\"\u001b[39m\u001b[39mGray\u001b[39m\u001b[39m\"\u001b[39m})\n\u001b[1;32m----> <a href='vscode-notebook-cell:/c%3A/Users/arthu/Documents/GitHub/DataEngineerTools/3Mongo/Introduction.ipynb#Y214sZmlsZQ%3D%3D?line=1'>2</a>\u001b[0m \u001b[39mnext\u001b[39;49m(cur)\n",
      "File \u001b[1;32mc:\\Users\\arthu\\AppData\\Local\\Programs\\Python\\Python311\\Lib\\site-packages\\pymongo\\cursor.py:1267\u001b[0m, in \u001b[0;36mCursor.next\u001b[1;34m(self)\u001b[0m\n\u001b[0;32m   1265\u001b[0m     \u001b[39mreturn\u001b[39;00m \u001b[39mself\u001b[39m\u001b[39m.\u001b[39m__data\u001b[39m.\u001b[39mpopleft()\n\u001b[0;32m   1266\u001b[0m \u001b[39melse\u001b[39;00m:\n\u001b[1;32m-> 1267\u001b[0m     \u001b[39mraise\u001b[39;00m \u001b[39mStopIteration\u001b[39;00m\n",
      "\u001b[1;31mStopIteration\u001b[0m: "
     ]
    }
   ],
   "source": [
    "cur = collection_peaky.find({\"lastname\": \"Gray\"})\n",
    "next(cur)"
   ]
  },
  {
   "cell_type": "markdown",
   "metadata": {},
   "source": [
    "Plus aucun document ne possède ces propriétés.\n",
    "\n",
    "Pour supprimer un seul document (ou le premier si la condition n'est pas assez restrictive) :"
   ]
  },
  {
   "cell_type": "code",
   "execution_count": null,
   "metadata": {},
   "outputs": [
    {
     "data": {
      "text/plain": [
       "DeleteResult({'n': 1, 'ok': 1.0}, acknowledged=True)"
      ]
     },
     "execution_count": 144,
     "metadata": {},
     "output_type": "execute_result"
    }
   ],
   "source": [
    "result = collection_peaky.delete_one({\"firstname\": \"Arthur\"})\n",
    "result"
   ]
  },
  {
   "cell_type": "code",
   "execution_count": null,
   "metadata": {},
   "outputs": [
    {
     "data": {
      "text/plain": [
       "{'_id': ObjectId('656f353dad98fc50da0e8ea9'),\n",
       " 'firstname': 'Arthur',\n",
       " 'lastname': 'Shelby',\n",
       " 'position': 'Associate',\n",
       " 'gender': 'Male',\n",
       " 'age': 38,\n",
       " 'description': \"Arthur Shelby Jr. is the eldest of the Shelby siblings and the tough member of Peaky Blinders, the Deputy Vice President Shelby Company Limited. He's also a member of the ICA.\",\n",
       " 'company': 'Peaky Blinders',\n",
       " 'episodes': [1, 4, 6],\n",
       " 'shelbyFamily': True}"
      ]
     },
     "execution_count": 145,
     "metadata": {},
     "output_type": "execute_result"
    }
   ],
   "source": [
    "cur = collection_peaky.find({\"firstname\": \"Arthur\"})\n",
    "next(cur)"
   ]
  },
  {
   "cell_type": "markdown",
   "metadata": {},
   "source": [
    "Pour supprimer tous les documents de la collection: \n"
   ]
  },
  {
   "cell_type": "code",
   "execution_count": null,
   "metadata": {},
   "outputs": [
    {
     "data": {
      "text/plain": [
       "DeleteResult({'n': 8, 'ok': 1.0}, acknowledged=True)"
      ]
     },
     "execution_count": 146,
     "metadata": {},
     "output_type": "execute_result"
    }
   ],
   "source": [
    "result = collection_peaky.delete_many({})\n",
    "result"
   ]
  },
  {
   "cell_type": "code",
   "execution_count": null,
   "metadata": {},
   "outputs": [
    {
     "ename": "StopIteration",
     "evalue": "",
     "output_type": "error",
     "traceback": [
      "\u001b[1;31m---------------------------------------------------------------------------\u001b[0m",
      "\u001b[1;31mStopIteration\u001b[0m                             Traceback (most recent call last)",
      "\u001b[1;32mc:\\Users\\arthu\\Documents\\GitHub\\DataEngineerTools\\3Mongo\\Introduction.ipynb Cell 116\u001b[0m line \u001b[0;36m2\n\u001b[0;32m      <a href='vscode-notebook-cell:/c%3A/Users/arthu/Documents/GitHub/DataEngineerTools/3Mongo/Introduction.ipynb#Y223sZmlsZQ%3D%3D?line=0'>1</a>\u001b[0m cur \u001b[39m=\u001b[39m collection_peaky\u001b[39m.\u001b[39mfind()\n\u001b[1;32m----> <a href='vscode-notebook-cell:/c%3A/Users/arthu/Documents/GitHub/DataEngineerTools/3Mongo/Introduction.ipynb#Y223sZmlsZQ%3D%3D?line=1'>2</a>\u001b[0m \u001b[39mnext\u001b[39;49m(cur)\n",
      "File \u001b[1;32mc:\\Users\\arthu\\AppData\\Local\\Programs\\Python\\Python311\\Lib\\site-packages\\pymongo\\cursor.py:1267\u001b[0m, in \u001b[0;36mCursor.next\u001b[1;34m(self)\u001b[0m\n\u001b[0;32m   1265\u001b[0m     \u001b[39mreturn\u001b[39;00m \u001b[39mself\u001b[39m\u001b[39m.\u001b[39m__data\u001b[39m.\u001b[39mpopleft()\n\u001b[0;32m   1266\u001b[0m \u001b[39melse\u001b[39;00m:\n\u001b[1;32m-> 1267\u001b[0m     \u001b[39mraise\u001b[39;00m \u001b[39mStopIteration\u001b[39;00m\n",
      "\u001b[1;31mStopIteration\u001b[0m: "
     ]
    }
   ],
   "source": [
    "cur = collection_peaky.find()\n",
    "next(cur)"
   ]
  },
  {
   "cell_type": "markdown",
   "metadata": {},
   "source": [
    "Plus aucun document n'est présent dans la collection\n",
    "\n",
    "Quelques choses à savoir : \n",
    "\n",
    "- La méthode `deleteMany()` applique une fonction à tous les documents. Toutes les fonctions en Mongo sont atomiques ce qui veut dire qu'elles s'appliquent à chaque document indépendamment les uns des autres.\n",
    "- La méthode `delete()` ne supprime pas les index, même si on supprime tous les documents de la collection.\n"
   ]
  },
  {
   "cell_type": "markdown",
   "metadata": {},
   "source": [
    "### Exercice \n",
    "\n",
    "Maintenant que la collection est vide, réintégrez les données précédemment supprimés. "
   ]
  },
  {
   "cell_type": "code",
   "execution_count": null,
   "metadata": {},
   "outputs": [
    {
     "data": {
      "text/plain": [
       "[{'firstname': 'Thomas',\n",
       "  'lastname': 'Shelby',\n",
       "  'position': 'CEO',\n",
       "  'gender': 'Male',\n",
       "  'age': 35,\n",
       "  'description': \"Thomas 'Tommy' Michael Shelby M.P. OBE, is the leader of the Birmingham criminal gang Peaky Blinders and the patriarch of the Shelby Family. His experiences during and after the First World War have left him disillusioned and determined to move his family up in the world.\",\n",
       "  'nicknames': ['Tom', 'Tommy', 'Thomas'],\n",
       "  'company': 'Peaky Blinders',\n",
       "  'episodes': [1, 2, 4, 5, 6],\n",
       "  '_id': ObjectId('656f353dad98fc50da0e8ea8')},\n",
       " {'firstname': 'Arthur',\n",
       "  'lastname': 'Shelby',\n",
       "  'position': 'Associate',\n",
       "  'gender': 'Male',\n",
       "  'age': 38,\n",
       "  'description': \"Arthur Shelby Jr. is the eldest of the Shelby siblings and the tough member of Peaky Blinders, the Deputy Vice President Shelby Company Limited. He's also a member of the ICA.\",\n",
       "  'company': 'Peaky Blinders',\n",
       "  'episodes': [1, 4, 6],\n",
       "  '_id': ObjectId('656f353dad98fc50da0e8ea9')},\n",
       " {'firstname': 'John',\n",
       "  'lastname': 'Shelby',\n",
       "  'position': 'Associate',\n",
       "  'gender': 'Male',\n",
       "  'age': 30,\n",
       "  'description': 'John Michael Shelby, also called Johnny or John Boy, was the third of Shelby siblings and a member of the Peaky Blinders.',\n",
       "  'nicknames': ['Johnny', 'John Boy'],\n",
       "  'company': 'Peaky Blinders',\n",
       "  'episodes': [4, 5, 6],\n",
       "  '_id': ObjectId('656f353dad98fc50da0e8eaa')},\n",
       " {'firstname': 'Ada',\n",
       "  'lastname': 'Thorne',\n",
       "  'position': 'HR',\n",
       "  'gender': 'Female',\n",
       "  'age': 28,\n",
       "  'description': \"Ada Thorne is the fourth and only female of the Shelby sibling. She's the Head of Acquisitions of the Shelby Company Limited.\",\n",
       "  'nicknames': ['Ada Shelby'],\n",
       "  'company': 'Peaky Blinders',\n",
       "  'episodes': [1, 2, 6],\n",
       "  '_id': ObjectId('656f353dad98fc50da0e8eab')},\n",
       " {'firstname': 'Michael',\n",
       "  'lastname': 'Gray',\n",
       "  'position': 'Accounting',\n",
       "  'gender': 'Male',\n",
       "  'age': 21,\n",
       "  'description': 'Michael Gray is the son of Polly Shelby, his father is dead, and cousin of the Shelby siblings. He is the Chief Accountant in the Shelby Company Limited.',\n",
       "  'nicknames': ['Henry Johnson', 'Jobbie Muncher', 'Mickey'],\n",
       "  'company': 'Peaky Blinders',\n",
       "  'episodes': [5, 6],\n",
       "  '_id': ObjectId('656f353dad98fc50da0e8eac')},\n",
       " {'firstname': 'Polly',\n",
       "  'lastname': 'Gray',\n",
       "  'gender': 'Female',\n",
       "  'age': 45,\n",
       "  'position': 'CFO',\n",
       "  'description': 'Elizabeth Polly Gray (née Shelby) is the matriarch of the Shelby Family, aunt of the Shelby siblings, the treasurer of the Birmingham criminal gang, the Peaky Blinders, a certified accountant and company treasurer of Shelby Company Limited. ',\n",
       "  'nicknames': ['Aunt Polly',\n",
       "   'Polly Gray',\n",
       "   'Elizabeth Gray',\n",
       "   'Polly Shelby',\n",
       "   'Pol'],\n",
       "  'company': 'Peaky Blinders',\n",
       "  'episodes': [1, 2, 5, 6],\n",
       "  '_id': ObjectId('656f353dad98fc50da0e8ead')}]"
      ]
     },
     "execution_count": 148,
     "metadata": {},
     "output_type": "execute_result"
    }
   ],
   "source": [
    "DOCUMENTS"
   ]
  },
  {
   "cell_type": "code",
   "execution_count": null,
   "metadata": {},
   "outputs": [
    {
     "data": {
      "text/plain": [
       "InsertManyResult([ObjectId('656f353dad98fc50da0e8ea8'), ObjectId('656f353dad98fc50da0e8ea9'), ObjectId('656f353dad98fc50da0e8eaa'), ObjectId('656f353dad98fc50da0e8eab'), ObjectId('656f353dad98fc50da0e8eac'), ObjectId('656f353dad98fc50da0e8ead')], acknowledged=True)"
      ]
     },
     "execution_count": 149,
     "metadata": {},
     "output_type": "execute_result"
    }
   ],
   "source": [
    "result = collection_peaky.insert_many(DOCUMENTS)\n",
    "result"
   ]
  },
  {
   "cell_type": "markdown",
   "metadata": {},
   "source": [
    "## Aggregation\n",
    "\n",
    "\n",
    "Une aggrégation permet de faire des opérations complexes sur des groupes de documents directement dans la base. Elle se charge de grouper les documents entre eux suivant la requête et se charge d'effectuer une opération sur l'ensemble des documents de chacun des groupes. On peut retrouver les mêmes opérations en SQL avec les arguments `GROUP BY`.\n",
    "\n",
    "La syntaxe est très similaire à toutes les autres fonctions Mongo mais la requête va être plus complexe. \n",
    "\n",
    "```\n",
    "db.<YOUR_COLLECTION_NAME>.aggregate(AGGREGATE_OPERATION)\n",
    "```\n",
    "\n",
    "On peut vouloir récupérer le nombre de personnages de chaque famille présente dans la série : \n"
   ]
  },
  {
   "cell_type": "code",
   "execution_count": null,
   "metadata": {},
   "outputs": [
    {
     "data": {
      "text/plain": [
       "[{'_id': 'Shelby', 'charactereNumberByFamily': 3},\n",
       " {'_id': 'Thorne', 'charactereNumberByFamily': 1},\n",
       " {'_id': 'Gray', 'charactereNumberByFamily': 2}]"
      ]
     },
     "execution_count": 150,
     "metadata": {},
     "output_type": "execute_result"
    }
   ],
   "source": [
    "cur = collection_peaky.aggregate([{\"$group\" : {\"_id\" : \"$lastname\", \"charactereNumberByFamily\" : {\"$sum\" : 1}}}])\n",
    "list(cur)"
   ]
  },
  {
   "cell_type": "markdown",
   "metadata": {},
   "source": [
    "\n",
    "Vous avez accès à toutes les opérations mathématiques dont vous avez besoin : \n",
    "\n",
    "- `$sum` : fait la somme de \n",
    "- `$avg` : fait la moyenne \n",
    "- `$min` : récupère la valeur minimale \n",
    "- `$max` : récupère la valeur maximale \n",
    "- `$first` : récupère le premier élément\n",
    "- `$last` : récupère le dernier élément\n"
   ]
  },
  {
   "cell_type": "code",
   "execution_count": null,
   "metadata": {},
   "outputs": [
    {
     "data": {
      "text/plain": [
       "[{'_id': 'Gray', 'averageAgeByFamily': 33.0},\n",
       " {'_id': 'Thorne', 'averageAgeByFamily': 28.0},\n",
       " {'_id': 'Shelby', 'averageAgeByFamily': 34.333333333333336}]"
      ]
     },
     "execution_count": 151,
     "metadata": {},
     "output_type": "execute_result"
    }
   ],
   "source": [
    "cur = collection_peaky.aggregate([{\"$group\" : {\"_id\" : \"$lastname\", \"averageAgeByFamily\" : {\"$avg\" : \"$age\"}}}])\n",
    "list(cur)"
   ]
  },
  {
   "cell_type": "code",
   "execution_count": null,
   "metadata": {},
   "outputs": [
    {
     "data": {
      "text/plain": [
       "[{'_id': 'Gray', 'minAgeByFamily': 21},\n",
       " {'_id': 'Thorne', 'minAgeByFamily': 28},\n",
       " {'_id': 'Shelby', 'minAgeByFamily': 30}]"
      ]
     },
     "execution_count": 152,
     "metadata": {},
     "output_type": "execute_result"
    }
   ],
   "source": [
    "cur = collection_peaky.aggregate([{\"$group\" : {\"_id\" : \"$lastname\", \"minAgeByFamily\" : {\"$min\" : \"$age\"}}}])\n",
    "list(cur)\n"
   ]
  },
  {
   "cell_type": "code",
   "execution_count": null,
   "metadata": {},
   "outputs": [
    {
     "data": {
      "text/plain": [
       "[{'_id': 'Gray', 'lastAgeByFamily': 45},\n",
       " {'_id': 'Thorne', 'lastAgeByFamily': 28},\n",
       " {'_id': 'Shelby', 'lastAgeByFamily': 30}]"
      ]
     },
     "execution_count": 153,
     "metadata": {},
     "output_type": "execute_result"
    }
   ],
   "source": [
    "cur = collection_peaky.aggregate([{\"$group\" : {\"_id\" : \"$lastname\", \"lastAgeByFamily\" : {\"$last\" : \"$age\"}}}])\n",
    "list(cur)\n"
   ]
  },
  {
   "cell_type": "markdown",
   "metadata": {},
   "source": [
    "On peut ajouter un paramètre à la fonction `aggregate()` pour filtrer les élements à aggréger.\n",
    "Si on ne veut récupérer que les hommes : \n"
   ]
  },
  {
   "cell_type": "code",
   "execution_count": null,
   "metadata": {},
   "outputs": [
    {
     "data": {
      "text/plain": [
       "[{'_id': 'Gray', 'averageAgeByFamily': 21.0},\n",
       " {'_id': 'Shelby', 'averageAgeByFamily': 34.333333333333336}]"
      ]
     },
     "execution_count": 154,
     "metadata": {},
     "output_type": "execute_result"
    }
   ],
   "source": [
    "cur = collection_peaky.aggregate([\n",
    "        {\"$match\":{\"gender\":\"Male\"}},\n",
    "        {\"$group\" : {\"_id\" : \"$lastname\", \"averageAgeByFamily\" : {\"$avg\" : \"$age\"}}}\n",
    "    ])\n",
    "list(cur)"
   ]
  },
  {
   "cell_type": "markdown",
   "metadata": {},
   "source": [
    "\n",
    "Il est aussi possible d'intégrer directement du code JavaScript dans les requêtes Mongo. Des fonctions de Map->Reduce sont disponibles pour effectuer les fonctions d'aggrégation. L'opération de Map->Reduce se découpe en deux phases : \n",
    "\n",
    "- Phase de MAP : parcourt tous les élements et extrait les champs voulus.\n",
    "- Phase de REDUCE : utilise les champs retournés pour effectuer l'opération finale. "
   ]
  },
  {
   "cell_type": "code",
   "execution_count": null,
   "metadata": {},
   "outputs": [],
   "source": [
    "pipeline = [\n",
    "    {\"$match\": {\"gender\": \"Male\"}},\n",
    "    {\"$group\": {\n",
    "        \"_id\": \"$lastname\",\n",
    "        \"totalAge\": {\"$sum\": \"$age\"}\n",
    "    }}\n",
    "]\n",
    "\n",
    "result = collection_peaky.aggregate(pipeline)"
   ]
  },
  {
   "cell_type": "markdown",
   "metadata": {},
   "source": [
    "Pour récupérer maintenant les résultats : "
   ]
  },
  {
   "cell_type": "code",
   "execution_count": null,
   "metadata": {},
   "outputs": [
    {
     "name": "stdout",
     "output_type": "stream",
     "text": [
      "{'_id': 'Gray', 'totalAge': 21}\n",
      "{'_id': 'Shelby', 'totalAge': 103}\n"
     ]
    }
   ],
   "source": [
    "for doc in result:\n",
    "    print(doc)"
   ]
  },
  {
   "cell_type": "code",
   "execution_count": null,
   "metadata": {},
   "outputs": [],
   "source": []
  }
 ],
 "metadata": {
  "kernelspec": {
   "display_name": "Python 3",
   "language": "python",
   "name": "python3"
  },
  "language_info": {
   "codemirror_mode": {
    "name": "ipython",
    "version": 3
   },
   "file_extension": ".py",
   "mimetype": "text/x-python",
   "name": "python",
   "nbconvert_exporter": "python",
   "pygments_lexer": "ipython3",
   "version": "3.11.5"
  },
  "varInspector": {
   "cols": {
    "lenName": 16,
    "lenType": 16,
    "lenVar": 40
   },
   "kernels_config": {
    "python": {
     "delete_cmd_postfix": "",
     "delete_cmd_prefix": "del ",
     "library": "var_list.py",
     "varRefreshCmd": "print(var_dic_list())"
    },
    "r": {
     "delete_cmd_postfix": ") ",
     "delete_cmd_prefix": "rm(",
     "library": "var_list.r",
     "varRefreshCmd": "cat(var_dic_list()) "
    }
   },
   "types_to_exclude": [
    "module",
    "function",
    "builtin_function_or_method",
    "instance",
    "_Feature"
   ],
   "window_display": false
  }
 },
 "nbformat": 4,
 "nbformat_minor": 2
}
