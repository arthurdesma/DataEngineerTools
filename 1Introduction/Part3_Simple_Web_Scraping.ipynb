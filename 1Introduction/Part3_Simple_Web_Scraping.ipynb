{
 "cells": [
  {
   "cell_type": "markdown",
   "metadata": {},
   "source": [
    "# Introduction"
   ]
  },
  {
   "cell_type": "markdown",
   "metadata": {},
   "source": [
    "Avant de commencer, parcourer le fichier README.rst"
   ]
  },
  {
   "cell_type": "markdown",
   "metadata": {},
   "source": [
    "# Requête HTTP "
   ]
  },
  {
   "cell_type": "markdown",
   "metadata": {},
   "source": [
    "Un requête HTTP est une requête basé sur le protocole TCP, elle fait partie de la couche application de la couche OSI. Elle permet d'accéder aux données mise à disposition sur une adresse IP (ou url résolue par un DNS) et un port. \n",
    "\n",
    "Les deux ports les plus utilisé dans le web sont le 80 pour les sites en HTTP et le 443 pour les sites en HTTPS. HTTPS est une variable du protocole HTTP basé sur le protocole TLS.\n",
    "\n",
    "Il existe de nombreux types de requêtes selon la convention `REST`: \n",
    "- GET\n",
    "- POST\n",
    "- PUT \n",
    "- DELETE\n",
    "- UPDATE.\n",
    "\n",
    "Dans notre cas nous allons utiliser la plupart du temps des GET et potentiellement des POST. \n",
    "- Le GET permet comme sont nom l'indique de récupérer des informations en fonction de certain paramètres. \n",
    "- Le POST nécéssite un envoie de données pour récupérer des données. Le body du post est, la plupart du temps, envoyé sous la forme d'un objet JSON.\n",
    "\n",
    "Ces requêtes encapsulent un certain nombre de paramètres qui permettent soient d'identifier une provenance et un utilisateur ou de réaliser différentes actions."
   ]
  },
  {
   "cell_type": "code",
   "execution_count": 81,
   "metadata": {},
   "outputs": [],
   "source": [
    "import requests"
   ]
  },
  {
   "cell_type": "code",
   "execution_count": 82,
   "metadata": {},
   "outputs": [
    {
     "data": {
      "text/plain": [
       "200"
      ]
     },
     "execution_count": 82,
     "metadata": {},
     "output_type": "execute_result"
    }
   ],
   "source": [
    "url = \"http://www.esiee.fr/\"\n",
    "response = requests.get(url)\n",
    "response.status_code"
   ]
  },
  {
   "cell_type": "markdown",
   "metadata": {},
   "source": [
    "Il existe deux méthodes pour récupérer le contenu de la page :\n",
    "\n",
    "- `response.text` qui permet de retourner le texte sous la forme d'une chaine de charactères.\n",
    "- `response.content` qui permet de récupérer le contenu de la page sous la forme de bytes"
   ]
  },
  {
   "cell_type": "code",
   "execution_count": 83,
   "metadata": {},
   "outputs": [
    {
     "data": {
      "text/plain": [
       "bytes"
      ]
     },
     "execution_count": 83,
     "metadata": {},
     "output_type": "execute_result"
    }
   ],
   "source": [
    "type(response.content)"
   ]
  },
  {
   "cell_type": "code",
   "execution_count": 84,
   "metadata": {},
   "outputs": [
    {
     "data": {
      "text/plain": [
       "str"
      ]
     },
     "execution_count": 84,
     "metadata": {},
     "output_type": "execute_result"
    }
   ],
   "source": [
    "type(response.text)"
   ]
  },
  {
   "cell_type": "markdown",
   "metadata": {},
   "source": [
    "Pour récupérer les 1000 premiers charactères de la page :"
   ]
  },
  {
   "cell_type": "code",
   "execution_count": 85,
   "metadata": {},
   "outputs": [
    {
     "data": {
      "text/plain": [
       "'<!DOCTYPE html>\\n<html lang=\"fr-FR\">\\n<head>\\n\\n<meta charset=\"utf-8\">\\n<!-- \\n\\tThis website is powered by TYPO3 - inspiring people to share!\\n\\tTYPO3 is a free open source Content Management Framework initially created by Kasper Skaarhoj and licensed under GNU/GPL.\\n\\tTYPO3 is copyright 1998-2023 of Kasper Skaarhoj. Extensions are copyright of their respective owners.\\n\\tInformation and contribution at https://typo3.org/\\n-->\\n\\n\\n\\n<title>ESIEE Paris, l&#039;école de l&#039;innovation technologique | ESIEE Paris</title>\\n<meta name=\"generator\" content=\"TYPO3 CMS\" />\\n<meta name=\"description\" content=\"Rejoignez ESIEE Paris, grande école d&#039;ingénieur dans les domaines des transitions numérique, énergétique et environnementale. Classée dans le groupe A, parmi les meilleures écoles d&#039;ingénieur selon le classement de l&#039;Etudiant. Habilitée par la Commission des Titres d&#039;Ingénieur (CTI). Membre de la Conférence des Grandes Ecoles (CGE). \" />\\n<meta name=\"viewport\" content=\"width=device-width'"
      ]
     },
     "execution_count": 85,
     "metadata": {},
     "output_type": "execute_result"
    }
   ],
   "source": [
    "response.text[0:1000]"
   ]
  },
  {
   "cell_type": "markdown",
   "metadata": {},
   "source": [
    "Pour récupérer les headers HTTP de la réponse :"
   ]
  },
  {
   "cell_type": "code",
   "execution_count": 86,
   "metadata": {},
   "outputs": [
    {
     "data": {
      "text/plain": [
       "{'Date': 'Tue, 21 Nov 2023 13:29:31 GMT', 'Server': 'Apache', 'Content-Language': 'fr', 'Vary': 'Accept-Encoding', 'Content-Encoding': 'gzip', 'X-UA-Compatible': 'IE=edge', 'X-Content-Type-Options': 'nosniff', 'Content-Length': '15693', 'Content-Type': 'text/html; charset=utf-8', 'X-Varnish': '1480645 1387840', 'Age': '38', 'Via': '1.1 varnish (Varnish/7.1)', 'Accept-Ranges': 'bytes', 'Connection': 'keep-alive'}"
      ]
     },
     "execution_count": 86,
     "metadata": {},
     "output_type": "execute_result"
    }
   ],
   "source": [
    "response.headers"
   ]
  },
  {
   "cell_type": "markdown",
   "metadata": {},
   "source": [
    "On peut modifier les paramêtres de la requête et/ou ses headers. On peut par exemple ajouter un UserAgent et un timeout de 10 secondes:"
   ]
  },
  {
   "cell_type": "code",
   "execution_count": 87,
   "metadata": {},
   "outputs": [
    {
     "data": {
      "text/plain": [
       "b'<!DOCTYPE html>\\n<html lang=\"fr-FR\">\\n<head>\\n\\n<meta charset=\"utf-8\">\\n<!-- \\n\\tThis website is powered by TYPO3 - inspiring people to share!\\n\\tTYPO3 is a free open source Content Management Framework initially created by Kasper Skaarhoj and licensed under GNU/GPL.\\n\\tTYPO3 is copyright 1998-2023 of Kasper Skaarhoj. Extensions are copyright of their respective owners.\\n\\tInformation and contribution at https://typo3.org/\\n-->\\n\\n\\n\\n<title>ESIEE Paris, l&#039;\\xc3\\xa9cole de l&#039;innovation technologique | ESIEE Paris</title>\\n<meta name=\"generator\" content=\"TYPO3 CMS\" />\\n<meta name=\"description\" content=\"Rejoignez ESIEE Paris, grande \\xc3\\xa9cole d&#039;ing\\xc3\\xa9nieur dans les domaines des transitions num\\xc3\\xa9rique, \\xc3\\xa9nerg\\xc3\\xa9tique et environnementale. Class\\xc3\\xa9e dans le groupe A, parmi les meilleures \\xc3\\xa9coles d&#039;ing\\xc3\\xa9nieur selon le classement de l&#039;Etudiant. Habilit\\xc3\\xa9e par la Commission des Titres d&#039;Ing\\xc3\\xa9nieur (CTI). Membre de la Conf\\xc3\\xa9rence des Grandes Ecoles (CGE). \" />\\n<meta name=\"viewport\" content=\"width='"
      ]
     },
     "execution_count": 87,
     "metadata": {},
     "output_type": "execute_result"
    }
   ],
   "source": [
    "headers = {'User-Agent': 'Mozilla/5.0 (Macintosh; Intel Mac OS X 10_10_1) AppleWebKit/537.36 (KHTML, like Gecko) Chrome/39.0.2171.95 Safari/537.36'}\n",
    "response = requests.get(url, headers=headers, timeout = 10)\n",
    "response.content[0:1000]"
   ]
  },
  {
   "cell_type": "markdown",
   "metadata": {},
   "source": [
    "## Exercice"
   ]
  },
  {
   "cell_type": "markdown",
   "metadata": {},
   "source": [
    "## Exercice 1\n",
    "\n",
    "- Créer une classe Python permettant de faire des requêtes HTTP.\n",
    "- Cette classe doit utiliser toujours le même UserAgent.\n",
    "- Le TimeOut sera spécifié à chaque appelle avec une valeur par défaut.\n",
    "- Un mécanisme de retry sera mis en place de façon recursive.\n",
    "\n",
    "## Exercice 2\n",
    "\n",
    "- Faire une fonction permettant de supprimer tous les espaces supperflus d'une string\n",
    "- Faire une fonction qui prend une string html et renvois une string intelligible (enlever les caractères spéciaux,\n",
    "- Récupérer le domaine en fonction d'un url"
   ]
  },
  {
   "cell_type": "code",
   "execution_count": 88,
   "metadata": {},
   "outputs": [
    {
     "name": "stdout",
     "output_type": "stream",
     "text": [
      "b'<!DOCTYPE html>\\n<html lang=\"fr-FR\">\\n<head>\\n\\n<meta charset=\"utf-8\">\\n<!-- \\n\\tThis website is powered by TYPO3 - inspiring people to share!\\n\\tTYPO3 is a free open source Content Management Framework initially created by Kasper Skaarhoj and licensed under GNU/GPL.\\n\\tTYPO3 is copyright 1998-2023 of Kasper Skaarhoj. Extensions are copyright of their respective owners.\\n\\tInformation and contribution at https://typo3.org/\\n-->\\n\\n\\n\\n<title>ESIEE Paris, l&#039;\\xc3\\xa9cole de l&#039;innovation technologique | ESIEE Paris</title>\\n<meta name=\"generator\" content=\"TYPO3 CMS\" />\\n<meta name=\"description\" content=\"Rejoignez ESIEE Paris, grande \\xc3\\xa9cole d&#039;ing\\xc3\\xa9nieur dans les domaines des transitions num\\xc3\\xa9rique, \\xc3\\xa9nerg\\xc3\\xa9tique et environnementale. Class\\xc3\\xa9e dans le groupe A, parmi les meilleures \\xc3\\xa9coles d&#039;ing\\xc3\\xa9nieur selon le classement de l&#039;Etudiant. Habilit\\xc3\\xa9e par la Commission des Titres d&#039;Ing\\xc3\\xa9nieur (CTI). Membre de la Conf\\xc3\\xa9rence des Grandes Ecoles (CGE). \" />\\n<meta name=\"viewport\" content=\"width='\n"
     ]
    }
   ],
   "source": [
    "import requests\n",
    "from requests.exceptions import RequestException\n",
    "\n",
    "class HTTPRequester:\n",
    "\n",
    "    def make_request(self, url, timeout=None, retries=5):\n",
    "        self.user_agent = 'Mozilla/5.0 (Macintosh; Intel Mac OS X 10_10_1) AppleWebKit/537.36 (KHTML, like Gecko) Chrome/39.0.2171.95 Safari/537.36'\n",
    "        self.default_timeout = 10\n",
    "        if timeout is None:\n",
    "            timeout = self.default_timeout\n",
    "\n",
    "        headers = {'User-Agent': self.user_agent}\n",
    "        \n",
    "        try:\n",
    "            response = requests.get(url, headers=headers, timeout=timeout)\n",
    "            response.raise_for_status()\n",
    "            return response\n",
    "        except RequestException as e:\n",
    "            if retries > 0:\n",
    "                return self.make_request(url, timeout, retries - 1)\n",
    "            raise e\n",
    "\n",
    "response = HTTPRequester().make_request(\"https://www.esiee.fr\")\n",
    "text = response.content[0:1000]\n",
    "print(text)\n"
   ]
  },
  {
   "cell_type": "code",
   "execution_count": 89,
   "metadata": {},
   "outputs": [
    {
     "name": "stdout",
     "output_type": "stream",
     "text": [
      "<!DOCTYPE html> <html lang=\"fr-FR\"> <head> <meta charset=\"utf-8\"> <!-- This website is powered by TYPO3 - inspiring people to share! TYPO3 is a free open source Content Management Framework initially created by Kasper Skaarhoj and licensed under GNU/GPL. TYPO3 is copyright 1998-2023 of Kasper Skaarhoj. Extensions are copyright of their respective owners. Information and contribution at https://typo3.org/ --> <title>ESIEE Paris, l&#039;école de l&#039;innovation technologique | ESIEE Paris</title> <meta name=\"generator\" content=\"TYPO3 CMS\" /> <meta name=\"description\" content=\"Rejoignez ESIEE Paris, grande école d&#039;ingénieur dan\n"
     ]
    }
   ],
   "source": [
    "#EXO2\n",
    "def earase(text):\n",
    "     return ' '.join(text.split())\n",
    "\n",
    "resp = response.content[0:650].decode('utf-8')\n",
    "\n",
    "resp = earase(resp)\n",
    "print(resp)"
   ]
  },
  {
   "cell_type": "code",
   "execution_count": 90,
   "metadata": {},
   "outputs": [
    {
     "name": "stdout",
     "output_type": "stream",
     "text": [
      "Ceci est un texte HTML avec des caractères spéciaux & et <.\n"
     ]
    }
   ],
   "source": [
    "from html import unescape\n",
    "import re\n",
    "\n",
    "def clean_html_string(html_string):\n",
    "    # Supprimer les balises HTML\n",
    "    no_tags = re.sub('<[^<]+?>', '', html_string)\n",
    "    # Convertir les entités HTML en caractères\n",
    "    return unescape(no_tags)\n",
    "\n",
    "html_string = \"<html><body>Ceci est un <b>texte</b> HTML avec des caractères spéciaux &amp; et &lt;.</body></html>\"\n",
    "cleaned_string = clean_html_string(html_string)\n",
    "print(cleaned_string)\n"
   ]
  },
  {
   "cell_type": "code",
   "execution_count": 91,
   "metadata": {},
   "outputs": [],
   "source": [
    "from urllib.parse import urlparse\n",
    "\n",
    "def get_domain(url):\n",
    "    parsed_url = urlparse(url)\n",
    "    return parsed_url.netloc\n",
    "\n",
    "domain = get_domain(\"https://www.esiee.fr\")"
   ]
  },
  {
   "cell_type": "markdown",
   "metadata": {},
   "source": [
    "# Exploitation du HTML  "
   ]
  },
  {
   "cell_type": "markdown",
   "metadata": {},
   "source": [
    "Ici, il faut récupérer le code HTML d'un site web à partir d'une requête. Lorsque vous avez récupéré le texte d'un site il faut le parser. Pour cela, on utilise BeautifulSoup qui permet de transformer la structure HTML en objet Python. Cela permet de récupérer efficacement les données qui nous intéresse.\n",
    "\n",
    "Pour les webmasters, le blocage le plus souvent mis en place et un blocage sur le User-Agent. Le User-Agent est un paramètre intégré dans la requête HTTP réalisé par le Navigateur pour envoyer au front des informations basiques :\n",
    "\n",
    "- la version du Navigateur,\n",
    "- la version de l'OS\n",
    "- Le type de gestionnaire graphique (Gecko)\n",
    "- le type de device utilisé"
   ]
  },
  {
   "cell_type": "markdown",
   "metadata": {},
   "source": [
    "Exemple de User Agent :  \n",
    "\n",
    "`Mozilla/5.0 (Windows NT 6.1; Win64; x64; rv:47.0) Gecko/20100101 Firefox/47.0`"
   ]
  },
  {
   "cell_type": "markdown",
   "metadata": {},
   "source": [
    "Commençons à utiliser `BeautifulSoup`, pour l'installer : "
   ]
  },
  {
   "cell_type": "code",
   "execution_count": 92,
   "metadata": {},
   "outputs": [
    {
     "name": "stdout",
     "output_type": "stream",
     "text": [
      "Requirement already satisfied: bs4 in c:\\users\\arthu\\appdata\\local\\programs\\python\\python311\\lib\\site-packages (0.0.1)\n",
      "Requirement already satisfied: beautifulsoup4 in c:\\users\\arthu\\appdata\\local\\programs\\python\\python311\\lib\\site-packages (from bs4) (4.12.2)\n",
      "Requirement already satisfied: soupsieve>1.2 in c:\\users\\arthu\\appdata\\local\\programs\\python\\python311\\lib\\site-packages (from beautifulsoup4->bs4) (2.5)\n",
      "Requirement already satisfied: lxml in c:\\users\\arthu\\appdata\\local\\programs\\python\\python311\\lib\\site-packages (4.9.3)\n"
     ]
    }
   ],
   "source": [
    "!pip install bs4\n",
    "!pip install  lxml"
   ]
  },
  {
   "cell_type": "code",
   "execution_count": 93,
   "metadata": {},
   "outputs": [],
   "source": [
    "import requests\n",
    "from bs4 import BeautifulSoup"
   ]
  },
  {
   "cell_type": "markdown",
   "metadata": {},
   "source": [
    "Pour transformer une requête (requests) en objet BeautifulSoup :"
   ]
  },
  {
   "cell_type": "code",
   "execution_count": 94,
   "metadata": {},
   "outputs": [],
   "source": [
    "response = requests.get(url)\n",
    "soup = BeautifulSoup(response.text)"
   ]
  },
  {
   "cell_type": "markdown",
   "metadata": {},
   "source": [
    "Il se peut qu'un message d'erreur arrive à ce point là si vous n'avez pas la librarie `lxml` installée, pour se faire vous avez juste à lancer la commande suivante : "
   ]
  },
  {
   "cell_type": "code",
   "execution_count": 95,
   "metadata": {},
   "outputs": [
    {
     "name": "stdout",
     "output_type": "stream",
     "text": [
      "Requirement already satisfied: lxml in c:\\users\\arthu\\appdata\\local\\programs\\python\\python311\\lib\\site-packages (4.9.3)\n"
     ]
    }
   ],
   "source": [
    "!pip install lxml"
   ]
  },
  {
   "cell_type": "markdown",
   "metadata": {},
   "source": [
    "Pour trouver tous les liens d'une page on récupère la balise `a` qui permet de gérer les liens en HTML  :"
   ]
  },
  {
   "cell_type": "code",
   "execution_count": 80,
   "metadata": {},
   "outputs": [
    {
     "data": {
      "text/plain": [
       "[<a href=\"/#content\">Aller au contenu</a>,\n",
       " <a href=\"/#menu\">Aller au menu</a>,\n",
       " <a href=\"/plan-du-site/\">Plan du site</a>,\n",
       " <a href=\"/nous-rencontrer-1\">Bien choisir son école, c'est aussi la rencontrer  ! Rendez-vous à la prochaine journée portes ouvertes le 9 décembre.</a>,\n",
       " <a href=\"/\"><img alt=\"ESIEE PARIS\" class=\"a42-ac-replace-img\" src=\"/typo3conf/ext/esiee_sitepackage/Resources/Public/imgs/svg/logo-esiee.svg\"/></a>,\n",
       " <a href=\"/brochures-1\">Brochures</a>,\n",
       " <a href=\"/informations/etudiantes-et-etudiants\">Espace élèves</a>,\n",
       " <a href=\"/\" hreflang=\"fr-FR\" title=\"Français\">\n",
       " <span>Fr</span>\n",
       " </a>,\n",
       " <a href=\"/en/\" hreflang=\"en-US\" title=\"English\">\n",
       " <span>En</span>\n",
       " </a>,\n",
       " <a href=\"/candidater-1\">Candidater</a>]"
      ]
     },
     "execution_count": 80,
     "metadata": {},
     "output_type": "execute_result"
    }
   ],
   "source": [
    "soup.find_all(\"a\")[0:10]"
   ]
  },
  {
   "cell_type": "markdown",
   "metadata": {},
   "source": [
    "On peut préciser la classe HTML voulue  pour l'ensemble des `a`:\n",
    "\n",
    "```python\n",
    "soup.find_all(class_=\"<CLASS_NAME>\")[0:10]\n",
    "```\n",
    "\n",
    "Ici par exemple: "
   ]
  },
  {
   "cell_type": "code",
   "execution_count": 96,
   "metadata": {},
   "outputs": [
    {
     "data": {
      "text/plain": [
       "[]"
      ]
     },
     "execution_count": 96,
     "metadata": {},
     "output_type": "execute_result"
    }
   ],
   "source": [
    "soup.find_all(class_=\"slide\")[0:5]"
   ]
  },
  {
   "cell_type": "markdown",
   "metadata": {},
   "source": [
    "Pour récupérer le text sans les balises HTML :"
   ]
  },
  {
   "cell_type": "code",
   "execution_count": 97,
   "metadata": {},
   "outputs": [
    {
     "data": {
      "text/plain": [
       "\"\\n\\n\\n\\nESIEE Paris, l'école de l'innovation technologique | ESIEE Paris\\n\\n\\n\\n\\n\\n\\n\\n\\n\\n\\n\\n\\n\\n\\n\\n\\n\\n\\n\\n\\n\\n\\n\\n\\nAller au contenu\\nAller au menu\\nPlan du site\\n\\n\\n\\n\\n\\n\\n\\nBien choisir son école, c'est aussi la rencontrer  ! Rendez-vous à la prochaine journée portes ouvertes le 9 décembre.\\n\\n\\n\\n\\n\\nMasquer l'alerte\\n\\n\\n\\n\\n\\n\\n\\n\\n\\n\\n\\n\\n\\n\\nBrochuresEspace élèves\\n\\n\\n\\nFr\\n\\n\\n\\n\\nEn\\n\\n\\n\\n\\n\\n\\n\\n\\n\\nAfficherMasquer la recherche\\r\\n\\t\\t\\n\\n\\n\\nSaisissez votre recherche\\xa0:\\n\\nLancer la recherche\\n\\n\\n\\nCandidater\\n\\nAfficherMasquer le menu\\n\\n\\n\\n\\n\\nRetour au menu principalAfficherMasquer le sous menu\\xa0: L'écolePourquoi choisir ESIEE Paris ?AfficherMasquer le sous menu\\xa0: Gouvernance et conseilsGouvernance et conseilsConseil scientifiqueAfficherMasquer le sous menu\\xa0: Départements d'enseignements et de rechercheInformatique et télécommunicationsIngénierie des systèmes cyberphysiquesIngénierie industrielleSanté, énergie et environnement durableManagement, sciences humaines et languesCorps professoralAfficherMasquer le sous menu\\xa0: Salles blanchesSalles blanchesÉquipements\""
      ]
     },
     "execution_count": 97,
     "metadata": {},
     "output_type": "execute_result"
    }
   ],
   "source": [
    "soup.text[0:1000]"
   ]
  },
  {
   "cell_type": "markdown",
   "metadata": {},
   "source": [
    "## Exercice\n",
    "### Exercice 3\n",
    "\n",
    "Améliorer la classe développé précédemment.\n",
    "\n",
    "- Ajouter une méthode pour récupérer l'objet soup d'un url\n",
    "- Récupérer une liste de User Agent et effectuer une rotation aléatoire sur celui à utiliser\n",
    "- Utiliser cette classe pour parser une page HTML et récupérer : le titre, tous les H1 (si ils existent), les liens vers les images, les liens sortants vers d'autres sites, et le texte principal.\n",
    "\n",
    "Parsing d'un sitemaps pour récupérer une listes de liens avec les informations disponibles. -> Stocker dans un dictionnaire et dans un fichier JSON local."
   ]
  },
  {
   "cell_type": "code",
   "execution_count": 99,
   "metadata": {},
   "outputs": [
    {
     "name": "stdout",
     "output_type": "stream",
     "text": [
      "{'title': \"ESIEE Paris, l'école de l'innovation technologique | ESIEE Paris\", 'h1_tags': ['\\n\\n'], 'img_links': ['/typo3conf/ext/esiee_sitepackage/Resources/Public/imgs/svg/logo-esiee.svg', 'data:image/gif;base64,R0lGODlhAQABAIAAAP///wAAACH5BAEAAAAALAAAAAABAAEAAAICRAEAOw==', '/fileadmin/_processed_/2/4/csm_ESIEE-Home-Main-Picture_ff09bd6b6e.jpg', 'data:image/gif;base64,R0lGODlhAQABAIAAAP///wAAACH5BAEAAAAALAAAAAABAAEAAAICRAEAOw==', '/fileadmin/_processed_/1/e/csm_eleves-groupe-galerie-1344x840_0f06698b28.jpg', 'data:image/gif;base64,R0lGODlhAQABAIAAAP///wAAACH5BAEAAAAALAAAAAABAAEAAAICRAEAOw==', '/fileadmin/_processed_/6/2/csm_forum-descartes-rue-2019-1344x840_eb74cce508.jpg', 'data:image/gif;base64,R0lGODlhAQABAIAAAP///wAAACH5BAEAAAAALAAAAAABAAEAAAICRAEAOw==', '/fileadmin/_processed_/c/8/csm_illustration-concours-jeunes-talents-orange-2023-1344x840_b06c9809ff.jpg', 'data:image/gif;base64,R0lGODlhAQABAIAAAP///wAAACH5BAEAAAAALAAAAAABAAEAAAICRAEAOw==', '/fileadmin/_processed_/c/1/csm_actu-classement-logo-ranking-1344x840_ec9b640c4f.jpg', 'data:image/gif;base64,R0lGODlhAQABAIAAAP///wAAACH5BAEAAAAALAAAAAABAAEAAAICRAEAOw==', '/fileadmin/_processed_/3/6/csm_eleves-esiee-etudes-1344x840_e502c91148.jpg', 'data:image/gif;base64,R0lGODlhAQABAIAAAP///wAAACH5BAEAAAAALAAAAAABAAEAAAICRAEAOw==', '/fileadmin/_processed_/8/a/csm_trophee-des-femmes-prix-debut-prometteur-2023-1344x840_72d113e61b.jpg', 'data:image/gif;base64,R0lGODlhAQABAIAAAP///wAAACH5BAEAAAAALAAAAAABAAEAAAICRAEAOw==', '/fileadmin/_processed_/9/5/csm_journee-immersion-1344x756_607813ddcf.jpg', 'data:image/gif;base64,R0lGODlhAQABAIAAAP///wAAACH5BAEAAAAALAAAAAABAAEAAAICRAEAOw==', '/fileadmin/_processed_/4/5/csm_game-jam-esiee-paris_1eab0ad4b5.png', 'data:image/gif;base64,R0lGODlhAQABAIAAAP///wAAACH5BAEAAAAALAAAAAABAAEAAAICRAEAOw==', '/fileadmin/_processed_/2/5/csm_conference-ia-science-trash-1344x840_fb17ec22a3.jpg', 'data:image/gif;base64,R0lGODlhAQABAIAAAP///wAAACH5BAEAAAAALAAAAAABAAEAAAICRAEAOw==', '/fileadmin/_processed_/f/0/csm_illustration-ingenieuses-2023-1344x840_85927aa5e2.jpg', 'data:image/gif;base64,R0lGODlhAQABAIAAAP///wAAACH5BAEAAAAALAAAAAABAAEAAAICRAEAOw==', '/fileadmin/_processed_/6/0/csm_illustration-best-paper-award-1344x840_6724a73fb6.jpg', 'data:image/gif;base64,R0lGODlhAQABAIAAAP///wAAACH5BAEAAAAALAAAAAABAAEAAAICRAEAOw==', '/fileadmin/_processed_/5/d/csm_signature-partenariat-orange-mai-2023-1344x840_eece6c482f.jpg', 'data:image/gif;base64,R0lGODlhAQABAIAAAP///wAAACH5BAEAAAAALAAAAAABAAEAAAICRAEAOw==', '/fileadmin/_processed_/b/0/csm_camille-fahy-cycliste-1344x756_af0832b451.jpg', 'data:image/gif;base64,R0lGODlhAQABAIAAAP///wAAACH5BAEAAAAALAAAAAABAAEAAAICRAEAOw==', '/fileadmin/_processed_/3/2/csm_olivier-francais-1344x840_d151119c68.jpg', 'data:image/gif;base64,R0lGODlhAQABAIAAAP///wAAACH5BAEAAAAALAAAAAABAAEAAAICRAEAOw==', '/fileadmin/_processed_/3/c/csm_logo-actu-cwur-1344x840_96aa069e0e.jpg', 'data:image/gif;base64,R0lGODlhAQABAIAAAP///wAAACH5BAEAAAAALAAAAAABAAEAAAICRAEAOw==', '/fileadmin/_processed_/e/a/csm_story-classements-540x960_1f891460f0.jpg', 'data:image/gif;base64,R0lGODlhAQABAIAAAP///wAAACH5BAEAAAAALAAAAAABAAEAAAICRAEAOw==', '/fileadmin/_processed_/b/4/csm_carte-grand-paris-1344x756_f1f626f07b.jpg', 'data:image/gif;base64,R0lGODlhAQABAIAAAP///wAAACH5BAEAAAAALAAAAAABAAEAAAICRAEAOw==', '/fileadmin/_processed_/7/0/csm_story-feminisation-540x960_6e3222ad89.jpg', 'data:image/gif;base64,R0lGODlhAQABAIAAAP///wAAACH5BAEAAAAALAAAAAABAAEAAAICRAEAOw==', '/fileadmin/_processed_/1/3/csm_test-T20-image_2c0b9a4f93.png', 'data:image/gif;base64,R0lGODlhAQABAIAAAP///wAAACH5BAEAAAAALAAAAAABAAEAAAICRAEAOw==', '/fileadmin/_processed_/0/f/csm_illustration-recherche-galette-1920x1080_a24a19d4b2.jpg', 'data:image/gif;base64,R0lGODlhAQABAIAAAP///wAAACH5BAEAAAAALAAAAAABAAEAAAICRAEAOw==', '/fileadmin/user_upload/Fichiers/entreprises/recruter-apprentis/illustration-travaux-groupe-1920x1080.jpg', 'data:image/gif;base64,R0lGODlhAQABAIAAAP///wAAACH5BAEAAAAALAAAAAABAAEAAAICRAEAOw==', '/fileadmin/user_upload/Fichiers/entreprises/illustration-innovation-abstaite-1920x1080.jpg', 'data:image/gif;base64,R0lGODlhAQABAIAAAP///wAAACH5BAEAAAAALAAAAAABAAEAAAICRAEAOw==', '/fileadmin/user_upload/Fichiers/recherche/illustration-salles-blanches-facade-exterieur-1920x1080.jpg', 'data:image/gif;base64,R0lGODlhAQABAIAAAP///wAAACH5BAEAAAAALAAAAAABAAEAAAICRAEAOw==', '/fileadmin/user_upload/Fichiers/entreprises/illustration-entretien-poignee-mains-1920x1080.jpg', 'data:image/gif;base64,R0lGODlhAQABAIAAAP///wAAACH5BAEAAAAALAAAAAABAAEAAAICRAEAOw==', '/fileadmin/_processed_/d/8/csm_HappyAtSchool_243c0a85a1.png', 'data:image/gif;base64,R0lGODlhAQABAIAAAP///wAAACH5BAEAAAAALAAAAAABAAEAAAICRAEAOw==', '/fileadmin/_processed_/0/9/csm_blank-profile-picture-bleu-400x400_00479b2092.png', 'data:image/gif;base64,R0lGODlhAQABAIAAAP///wAAACH5BAEAAAAALAAAAAABAAEAAAICRAEAOw==', '/fileadmin/_processed_/e/5/csm_blank-profile-picture-rose-400-x-400_ed015df7e9.png', 'data:image/gif;base64,R0lGODlhAQABAIAAAP///wAAACH5BAEAAAAALAAAAAABAAEAAAICRAEAOw==', '/fileadmin/_processed_/0/4/csm_blank-profile-picture-bleu2_400_x_400_97b4966771.png', 'data:image/gif;base64,R0lGODlhAQABAIAAAP///wAAACH5BAEAAAAALAAAAAABAAEAAAICRAEAOw==', '/fileadmin/_processed_/1/1/csm_blank-profile-picture-vert-400-x-400_d335e61b02.png', 'data:image/gif;base64,R0lGODlhAQABAIAAAP///wAAACH5BAEAAAAALAAAAAABAAEAAAICRAEAOw==', '/fileadmin/_processed_/0/9/csm_blank-profile-picture-bleu-400x400_00479b2092.png', 'data:image/gif;base64,R0lGODlhAQABAIAAAP///wAAACH5BAEAAAAALAAAAAABAAEAAAICRAEAOw==', '/fileadmin/_processed_/e/5/csm_blank-profile-picture-rose-400-x-400_ed015df7e9.png', 'data:image/gif;base64,R0lGODlhAQABAIAAAP///wAAACH5BAEAAAAALAAAAAABAAEAAAICRAEAOw==', '/fileadmin/_processed_/0/4/csm_blank-profile-picture-bleu2_400_x_400_97b4966771.png', 'data:image/gif;base64,R0lGODlhAQABAIAAAP///wAAACH5BAEAAAAALAAAAAABAAEAAAICRAEAOw==', '/fileadmin/_processed_/1/1/csm_blank-profile-picture-vert-400-x-400_d335e61b02.png', 'data:image/gif;base64,R0lGODlhAQABAIAAAP///wAAACH5BAEAAAAALAAAAAABAAEAAAICRAEAOw==', '/fileadmin/_processed_/0/9/csm_blank-profile-picture-bleu-400x400_00479b2092.png', 'data:image/gif;base64,R0lGODlhAQABAIAAAP///wAAACH5BAEAAAAALAAAAAABAAEAAAICRAEAOw==', '/fileadmin/_processed_/e/5/csm_blank-profile-picture-rose-400-x-400_ed015df7e9.png', 'data:image/gif;base64,R0lGODlhAQABAIAAAP///wAAACH5BAEAAAAALAAAAAABAAEAAAICRAEAOw==', '/fileadmin/_processed_/0/4/csm_blank-profile-picture-bleu2_400_x_400_97b4966771.png', 'data:image/gif;base64,R0lGODlhAQABAIAAAP///wAAACH5BAEAAAAALAAAAAABAAEAAAICRAEAOw==', '/fileadmin/_processed_/0/1/csm_CGE_RVB_c8cfe1001b.png', 'data:image/gif;base64,R0lGODlhAQABAIAAAP///wAAACH5BAEAAAAALAAAAAABAAEAAAICRAEAOw==', '/fileadmin/_processed_/a/0/csm_cti_logo.svg_64c64e06e1.png', 'data:image/gif;base64,R0lGODlhAQABAIAAAP///wAAACH5BAEAAAAALAAAAAABAAEAAAICRAEAOw==', '/fileadmin/_processed_/e/1/csm_EUR-ACE_52594b329c.png', 'data:image/gif;base64,R0lGODlhAQABAIAAAP///wAAACH5BAEAAAAALAAAAAABAAEAAAICRAEAOw==', '/fileadmin/_processed_/6/e/csm_1200px-DL_04_Dip_Ing.svg_0873c534da.png', '/typo3conf/ext/esiee_sitepackage/Resources/Public/imgs/svg/logo-esiee-footer.svg', '/typo3conf/ext/esiee_sitepackage/Resources/Public/imgs/svg/logo-cci-paris-ile-de-france-education.svg', '/typo3conf/ext/esiee_sitepackage/Resources/Public/imgs/svg/logo-univ-gustave-eiffel.svg'], 'external_links': ['http://esiee.jobteaser.com/fr/recruiter_account/job_offers', 'https://www.cge.asso.fr/', 'https://www.cti-commission.fr/', 'https://www.cti-commission.fr/la-cti/demarche-qualite/systeme-qe/eur-ace', 'https://www.enseignementsup-recherche.gouv.fr/fr/labels-des-formations-controlees-par-l-etat-46088', 'https://www.facebook.com/esieeparis', 'https://www.instagram.com/esieeparis/', 'https://www.linkedin.com/edu/school?id=20041&trk=tyah&trkInfo=idx%3A4-1-4%2CtarId%3A1425998561386%2Ctas%3Aesiee+paris', 'https://twitter.com/ESIEEPARIS', 'http://www.youtube.com/esieeparis', 'https://www.cci-paris-idf.fr/fr/education', 'https://www.univ-gustave-eiffel.fr/', 'https://www.esiee.fr/actualites/classements'], 'text': '\\n\\n\\n\\n\\nESIEE Paris, l\\'école de l\\'innovation technologique | ESIEE Paris\\n\\n\\n\\n\\n\\n\\n\\n\\n\\n\\n\\n\\n\\n\\n\\n\\n\\n\\n\\n\\n\\n\\n\\n\\nAller au contenu\\nAller au menu\\nPlan du site\\n\\n\\n\\n\\n\\n\\n\\nBien choisir son école, c\\'est aussi la rencontrer  ! Rendez-vous à la prochaine journée portes ouvertes le 9 décembre.\\n\\n\\n\\n\\n\\nMasquer l\\'alerte\\n\\n\\n\\n\\n\\n\\n\\n\\n\\n\\n\\n\\n\\n\\nBrochuresEspace élèves\\n\\n\\n\\nFr\\n\\n\\n\\n\\nEn\\n\\n\\n\\n\\n\\n\\n\\n\\n\\nAfficherMasquer la recherche\\r\\n\\t\\t\\n\\n\\n\\nSaisissez votre recherche\\xa0:\\n\\nLancer la recherche\\n\\n\\n\\nCandidater\\n\\nAfficherMasquer le menu\\n\\n\\n\\n\\n\\nRetour au menu principalAfficherMasquer le sous menu\\xa0: L\\'écolePourquoi choisir ESIEE Paris ?AfficherMasquer le sous menu\\xa0: Gouvernance et conseilsGouvernance et conseilsConseil scientifiqueAfficherMasquer le sous menu\\xa0: Départements d\\'enseignements et de rechercheInformatique et télécommunicationsIngénierie des systèmes cyberphysiquesIngénierie industrielleSanté, énergie et environnement durableManagement, sciences humaines et languesCorps professoralAfficherMasquer le sous menu\\xa0: Salles blanchesSalles blanchesÉquipements et procédésFormationRechercheCollaborations industriellesAfficherMasquer le sous menu\\xa0: AlumniLe réseauWall of fameVisite virtuelle ESIEE ParisESIEE Paris recruteLocation d\\'espacesfermer le sous menu\\xa0:L\\'écoleAfficherMasquer le sous menu\\xa0: FormationsLes formations ESIEE ParisAfficherMasquer le sous menu\\xa0: IngénieurIngénieur à ESIEE ParisLe premier cycleLe cycle ingénieurDouble-diplômesAfficherMasquer le sous menu\\xa0: FilièresNos filièresInformatiqueCybersécuritéData science et intelligence artificielleArtificial intelligence and cybersecuritySystèmes embarquésSystèmes électroniques intelligentsGénie industrielBiotechnologies et e-santéEnergieIMACStagesInsertion professionnelleFrais de scolarité et aides financièresAfficherMasquer le sous menu\\xa0: Ingénieur par apprentissageDevenir ingénieur par apprentissageInformatique et applicationsInformatique, design, architecture et développementRéseaux et sécuritéElectronique et informatiqueSystèmes embarquésGénie industrielGénie mécaniqueMaintenance et fiabilité des processus industrielsÉnergiesGénie civilDiplôme universitaire - DUBachelorAfficherMasquer le sous menu\\xa0: Programmes internationauxProgrammes internationauxFillière artificial intelligence and cybersecurityM.Sc Management of technology - Information systemsLicence professionnelleAfficherMasquer le sous menu\\xa0: Formation continueFormation continueAfficherMasquer le sous menu\\xa0: Programmes courts salles blanchesDécouverte des technologies de salles blanchesInitiation aux technologies de microfabricationfermer le sous menu\\xa0:FormationsAfficherMasquer le sous menu\\xa0: RechercheLa recherche à ESIEE Paris3 axes de rechercheProjets de rechercheLaboratoiresPublicationsPlateformes et équipementsPartenariats entrepriseSe former à la recherchefermer le sous menu\\xa0:RechercheAfficherMasquer le sous menu\\xa0: Vie de campusLa vie sur le campusAfficherMasquer le sous menu\\xa0: Services aux élèvesFinancer vos étudesAménagements d\\'étudeAssist\\'Étud et relais HandicapSantéLogementsVie associative et culturelleAfficherMasquer le sous menu\\xa0: RessourcesRessources numériquesEspace de travail partagéCentre de languesLaboratoires d\\'enseignementOrdinateurs portablesRestaurationSportfermer le sous menu\\xa0:Vie de campusAfficherMasquer le sous menu\\xa0: InternationalUne large ouverture à l\\'internationalPartenaires académiquesEtudiants en échangePartir étudier à l\\'internationalProgrammes internationauxOrganiser votre séjour à ESIEE ParisCampus à l\\'étrangerfermer le sous menu\\xa0:InternationalAfficherMasquer le sous menu\\xa0: EntreprisesEntreprisesDéposez une offreEntreprises partenairesDevenez partenaireAfficherMasquer le sous menu\\xa0: Recrutez des élèvesRecrutez vos stagiairesRecrutez vos apprentisDéveloppez vos projets technologiquesAfficherMasquer le sous menu\\xa0: Soutenez ESIEE ParisDevenez mécèneVersez votre taxe d\\'apprentissageFormez vos collaborateursfermer le sous menu\\xa0:Entreprises\\nBrochuresEspace élèves\\n\\n\\n\\n\\n\\n\\n\\nESIEE Paris, l’école de\\nl\\'innovation technologiqueESIEE Paris, n°2 des écoles d’ingénieurs post-bac d’Ile-de-France selon le Palmarès « L’Etudiant 2023 ».Venez aux journées portes ouvertes ESIEE ParisBien choisir son école, c\\'est aussi la rencontrer !Envie d’en savoir plus sur la réalité de la vie d’un élève en école d’ingénieurs ?Journées d\\'immersion à ESIEE Paris Mercredi 13 décembre 2023 ou mercredi 24 janvier 2024Barre de rechercheAfficherMasquer la recherche\\r\\n\\t\\tSaisissez votre recherche\\xa0:Lancer la rechercheDécouvrez ESIEE Paris ! Une école d\\'ingénieurs spécialisée dans les domaines des transitions numériques, énergétiques et environnementales. Parmi nos illustres anciens élèves, Marcel Dassault, fondateur du groupe Dassault Aviation et\\xa0Yann LeCun, à l\\'origine de la révolution actuelle de l\\'intelligence artificielle.Pourquoi choisir ESIEE Paris ?\\xa0Visite virtuelle\\n                Nos formationsIngénieur3 ou 5 ans, accès post-bac ou bac\\xa0+2/3 10 filièresIngénieur par apprentissage3\\xa0 ans, accès bac\\xa0+2/3 10 filièresProgrammes internationaux18 ou 24 mois, accès bachelor, bac\\xa0+4 2 programmesBachelor3 ans, accès post-bac 1 programmeLicence professionnelle1 an, accès bac\\xa0+2/3 1 programmeFormation continueProgrammes pour les professionnelsLes news de l\\'école\\n            \\n                \\n                    Portes ouvertes\\n                \\n            \\n                \\n                        09 décembre 2023                        \\n                                        \\n            ESIEE Paris vous ouvre ses portesSamedi 9 décembre 2023 | Samedi 3 février 2024 | Samedi 2 mars 2024\\n                \\n                    Entreprises\\n                \\n            \\n                16 novembre 2023                    \\n            Forum pour l’emploi ESIEE Paris : jeudi 16 novembre 2023Jeudi 16 novembre de 10  h à 17  h, ESIEE Paris organise son forum de recrutement annuel au sein de l’école. \\n                \\n                    Entreprises\\n                \\n            Des élèves ESIEE Paris participent au Concours jeunes talents Orange 2023Orange lance la 9e édition de son concours jeunes talents Orange sur le thème \"  Réduire ensemble l’impact...\\n                \\n                    Classements\\n                \\n            Classement thématique de Shanghai 2023 : L’Université Gustave Eiffel conforte sa place parmi les meilleures universités mondialesElle se démarque, cette année encore, dans 9 classements thématiques.  \\n                \\n                    Entreprises\\n                \\n            ESIEE Paris et Dassault Systèmes créent une cordée HandimanagementEn septembre dernier, ESIEE Paris a lancé une cordée Handimanagement en partenariat avec l’organisme Companieros et...\\n                \\n                    Féminisation\\n                \\n                    \\n                \\n            \\n                28 septembre 2023                    \\n            ESIEE Paris, partenaire des Trophées des femmes de l\\'industrie 2023Jean Mairesse, Directeur Général ESIEE Paris a eu le plaisir de remettre le \" Trophée de la femme au début prometteur \".\\n                \\n                    Immersion\\n                \\n                    \\n                \\n                    \\n                \\n            \\n                \\n                        13 décembre 2023                        \\n                                        \\n            \"L’ESIEE, c\\'est l\\'adopter !\" Journées d\\'immersion à ESIEE Paris Envie d’en savoir plus sur la réalité de la vie d’un élève en école d’ingénieurs ?\\n                \\n                    Evénements\\n                \\n            \\n                \\n                        \\n                                Du 20 septembre 2023\\n                                au 22 septembre 2023\\n                                                    \\n                                        \\n            Nouvelle édition de la Game Jam ESIEE Paris105 élèves ESIEE Paris ont conçu et développé des jeux vidéo sur un thème original. Découvrez leurs créations.\\n                \\n                    Actualités\\n                \\n            \"\\xa0L\\'IA détruira-t-elle l\\'humanité ?\\xa0\" : une table ronde en partenariat avec Science trashLe lundi 12 juin 2023 à ESIEE Paris a eu lieu une table ronde dans le but de répondre à la question suivante : \"  L\\'IA...\\n                \\n                    Féminisation\\n                \\n                    \\n                \\n            ESIEE Paris nominé lors de la 13e édition de l\\'opération \"\\xa0ingénieuses\\xa0\"Le projet \"  Et Si Ingénieur s\\'Écrivait avec un E  \", porté par ESIEE Paris a été nominé lors de l\\'édition 2023 de \" ...\\n                \\n                    Distinctions\\n                \\n                    \\n                \\n                    \\n                \\n            Veronica Belmega, enseignante-chercheuse à ESIEE Paris, remporte un Best Paper AwardDécouvrez son article sur la localisation dans les réseaux GNSS via machine (deep) learning.\\n                \\n                    Entreprises\\n                \\n            Orange et ESIEE Paris signent une convention de partenariatCe mercredi 31 mai 2023, Orange et ESIEE Paris ont signé un nouvelle convention de partenariat\\n                \\n                    Sport\\n                \\n                    \\n                \\n            Camille Fahy, étudiante à ESIEE Paris devient cycliste professionnelleCamille Fahy, étudiante en 2e année du premier cycle à ESIEE Paris a commencé le cyclisme en compétition dès l’âge de 11...\\n                \\n                    Actualités\\n                \\n                    \\n                \\n            Olivier Français est nommé nouveau doyen du corps professoral ESIEE ParisOlivier Français a été élu le jeudi 16 mars 2023 par l’ensemble de l’équipe enseignante ESIEE Paris en tant que nouveau...\\n                \\n                    Classements\\n                \\n                    \\n                \\n            L\\'université Gustave Eiffel parmi les 3% des meilleures universités au monde selon CWURLe 15 mai 2023, le Center for World University Rankings (CWUR) a publié son classement des 2 000 meilleurs...Classements\\n                \\n                    Story\\n                \\n                    \\n                \\n            26 mai 2023\\n                \\n                    Actualités\\n                \\n                    \\n                \\n            ESIEE Paris au coeur des nouvelles lignes du grand ParisDécouvrez la future gare et les deux nouvelles lignes de métro qui desserviront la gare de Noisy-Champs.Toutes ingénieures\\n                \\n                    Story\\n                \\n                    \\n                \\n                    \\n                \\n            Toutes les actualitésUn cadre unique où étudier, près de parisUne école en forme d\\'ordinateur. Découvrez notre vaste bâtiment à l\\'architecture futuriste implanté au coeur d\\'un campus de 17 000 étudiants, conçu par l\\'architecte Dominique Perrault.Découvrir le campusVisite virtuelleEn savoir plus\\n                Toutes les filièresInformatiqueIngénieurCybersécuritéIngénieurSystèmes embarqués Transports et objets intelligentsIngénieur par apprentissageInformatique, design, architecture et développementIngénieur par apprentissageInformatique et applicationsIngénierie 3D et technologie des médiasIngénieur par apprentissageArtificial intelligence and cybersecurityIngénieurDatascience et intelligence artificielleIngénieurRéseaux et sécurité Architecture et Internet des objectsIngénieur par apprentissageSystèmes embarquésIngénieurElectronique et informatiqueIngénieur par apprentissageM.Sc. Management of technology - Information systemsProgrammes internationauxMaster in Artificial intelligence and cybersecurityProgrammes internationauxLicence professionnelleMaintenance des systèmes industriels, de production et d’énergie maintenance industrielle et sûreté des processLicence professionnelleGénie industrielIngénieurGénie industrielSupply chain et numériqueIngénieur par apprentissageSystèmes électroniques intelligentsIngénieurGénie mécaniqueIngénieur par apprentissageBiotechnologies et e-santéIngénieurMaintenance et fiabilité des processus industrielsIngénieur par apprentissageEnergieIngénieurGénie civilIngénieur par apprentissageBachelorÉconomie, Sciences et Technologies Multimédia (BEST\\'m)BachelorEnergiesIngénierie de la transition énergétiqueIngénieur par apprentissageFormation d\\'ingénieur IMACIngénieur\\n                Vous rêvez d\\'une expérience à l\\'étranger ?Les élèves effectuent un séjour de 4 mois minimum à l\\'étranger.DécouvrirESIEE Paris\\xa0au coeur de la recherche3 axes de recherche, 5 plateformes technologiques, des formations doctorales, de nombreux partenariats entreprises.Découvrir la recherche à ESIEE Paris\\n                Relations entreprisesNos services dédiés pour mieux vous accompagner\\n            Recrutez nos étudiantsDéveloppez vos projets technologiquesDécouvrez les salles blanchesSoutenez nos projets97\\xa0%\\r\\n                        des jeunes diplômés ont trouvé leur 1er emploi 6 mois après leur sortie (promo 2022)84\\xa0%\\r\\n                        des élèves ont trouvé un contrat avant même la fin de leur formation42\\xa0072\\xa0€\\r\\n                        Salaire moyen d\\'embauche (brut) annuel France et internationalTémoignagesElève ESIEE ParisAvis certifié Happy at School\" Ce qui me plait le plus, c\\'est sans aucun doute l\\'ambiance. Les étudiants y sont tous très gentils, à l\\'écoute, et très ouverts. A cela j\\'ajoute la vie associative, riche et pleine d\\'opportunités. J\\'adore ! \"Elève ESIEE ParisAvis certifié Happy at School\" Un atout : la relation que nous avons avec les profs. Ils sont toujours là pour répondre à nos questions même hors des cours et veulent notre réussite. \"Elève ESIEE ParisAvis certifié Happy at School\" La bonne ambiance, le cadre de travail , les nombreux espaces de travail, les formations proposées et le lien avec les entreprises. \"Elève ESIEE ParisAvis certifié Happy at School\" La proximité avec le corps enseignant. Post assistance : possibilité de contacter facilement un enseignant en cas de question. \"Elève ESIEE ParisAvis certifié Happy at School\" L\\'associatif est très actif dans mon école, et nous avons un gymnase avec une salle de musculation à notre disposition. \"Elève ESIEE ParisAvis certifié Happy at School\" L’ambiance, la proximité des étudiants, les événements associatifs, culturels organisés par le BDE et par l’école (journée des entreprises, Potluck, Future Days, Octobre rose…). \"Elève ESIEE ParisAvis certifié Happy at School\" Les étudiants sont tous ouverts d’esprit et ultra bienveillants. De même pour les professeurs qui sont disponibles et à l’écoute. Je peux demander à un élève en dernière année de m’aider sur un sujet et sans hésitation, il le fera ! \"Elève ESIEE ParisAvis certifié Happy at School\" L\\'école pousse les élèves à être plus autonomes et à faire leur propre projet. Elle développe leurs qualités de leadership mais aussi artistiques pour faire des ingénieurs innovants. \"Elève ESIEE ParisAvis certifié Happy at School\" Le grand choix d\\'activités dans lesquelles s\\'engager (entreprenariat / apprentissage / associatif / double diplôme...). \" \\xa0Elève ESIEE ParisAvis certifié Happy at School\" Engagement important de la part des étudiants envers l\\'inclusion des autres et le maintien d\\'un sentiment de sécurité (lutte contre les VSS par ex). \"Elève ESIEE ParisAvis certifié Happy at School\" Les professeurs ont vraiment envie que les étudiants apprennent donc sont prêts à apporter leur aide en cas de besoin. Quant aux élèves, tous sont dans le respect les uns envers les autres et dans un esprit de solidarité. \"Contactez nos ambassadeurs\\nBack to the top of the page\\n\\n\\n\\n\\n\\n\\n\\n\\n\\n\\n\\n\\n\\n\\n\\nVous avez des questions ?\\nEtudiants, parents, entreprises... Vous souhaitez obtenir des informations, contacter directemment nos équipes.\\n\\nNous contacterNous rencontrer\\n\\n\\n\\n\\n\\n\\n\\n\\n\\n\\n\\n\\n\\n\\n\\n\\n\\n\\xa001 45 92 65 00\\nNous rejoindre 27 avenue André-Marie Ampère 77420 Champs-sur-Marne Plan d’accès\\nEnvoyer un courrier 2 boulevard Blaise Pascal Cité Descartes, BP 99 93162 Noisy-le-Grand Cedex\\n\\n\\n\\nAccès rapidePlan d\\'accèsESIEE Paris recruteNos brochuresLe Jour des ProjetsVisite virtuelleEtudiantes et étudiantsClassementAmbassadeursLogementsAides financièresProfessionnelsPresseSalles blanchesLocation d\\'espacesRecruter nos élèvesAlumniWall of fame\\n\\n\\n\\n\\n\\n\\n\\nMentions LégalesProtection des donnéesPlan du site\\nGestion des cookies\\n\\n\\n\\n\\n\\n\\n\\n\\n\\n\\n\\n\\n\\n\\n\\n\\n\\n\\n\\n\\n\\n\\n'}\n"
     ]
    }
   ],
   "source": [
    "import requests\n",
    "from bs4 import BeautifulSoup\n",
    "import random\n",
    "import json\n",
    "\n",
    "class WebScraper:\n",
    "    def __init__(self):\n",
    "        self.user_agents = [\n",
    "            \"Mozilla/5.0 (Windows NT 10.0; Win64; x64) AppleWebKit/537.36 (KHTML, like Gecko) Chrome/58.0.3029.110 Safari/537.3\",\n",
    "        ]\n",
    "\n",
    "    def get_random_user_agent(self):\n",
    "        return random.choice(self.user_agents)\n",
    "\n",
    "    def get_soup(self, url):\n",
    "        headers = {'User-Agent': self.get_random_user_agent()}\n",
    "        response = requests.get(url, headers=headers)\n",
    "        return BeautifulSoup(response.text, 'html.parser')\n",
    "\n",
    "    def parse_page(self, url):\n",
    "        soup = self.get_soup(url)\n",
    "        title = soup.find('title').text\n",
    "        h1_tags = [h1.text for h1 in soup.find_all('h1')]\n",
    "        img_links = [img['src'] for img in soup.find_all('img')]\n",
    "        external_links = [a['href'] for a in soup.find_all('a', href=True) if a['href'].startswith('http')]\n",
    "        text_content = soup.get_text()\n",
    "        return {'title': title, 'h1_tags': h1_tags, 'img_links': img_links, 'external_links': external_links, 'text': text_content}\n",
    "\n",
    "    # Méthode pour parser un sitemap et stocker dans un JSON\n",
    "    def parse_sitemap(self, sitemap_url):\n",
    "        # La logique de parsing du sitemap va ici\n",
    "        pass\n",
    "\n",
    "scraper = WebScraper()\n",
    "page_data = scraper.parse_page('https://www.esiee.fr')\n",
    "print(page_data)"
   ]
  },
  {
   "cell_type": "markdown",
   "metadata": {},
   "source": [
    "# Exploitation des appels d'API\n"
   ]
  },
  {
   "cell_type": "markdown",
   "metadata": {},
   "source": [
    "\n",
    "Losque le front du site récupère des données sur une API géré par le back, un appel d'API est réalisé. Cet appel est recensé dans les appels réseaux. Il est alors possible de re-jouer cet appel pour récupérer à nouveau les données. Il est très facile de récupérer ces appels dans l'onglet Network de la console développeur de Chrome ou FireFox. La console vous permet de copier le code CURL pour effectuée et vous pouvez ensuite la transformer en code Python depuis le site https://curl.trillworks.com/.\n",
    "\n",
    "Souvent les APIs sont bloquées avec certain paramètres. L'API verifie que dans les headers de la requêtes HTTP ces paramètres sont présents : * un token généré à la volée avec des protocole OAuth2 (ou moins développés). * un referer provenant du site web (la source de la requête), très facile à falsifier.\n",
    "\n"
   ]
  },
  {
   "cell_type": "markdown",
   "metadata": {},
   "source": [
    "## Exercice \n",
    "### Exercice 4\n",
    "\n",
    "- Utiliser les informations développées plus haut pour récupérer les premiers résultats d'une recherche d'une requête\n",
    "sur Qwant. \n",
    "\n",
    "Tips : \n",
    "\n",
    "- Aller sur https://www.qwant.com/\n",
    "- Ouvrir les outils de développements de Chrome ou Firefox\n",
    "- Onglet Network\n",
    "- Fouiller dans les requêtes"
   ]
  },
  {
   "cell_type": "markdown",
   "metadata": {},
   "source": [
    "# Exercice Final  "
   ]
  },
  {
   "cell_type": "markdown",
   "metadata": {},
   "source": [
    "Exercice Final\n",
    "Utilisez tout ce que vous avez appris pour récupérer des articles de News avec une catégorie. Il est souvent intéressant de partir des flux RSS pour commencer :\n",
    "\n",
    "Les données doivent comprendre :\n",
    "- Le texte important propre\n",
    "- L'url\n",
    "- Le domaine\n",
    "- la catégorie\n",
    "- Le titre de l'article\n",
    "- Le titre de la page\n",
    "- (Facultatif) : les images\n",
    "\n",
    "Tips : \n",
    "\n",
    "- Taper le nom de votre média favoris + RSS (par exemple : https://www.lemonde.fr/rss/)\n",
    "- Aller dans le DOM de la page \n",
    "- Trouver les catégories et les liens vers les articles"
   ]
  },
  {
   "cell_type": "code",
   "execution_count": null,
   "metadata": {},
   "outputs": [],
   "source": []
  }
 ],
 "metadata": {
  "kernelspec": {
   "display_name": "Python 3",
   "language": "python",
   "name": "python3"
  },
  "language_info": {
   "codemirror_mode": {
    "name": "ipython",
    "version": 3
   },
   "file_extension": ".py",
   "mimetype": "text/x-python",
   "name": "python",
   "nbconvert_exporter": "python",
   "pygments_lexer": "ipython3",
   "version": "3.11.5"
  }
 },
 "nbformat": 4,
 "nbformat_minor": 2
}
